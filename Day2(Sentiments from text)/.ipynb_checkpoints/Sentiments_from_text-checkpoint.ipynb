{
 "cells": [
  {
   "cell_type": "code",
   "execution_count": 1,
   "id": "38b646f9-d6f3-4d50-bb95-e577b7d2ce94",
   "metadata": {},
   "outputs": [
    {
     "name": "stdout",
     "output_type": "stream",
     "text": [
      "showing info https://raw.githubusercontent.com/nltk/nltk_data/gh-pages/index.xml\n"
     ]
    },
    {
     "data": {
      "text/plain": [
       "True"
      ]
     },
     "execution_count": 1,
     "metadata": {},
     "output_type": "execute_result"
    }
   ],
   "source": [
    "import nltk\n",
    "\n",
    "nltk.download()"
   ]
  },
  {
   "cell_type": "code",
   "execution_count": 18,
   "id": "e581ea01-9b09-4bdf-b81a-19caaa511060",
   "metadata": {},
   "outputs": [],
   "source": [
    "words = [w for w in nltk.corpus.state_union.words() if w.isalpha()] #  build a list of individual words that are only made up of letters"
   ]
  },
  {
   "cell_type": "code",
   "execution_count": 16,
   "id": "f973af14-acd6-4656-946e-1bc6381b53c8",
   "metadata": {},
   "outputs": [],
   "source": [
    "stopwords = nltk.corpus.stopwords.words(\"english\") # creating a list of stopwords(words that don't have much meaning in themselves)"
   ]
  },
  {
   "cell_type": "code",
   "execution_count": 19,
   "id": "83de9dc9-4878-46bc-a31b-94737e5a3049",
   "metadata": {},
   "outputs": [],
   "source": [
    "words_filtered = [w for w in words if w.lower() not in stopwords] # remove stop words from the list"
   ]
  },
  {
   "cell_type": "code",
   "execution_count": 23,
   "id": "66cd67bd-70e7-45c2-bb0c-38467e678847",
   "metadata": {},
   "outputs": [],
   "source": [
    "words_filtered: list[str] = nltk.word_tokenize(text)\n",
    "fd = nltk.FreqDist(words)"
   ]
  },
  {
   "cell_type": "code",
   "execution_count": 46,
   "id": "3e62c562-f37f-451e-91e1-321df985847a",
   "metadata": {},
   "outputs": [
    {
     "name": "stdout",
     "output_type": "stream",
     "text": [
      "  the    of    to   and    in     a   our    we  that   for    is     I  will  have    be  this   are    We    on  with    it    by    as   all   not  must   The     s   can  more \n",
      "19191 12854 11868 11748  6936  5837  5141  4338  4309  4070  3621  3394  2959  2486  2481  2323  2273  2063  1857  1825  1767  1717  1663  1612  1591  1568  1520  1410  1396  1369 \n"
     ]
    }
   ],
   "source": [
    "fd.most_common(30)\n",
    "fd.tabulate(30)"
   ]
  },
  {
   "cell_type": "code",
   "execution_count": 47,
   "id": "4a11c411-408b-4bc7-b257-b534aa73339d",
   "metadata": {},
   "outputs": [],
   "source": [
    "lower_fd = nltk.FreqDist([w.lower() for w in fd]) # bringing all the words to the lower case"
   ]
  },
  {
   "cell_type": "code",
   "execution_count": 50,
   "id": "e0092314-392a-4fd4-86d7-77bd1beb7bf6",
   "metadata": {},
   "outputs": [
    {
     "name": "stdout",
     "output_type": "stream",
     "text": [
      "       the         of         to        and         in        our         we        for         be       this         on       with        all      world       year       from        new   congress         at         an      peace    federal    program government        war   economic      great     united        tax   national \n",
      "         3          3          3          3          3          3          3          3          3          3          3          3          3          3          3          3          3          3          3          3          3          3          3          3          3          3          3          3          3          3 \n"
     ]
    }
   ],
   "source": [
    "lower_fd.most_common(30)\n",
    "lower_fd.tabulate(30)"
   ]
  },
  {
   "cell_type": "code",
   "execution_count": null,
   "id": "dbd477bc-0ef9-42b6-ba4c-2cbfeafe0a38",
   "metadata": {},
   "outputs": [],
   "source": []
  }
 ],
 "metadata": {
  "kernelspec": {
   "display_name": "Python 3 (ipykernel)",
   "language": "python",
   "name": "python3"
  },
  "language_info": {
   "codemirror_mode": {
    "name": "ipython",
    "version": 3
   },
   "file_extension": ".py",
   "mimetype": "text/x-python",
   "name": "python",
   "nbconvert_exporter": "python",
   "pygments_lexer": "ipython3",
   "version": "3.9.12"
  }
 },
 "nbformat": 4,
 "nbformat_minor": 5
}
