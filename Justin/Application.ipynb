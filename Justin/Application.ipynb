{
  "cells": [
    {
      "cell_type": "markdown",
      "metadata": {
        "id": "view-in-github",
        "colab_type": "text"
      },
      "source": [
        "<a href=\"https://colab.research.google.com/github/elyesaseidel/motion-to-emotion/blob/main/Justin/Application.ipynb\" target=\"_parent\"><img src=\"https://colab.research.google.com/assets/colab-badge.svg\" alt=\"Open In Colab\"/></a>"
      ]
    },
    {
      "cell_type": "markdown",
      "source": [
        "# Import "
      ],
      "metadata": {
        "id": "rXP2ns34tN44"
      }
    },
    {
      "cell_type": "code",
      "execution_count": 2,
      "metadata": {
        "id": "QZ1AvmembRUK",
        "colab": {
          "base_uri": "https://localhost:8080/",
          "height": 1000
        },
        "outputId": "b8bdb6f2-f5ef-427c-d46b-8706e5a6603d"
      },
      "outputs": [
        {
          "output_type": "stream",
          "name": "stdout",
          "text": [
            "Looking in indexes: https://pypi.org/simple, https://us-python.pkg.dev/colab-wheels/public/simple/\n",
            "Collecting SpeechRecognition\n",
            "  Downloading SpeechRecognition-3.9.0-py2.py3-none-any.whl (32.8 MB)\n",
            "\u001b[2K     \u001b[90m━━━━━━━━━━━━━━━━━━━━━━━━━━━━━━━━━━━━━━━━\u001b[0m \u001b[32m32.8/32.8 MB\u001b[0m \u001b[31m8.4 MB/s\u001b[0m eta \u001b[36m0:00:00\u001b[0m\n",
            "\u001b[?25hCollecting requests>=2.26.0\n",
            "  Downloading requests-2.28.2-py3-none-any.whl (62 kB)\n",
            "\u001b[2K     \u001b[90m━━━━━━━━━━━━━━━━━━━━━━━━━━━━━━━━━━━━━━━━\u001b[0m \u001b[32m62.8/62.8 KB\u001b[0m \u001b[31m2.9 MB/s\u001b[0m eta \u001b[36m0:00:00\u001b[0m\n",
            "\u001b[?25hRequirement already satisfied: charset-normalizer<4,>=2 in /usr/local/lib/python3.8/dist-packages (from requests>=2.26.0->SpeechRecognition) (2.1.1)\n",
            "Requirement already satisfied: urllib3<1.27,>=1.21.1 in /usr/local/lib/python3.8/dist-packages (from requests>=2.26.0->SpeechRecognition) (1.24.3)\n",
            "Requirement already satisfied: idna<4,>=2.5 in /usr/local/lib/python3.8/dist-packages (from requests>=2.26.0->SpeechRecognition) (2.10)\n",
            "Requirement already satisfied: certifi>=2017.4.17 in /usr/local/lib/python3.8/dist-packages (from requests>=2.26.0->SpeechRecognition) (2022.12.7)\n",
            "Installing collected packages: requests, SpeechRecognition\n",
            "  Attempting uninstall: requests\n",
            "    Found existing installation: requests 2.25.1\n",
            "    Uninstalling requests-2.25.1:\n",
            "      Successfully uninstalled requests-2.25.1\n",
            "Successfully installed SpeechRecognition-3.9.0 requests-2.28.2\n",
            "\u001b[2K     \u001b[90m━━━━━━━━━━━━━━━━━━━━━━━━━━━━━━━━━━━━━━━━\u001b[0m \u001b[32m9.3/9.3 MB\u001b[0m \u001b[31m32.2 MB/s\u001b[0m eta \u001b[36m0:00:00\u001b[0m\n",
            "\u001b[2K     \u001b[90m━━━━━━━━━━━━━━━━━━━━━━━━━━━━━━━━━━━━━━\u001b[0m \u001b[32m239.0/239.0 KB\u001b[0m \u001b[31m15.4 MB/s\u001b[0m eta \u001b[36m0:00:00\u001b[0m\n",
            "\u001b[2K     \u001b[90m━━━━━━━━━━━━━━━━━━━━━━━━━━━━━━━━━━━━━━\u001b[0m \u001b[32m184.0/184.0 KB\u001b[0m \u001b[31m13.6 MB/s\u001b[0m eta \u001b[36m0:00:00\u001b[0m\n",
            "\u001b[2K     \u001b[90m━━━━━━━━━━━━━━━━━━━━━━━━━━━━━━━━━━━━━━━\u001b[0m \u001b[32m164.8/164.8 KB\u001b[0m \u001b[31m8.0 MB/s\u001b[0m eta \u001b[36m0:00:00\u001b[0m\n",
            "\u001b[2K     \u001b[90m━━━━━━━━━━━━━━━━━━━━━━━━━━━━━━━━━━━━━━━━\u001b[0m \u001b[32m4.7/4.7 MB\u001b[0m \u001b[31m51.8 MB/s\u001b[0m eta \u001b[36m0:00:00\u001b[0m\n",
            "\u001b[?25h  Preparing metadata (setup.py) ... \u001b[?25l\u001b[?25hdone\n",
            "\u001b[2K     \u001b[90m━━━━━━━━━━━━━━━━━━━━━━━━━━━━━━━━━━━━━━━━\u001b[0m \u001b[32m79.0/79.0 KB\u001b[0m \u001b[31m8.8 MB/s\u001b[0m eta \u001b[36m0:00:00\u001b[0m\n",
            "\u001b[2K     \u001b[90m━━━━━━━━━━━━━━━━━━━━━━━━━━━━━━━━━━━━━━━━\u001b[0m \u001b[32m62.7/62.7 KB\u001b[0m \u001b[31m5.2 MB/s\u001b[0m eta \u001b[36m0:00:00\u001b[0m\n",
            "\u001b[2K     \u001b[90m━━━━━━━━━━━━━━━━━━━━━━━━━━━━━━━━━━━━━━━━\u001b[0m \u001b[32m84.5/84.5 KB\u001b[0m \u001b[31m6.3 MB/s\u001b[0m eta \u001b[36m0:00:00\u001b[0m\n",
            "\u001b[2K     \u001b[90m━━━━━━━━━━━━━━━━━━━━━━━━━━━━━━━━━━━━━━━━\u001b[0m \u001b[32m1.1/1.1 MB\u001b[0m \u001b[31m48.6 MB/s\u001b[0m eta \u001b[36m0:00:00\u001b[0m\n",
            "\u001b[?25h  Building wheel for validators (setup.py) ... \u001b[?25l\u001b[?25hdone\n",
            "\u001b[31mERROR: pip's dependency resolver does not currently take into account all the packages that are installed. This behaviour is the source of the following dependency conflicts.\n",
            "ipython 7.9.0 requires jedi>=0.10, which is not installed.\u001b[0m\u001b[31m\n",
            "\u001b[0mLooking in indexes: https://pypi.org/simple, https://us-python.pkg.dev/colab-wheels/public/simple/\n",
            "Collecting pyngrok\n",
            "  Downloading pyngrok-5.2.1.tar.gz (761 kB)\n",
            "\u001b[2K     \u001b[90m━━━━━━━━━━━━━━━━━━━━━━━━━━━━━━━━━━━━━━\u001b[0m \u001b[32m761.3/761.3 KB\u001b[0m \u001b[31m13.2 MB/s\u001b[0m eta \u001b[36m0:00:00\u001b[0m\n",
            "\u001b[?25h  Preparing metadata (setup.py) ... \u001b[?25l\u001b[?25hdone\n",
            "Requirement already satisfied: PyYAML in /usr/local/lib/python3.8/dist-packages (from pyngrok) (6.0)\n",
            "Building wheels for collected packages: pyngrok\n",
            "  Building wheel for pyngrok (setup.py) ... \u001b[?25l\u001b[?25hdone\n",
            "  Created wheel for pyngrok: filename=pyngrok-5.2.1-py3-none-any.whl size=19792 sha256=571abd4e7859222cad078e2436b2c71bc384f4f64e30b830370984227f4197e2\n",
            "  Stored in directory: /root/.cache/pip/wheels/5d/f2/70/526da675d32f17577ec47ac4c663084efe39d47c826b6c3bb1\n",
            "Successfully built pyngrok\n",
            "Installing collected packages: pyngrok\n",
            "Successfully installed pyngrok-5.2.1\n",
            "Looking in indexes: https://pypi.org/simple, https://us-python.pkg.dev/colab-wheels/public/simple/\n",
            "Collecting python-settings\n",
            "  Downloading python_settings-0.2.2-py2.py3-none-any.whl (8.0 kB)\n",
            "Installing collected packages: python-settings\n",
            "Successfully installed python-settings-0.2.2\n",
            "Looking in indexes: https://pypi.org/simple, https://us-python.pkg.dev/colab-wheels/public/simple/\n",
            "Collecting synthesizer\n",
            "  Downloading synthesizer-0.2.0.tar.gz (5.4 kB)\n",
            "  Preparing metadata (setup.py) ... \u001b[?25l\u001b[?25hdone\n",
            "Collecting enum34>=1.1.6\n",
            "  Downloading enum34-1.1.10-py3-none-any.whl (11 kB)\n",
            "Requirement already satisfied: numpy>=1.13.3 in /usr/local/lib/python3.8/dist-packages (from synthesizer) (1.21.6)\n",
            "Requirement already satisfied: scipy>=0.19.1 in /usr/local/lib/python3.8/dist-packages (from synthesizer) (1.7.3)\n",
            "Building wheels for collected packages: synthesizer\n",
            "  Building wheel for synthesizer (setup.py) ... \u001b[?25l\u001b[?25hdone\n",
            "  Created wheel for synthesizer: filename=synthesizer-0.2.0-py2.py3-none-any.whl size=5896 sha256=114702a68a0ec00ca15cb04efe3a9fb119897ced2721358c4f9aa63cf9cb4f0e\n",
            "  Stored in directory: /root/.cache/pip/wheels/1e/a3/25/8b8c4afb55e573f4aee46678353677ba520d4d79503f4c8a28\n",
            "Successfully built synthesizer\n",
            "Installing collected packages: enum34, synthesizer\n",
            "Successfully installed enum34-1.1.10 synthesizer-0.2.0\n"
          ]
        },
        {
          "output_type": "display_data",
          "data": {
            "application/vnd.colab-display-data+json": {
              "pip_warning": {
                "packages": [
                  "enum"
                ]
              }
            }
          },
          "metadata": {}
        },
        {
          "output_type": "stream",
          "name": "stdout",
          "text": [
            "Looking in indexes: https://pypi.org/simple, https://us-python.pkg.dev/colab-wheels/public/simple/\n",
            "Requirement already satisfied: SpeechRecognition in /usr/local/lib/python3.8/dist-packages (3.9.0)\n",
            "Requirement already satisfied: moviepy in /usr/local/lib/python3.8/dist-packages (0.2.3.5)\n",
            "Requirement already satisfied: requests>=2.26.0 in /usr/local/lib/python3.8/dist-packages (from SpeechRecognition) (2.28.2)\n",
            "Requirement already satisfied: imageio<3.0,>=2.1.2 in /usr/local/lib/python3.8/dist-packages (from moviepy) (2.9.0)\n",
            "Requirement already satisfied: tqdm<5.0,>=4.11.2 in /usr/local/lib/python3.8/dist-packages (from moviepy) (4.64.1)\n",
            "Requirement already satisfied: decorator<5.0,>=4.0.2 in /usr/local/lib/python3.8/dist-packages (from moviepy) (4.4.2)\n",
            "Requirement already satisfied: numpy in /usr/local/lib/python3.8/dist-packages (from moviepy) (1.21.6)\n",
            "Requirement already satisfied: pillow in /usr/local/lib/python3.8/dist-packages (from imageio<3.0,>=2.1.2->moviepy) (7.1.2)\n",
            "Requirement already satisfied: idna<4,>=2.5 in /usr/local/lib/python3.8/dist-packages (from requests>=2.26.0->SpeechRecognition) (2.10)\n",
            "Requirement already satisfied: certifi>=2017.4.17 in /usr/local/lib/python3.8/dist-packages (from requests>=2.26.0->SpeechRecognition) (2022.12.7)\n",
            "Requirement already satisfied: charset-normalizer<4,>=2 in /usr/local/lib/python3.8/dist-packages (from requests>=2.26.0->SpeechRecognition) (2.1.1)\n",
            "Requirement already satisfied: urllib3<1.27,>=1.21.1 in /usr/local/lib/python3.8/dist-packages (from requests>=2.26.0->SpeechRecognition) (1.24.3)\n",
            "Looking in indexes: https://pypi.org/simple, https://us-python.pkg.dev/colab-wheels/public/simple/\n",
            "Requirement already satisfied: moviepy in /usr/local/lib/python3.8/dist-packages (0.2.3.5)\n",
            "Collecting moviepy\n",
            "  Downloading moviepy-1.0.3.tar.gz (388 kB)\n",
            "\u001b[2K     \u001b[90m━━━━━━━━━━━━━━━━━━━━━━━━━━━━━━━━━━━━━━━\u001b[0m \u001b[32m388.3/388.3 KB\u001b[0m \u001b[31m8.0 MB/s\u001b[0m eta \u001b[36m0:00:00\u001b[0m\n",
            "\u001b[?25h  Preparing metadata (setup.py) ... \u001b[?25l\u001b[?25hdone\n",
            "Requirement already satisfied: decorator<5.0,>=4.0.2 in /usr/local/lib/python3.8/dist-packages (from moviepy) (4.4.2)\n",
            "Requirement already satisfied: tqdm<5.0,>=4.11.2 in /usr/local/lib/python3.8/dist-packages (from moviepy) (4.64.1)\n",
            "Requirement already satisfied: requests<3.0,>=2.8.1 in /usr/local/lib/python3.8/dist-packages (from moviepy) (2.28.2)\n",
            "Collecting proglog<=1.0.0\n",
            "  Downloading proglog-0.1.10-py3-none-any.whl (6.1 kB)\n",
            "Requirement already satisfied: numpy>=1.17.3 in /usr/local/lib/python3.8/dist-packages (from moviepy) (1.21.6)\n",
            "Requirement already satisfied: imageio<3.0,>=2.5 in /usr/local/lib/python3.8/dist-packages (from moviepy) (2.9.0)\n",
            "Collecting imageio_ffmpeg>=0.2.0\n",
            "  Downloading imageio_ffmpeg-0.4.8-py3-none-manylinux2010_x86_64.whl (26.9 MB)\n",
            "\u001b[2K     \u001b[90m━━━━━━━━━━━━━━━━━━━━━━━━━━━━━━━━━━━━━━━━\u001b[0m \u001b[32m26.9/26.9 MB\u001b[0m \u001b[31m47.4 MB/s\u001b[0m eta \u001b[36m0:00:00\u001b[0m\n",
            "\u001b[?25hRequirement already satisfied: pillow in /usr/local/lib/python3.8/dist-packages (from imageio<3.0,>=2.5->moviepy) (7.1.2)\n",
            "Requirement already satisfied: urllib3<1.27,>=1.21.1 in /usr/local/lib/python3.8/dist-packages (from requests<3.0,>=2.8.1->moviepy) (1.24.3)\n",
            "Requirement already satisfied: idna<4,>=2.5 in /usr/local/lib/python3.8/dist-packages (from requests<3.0,>=2.8.1->moviepy) (2.10)\n",
            "Requirement already satisfied: certifi>=2017.4.17 in /usr/local/lib/python3.8/dist-packages (from requests<3.0,>=2.8.1->moviepy) (2022.12.7)\n",
            "Requirement already satisfied: charset-normalizer<4,>=2 in /usr/local/lib/python3.8/dist-packages (from requests<3.0,>=2.8.1->moviepy) (2.1.1)\n",
            "Building wheels for collected packages: moviepy\n",
            "  Building wheel for moviepy (setup.py) ... \u001b[?25l\u001b[?25hdone\n",
            "  Created wheel for moviepy: filename=moviepy-1.0.3-py3-none-any.whl size=110742 sha256=af6e08912f2a4fd8c7684a9ca4c2d85367d6a0b02a0733327d5472e9345687a0\n",
            "  Stored in directory: /root/.cache/pip/wheels/e4/a4/db/0368d3a04033da662e13926594b3a8cf1aa4ffeefe570cfac1\n",
            "Successfully built moviepy\n",
            "Installing collected packages: proglog, imageio_ffmpeg, moviepy\n",
            "  Attempting uninstall: moviepy\n",
            "    Found existing installation: moviepy 0.2.3.5\n",
            "    Uninstalling moviepy-0.2.3.5:\n",
            "      Successfully uninstalled moviepy-0.2.3.5\n",
            "Successfully installed imageio_ffmpeg-0.4.8 moviepy-1.0.3 proglog-0.1.10\n",
            "Looking in indexes: https://pypi.org/simple, https://us-python.pkg.dev/colab-wheels/public/simple/\n",
            "Collecting deepface\n",
            "  Downloading deepface-0.0.78-py3-none-any.whl (48 kB)\n",
            "\u001b[2K     \u001b[90m━━━━━━━━━━━━━━━━━━━━━━━━━━━━━━━━━━━━━━━━\u001b[0m \u001b[32m48.9/48.9 KB\u001b[0m \u001b[31m2.7 MB/s\u001b[0m eta \u001b[36m0:00:00\u001b[0m\n",
            "\u001b[?25hRequirement already satisfied: Pillow>=5.2.0 in /usr/local/lib/python3.8/dist-packages (from deepface) (7.1.2)\n",
            "Requirement already satisfied: numpy>=1.14.0 in /usr/local/lib/python3.8/dist-packages (from deepface) (1.21.6)\n",
            "Requirement already satisfied: gdown>=3.10.1 in /usr/local/lib/python3.8/dist-packages (from deepface) (4.4.0)\n",
            "Collecting retina-face>=0.0.1\n",
            "  Downloading retina_face-0.0.13-py3-none-any.whl (16 kB)\n",
            "Requirement already satisfied: tqdm>=4.30.0 in /usr/local/lib/python3.8/dist-packages (from deepface) (4.64.1)\n",
            "Collecting fire>=0.4.0\n",
            "  Downloading fire-0.5.0.tar.gz (88 kB)\n",
            "\u001b[2K     \u001b[90m━━━━━━━━━━━━━━━━━━━━━━━━━━━━━━━━━━━━━━━━\u001b[0m \u001b[32m88.3/88.3 KB\u001b[0m \u001b[31m5.3 MB/s\u001b[0m eta \u001b[36m0:00:00\u001b[0m\n",
            "\u001b[?25h  Preparing metadata (setup.py) ... \u001b[?25l\u001b[?25hdone\n",
            "Requirement already satisfied: keras>=2.2.0 in /usr/local/lib/python3.8/dist-packages (from deepface) (2.9.0)\n",
            "Requirement already satisfied: pandas>=0.23.4 in /usr/local/lib/python3.8/dist-packages (from deepface) (1.3.5)\n",
            "Collecting mtcnn>=0.1.0\n",
            "  Downloading mtcnn-0.1.1-py3-none-any.whl (2.3 MB)\n",
            "\u001b[2K     \u001b[90m━━━━━━━━━━━━━━━━━━━━━━━━━━━━━━━━━━━━━━━━\u001b[0m \u001b[32m2.3/2.3 MB\u001b[0m \u001b[31m39.0 MB/s\u001b[0m eta \u001b[36m0:00:00\u001b[0m\n",
            "\u001b[?25hRequirement already satisfied: tensorflow>=1.9.0 in /usr/local/lib/python3.8/dist-packages (from deepface) (2.9.2)\n",
            "Requirement already satisfied: opencv-python>=4.5.5.64 in /usr/local/lib/python3.8/dist-packages (from deepface) (4.6.0.66)\n",
            "Requirement already satisfied: Flask>=1.1.2 in /usr/local/lib/python3.8/dist-packages (from deepface) (1.1.4)\n",
            "Requirement already satisfied: six in /usr/local/lib/python3.8/dist-packages (from fire>=0.4.0->deepface) (1.15.0)\n",
            "Requirement already satisfied: termcolor in /usr/local/lib/python3.8/dist-packages (from fire>=0.4.0->deepface) (2.2.0)\n",
            "Requirement already satisfied: itsdangerous<2.0,>=0.24 in /usr/local/lib/python3.8/dist-packages (from Flask>=1.1.2->deepface) (1.1.0)\n",
            "Requirement already satisfied: Jinja2<3.0,>=2.10.1 in /usr/local/lib/python3.8/dist-packages (from Flask>=1.1.2->deepface) (2.11.3)\n",
            "Requirement already satisfied: click<8.0,>=5.1 in /usr/local/lib/python3.8/dist-packages (from Flask>=1.1.2->deepface) (7.1.2)\n",
            "Requirement already satisfied: Werkzeug<2.0,>=0.15 in /usr/local/lib/python3.8/dist-packages (from Flask>=1.1.2->deepface) (1.0.1)\n",
            "Requirement already satisfied: beautifulsoup4 in /usr/local/lib/python3.8/dist-packages (from gdown>=3.10.1->deepface) (4.6.3)\n",
            "Requirement already satisfied: requests[socks] in /usr/local/lib/python3.8/dist-packages (from gdown>=3.10.1->deepface) (2.28.2)\n",
            "Requirement already satisfied: filelock in /usr/local/lib/python3.8/dist-packages (from gdown>=3.10.1->deepface) (3.9.0)\n",
            "Requirement already satisfied: python-dateutil>=2.7.3 in /usr/local/lib/python3.8/dist-packages (from pandas>=0.23.4->deepface) (2.8.2)\n",
            "Requirement already satisfied: pytz>=2017.3 in /usr/local/lib/python3.8/dist-packages (from pandas>=0.23.4->deepface) (2022.7.1)\n",
            "Requirement already satisfied: libclang>=13.0.0 in /usr/local/lib/python3.8/dist-packages (from tensorflow>=1.9.0->deepface) (15.0.6.1)\n",
            "Requirement already satisfied: flatbuffers<2,>=1.12 in /usr/local/lib/python3.8/dist-packages (from tensorflow>=1.9.0->deepface) (1.12)\n",
            "Requirement already satisfied: packaging in /usr/local/lib/python3.8/dist-packages (from tensorflow>=1.9.0->deepface) (23.0)\n",
            "Requirement already satisfied: opt-einsum>=2.3.2 in /usr/local/lib/python3.8/dist-packages (from tensorflow>=1.9.0->deepface) (3.3.0)\n",
            "Requirement already satisfied: tensorboard<2.10,>=2.9 in /usr/local/lib/python3.8/dist-packages (from tensorflow>=1.9.0->deepface) (2.9.1)\n",
            "Requirement already satisfied: absl-py>=1.0.0 in /usr/local/lib/python3.8/dist-packages (from tensorflow>=1.9.0->deepface) (1.4.0)\n",
            "Requirement already satisfied: typing-extensions>=3.6.6 in /usr/local/lib/python3.8/dist-packages (from tensorflow>=1.9.0->deepface) (4.4.0)\n",
            "Requirement already satisfied: astunparse>=1.6.0 in /usr/local/lib/python3.8/dist-packages (from tensorflow>=1.9.0->deepface) (1.6.3)\n",
            "Requirement already satisfied: gast<=0.4.0,>=0.2.1 in /usr/local/lib/python3.8/dist-packages (from tensorflow>=1.9.0->deepface) (0.4.0)\n",
            "Requirement already satisfied: tensorflow-io-gcs-filesystem>=0.23.1 in /usr/local/lib/python3.8/dist-packages (from tensorflow>=1.9.0->deepface) (0.30.0)\n",
            "Requirement already satisfied: keras-preprocessing>=1.1.1 in /usr/local/lib/python3.8/dist-packages (from tensorflow>=1.9.0->deepface) (1.1.2)\n",
            "Requirement already satisfied: protobuf<3.20,>=3.9.2 in /usr/local/lib/python3.8/dist-packages (from tensorflow>=1.9.0->deepface) (3.19.6)\n",
            "Requirement already satisfied: h5py>=2.9.0 in /usr/local/lib/python3.8/dist-packages (from tensorflow>=1.9.0->deepface) (3.1.0)\n",
            "Requirement already satisfied: google-pasta>=0.1.1 in /usr/local/lib/python3.8/dist-packages (from tensorflow>=1.9.0->deepface) (0.2.0)\n",
            "Requirement already satisfied: setuptools in /usr/local/lib/python3.8/dist-packages (from tensorflow>=1.9.0->deepface) (57.4.0)\n",
            "Requirement already satisfied: tensorflow-estimator<2.10.0,>=2.9.0rc0 in /usr/local/lib/python3.8/dist-packages (from tensorflow>=1.9.0->deepface) (2.9.0)\n",
            "Requirement already satisfied: wrapt>=1.11.0 in /usr/local/lib/python3.8/dist-packages (from tensorflow>=1.9.0->deepface) (1.14.1)\n",
            "Requirement already satisfied: grpcio<2.0,>=1.24.3 in /usr/local/lib/python3.8/dist-packages (from tensorflow>=1.9.0->deepface) (1.51.1)\n",
            "Requirement already satisfied: wheel<1.0,>=0.23.0 in /usr/local/lib/python3.8/dist-packages (from astunparse>=1.6.0->tensorflow>=1.9.0->deepface) (0.38.4)\n",
            "Requirement already satisfied: MarkupSafe>=0.23 in /usr/local/lib/python3.8/dist-packages (from Jinja2<3.0,>=2.10.1->Flask>=1.1.2->deepface) (2.0.1)\n",
            "Requirement already satisfied: markdown>=2.6.8 in /usr/local/lib/python3.8/dist-packages (from tensorboard<2.10,>=2.9->tensorflow>=1.9.0->deepface) (3.4.1)\n",
            "Requirement already satisfied: google-auth-oauthlib<0.5,>=0.4.1 in /usr/local/lib/python3.8/dist-packages (from tensorboard<2.10,>=2.9->tensorflow>=1.9.0->deepface) (0.4.6)\n",
            "Requirement already satisfied: google-auth<3,>=1.6.3 in /usr/local/lib/python3.8/dist-packages (from tensorboard<2.10,>=2.9->tensorflow>=1.9.0->deepface) (2.16.0)\n",
            "Requirement already satisfied: tensorboard-data-server<0.7.0,>=0.6.0 in /usr/local/lib/python3.8/dist-packages (from tensorboard<2.10,>=2.9->tensorflow>=1.9.0->deepface) (0.6.1)\n",
            "Requirement already satisfied: tensorboard-plugin-wit>=1.6.0 in /usr/local/lib/python3.8/dist-packages (from tensorboard<2.10,>=2.9->tensorflow>=1.9.0->deepface) (1.8.1)\n",
            "Requirement already satisfied: charset-normalizer<4,>=2 in /usr/local/lib/python3.8/dist-packages (from requests[socks]->gdown>=3.10.1->deepface) (2.1.1)\n",
            "Requirement already satisfied: certifi>=2017.4.17 in /usr/local/lib/python3.8/dist-packages (from requests[socks]->gdown>=3.10.1->deepface) (2022.12.7)\n",
            "Requirement already satisfied: urllib3<1.27,>=1.21.1 in /usr/local/lib/python3.8/dist-packages (from requests[socks]->gdown>=3.10.1->deepface) (1.24.3)\n",
            "Requirement already satisfied: idna<4,>=2.5 in /usr/local/lib/python3.8/dist-packages (from requests[socks]->gdown>=3.10.1->deepface) (2.10)\n",
            "Requirement already satisfied: PySocks!=1.5.7,>=1.5.6 in /usr/local/lib/python3.8/dist-packages (from requests[socks]->gdown>=3.10.1->deepface) (1.7.1)\n",
            "Requirement already satisfied: pyasn1-modules>=0.2.1 in /usr/local/lib/python3.8/dist-packages (from google-auth<3,>=1.6.3->tensorboard<2.10,>=2.9->tensorflow>=1.9.0->deepface) (0.2.8)\n",
            "Requirement already satisfied: rsa<5,>=3.1.4 in /usr/local/lib/python3.8/dist-packages (from google-auth<3,>=1.6.3->tensorboard<2.10,>=2.9->tensorflow>=1.9.0->deepface) (4.9)\n",
            "Requirement already satisfied: cachetools<6.0,>=2.0.0 in /usr/local/lib/python3.8/dist-packages (from google-auth<3,>=1.6.3->tensorboard<2.10,>=2.9->tensorflow>=1.9.0->deepface) (5.3.0)\n",
            "Requirement already satisfied: requests-oauthlib>=0.7.0 in /usr/local/lib/python3.8/dist-packages (from google-auth-oauthlib<0.5,>=0.4.1->tensorboard<2.10,>=2.9->tensorflow>=1.9.0->deepface) (1.3.1)\n",
            "Requirement already satisfied: importlib-metadata>=4.4 in /usr/local/lib/python3.8/dist-packages (from markdown>=2.6.8->tensorboard<2.10,>=2.9->tensorflow>=1.9.0->deepface) (6.0.0)\n",
            "Requirement already satisfied: zipp>=0.5 in /usr/local/lib/python3.8/dist-packages (from importlib-metadata>=4.4->markdown>=2.6.8->tensorboard<2.10,>=2.9->tensorflow>=1.9.0->deepface) (3.12.0)\n",
            "Requirement already satisfied: pyasn1<0.5.0,>=0.4.6 in /usr/local/lib/python3.8/dist-packages (from pyasn1-modules>=0.2.1->google-auth<3,>=1.6.3->tensorboard<2.10,>=2.9->tensorflow>=1.9.0->deepface) (0.4.8)\n",
            "Requirement already satisfied: oauthlib>=3.0.0 in /usr/local/lib/python3.8/dist-packages (from requests-oauthlib>=0.7.0->google-auth-oauthlib<0.5,>=0.4.1->tensorboard<2.10,>=2.9->tensorflow>=1.9.0->deepface) (3.2.2)\n",
            "Building wheels for collected packages: fire\n",
            "  Building wheel for fire (setup.py) ... \u001b[?25l\u001b[?25hdone\n",
            "  Created wheel for fire: filename=fire-0.5.0-py2.py3-none-any.whl size=116949 sha256=7834b1684147529e5761c6db22601e6bbbdf5c40c96afb09472cf71bbd95ce6c\n",
            "  Stored in directory: /root/.cache/pip/wheels/5b/eb/43/7295e71293b218ddfd627f935229bf54af9018add7fbb5aac6\n",
            "Successfully built fire\n",
            "Installing collected packages: fire, mtcnn, retina-face, deepface\n",
            "Successfully installed deepface-0.0.78 fire-0.5.0 mtcnn-0.1.1 retina-face-0.0.13\n",
            "Looking in indexes: https://pypi.org/simple, https://us-python.pkg.dev/colab-wheels/public/simple/\n",
            "Requirement already satisfied: nltk in /usr/local/lib/python3.8/dist-packages (3.7)\n",
            "Requirement already satisfied: joblib in /usr/local/lib/python3.8/dist-packages (from nltk) (1.2.0)\n",
            "Requirement already satisfied: click in /usr/local/lib/python3.8/dist-packages (from nltk) (7.1.2)\n",
            "Requirement already satisfied: regex>=2021.8.3 in /usr/local/lib/python3.8/dist-packages (from nltk) (2022.6.2)\n",
            "Requirement already satisfied: tqdm in /usr/local/lib/python3.8/dist-packages (from nltk) (4.64.1)\n",
            "Looking in indexes: https://pypi.org/simple, https://us-python.pkg.dev/colab-wheels/public/simple/\n",
            "Collecting neattext\n",
            "  Downloading neattext-0.1.3-py3-none-any.whl (114 kB)\n",
            "\u001b[2K     \u001b[90m━━━━━━━━━━━━━━━━━━━━━━━━━━━━━━━━━━━━━━━\u001b[0m \u001b[32m114.7/114.7 KB\u001b[0m \u001b[31m4.1 MB/s\u001b[0m eta \u001b[36m0:00:00\u001b[0m\n",
            "\u001b[?25hInstalling collected packages: neattext\n",
            "Successfully installed neattext-0.1.3\n",
            "Looking in indexes: https://pypi.org/simple, https://us-python.pkg.dev/colab-wheels/public/simple/\n",
            "Requirement already satisfied: librosa in /usr/local/lib/python3.8/dist-packages (0.8.1)\n",
            "Requirement already satisfied: numpy>=1.15.0 in /usr/local/lib/python3.8/dist-packages (from librosa) (1.21.6)\n",
            "Requirement already satisfied: soundfile>=0.10.2 in /usr/local/lib/python3.8/dist-packages (from librosa) (0.11.0)\n",
            "Requirement already satisfied: audioread>=2.0.0 in /usr/local/lib/python3.8/dist-packages (from librosa) (3.0.0)\n",
            "Requirement already satisfied: resampy>=0.2.2 in /usr/local/lib/python3.8/dist-packages (from librosa) (0.4.2)\n",
            "Requirement already satisfied: packaging>=20.0 in /usr/local/lib/python3.8/dist-packages (from librosa) (23.0)\n",
            "Requirement already satisfied: scikit-learn!=0.19.0,>=0.14.0 in /usr/local/lib/python3.8/dist-packages (from librosa) (1.0.2)\n",
            "Requirement already satisfied: joblib>=0.14 in /usr/local/lib/python3.8/dist-packages (from librosa) (1.2.0)\n",
            "Requirement already satisfied: decorator>=3.0.0 in /usr/local/lib/python3.8/dist-packages (from librosa) (4.4.2)\n",
            "Requirement already satisfied: scipy>=1.0.0 in /usr/local/lib/python3.8/dist-packages (from librosa) (1.7.3)\n",
            "Requirement already satisfied: numba>=0.43.0 in /usr/local/lib/python3.8/dist-packages (from librosa) (0.56.4)\n",
            "Requirement already satisfied: pooch>=1.0 in /usr/local/lib/python3.8/dist-packages (from librosa) (1.6.0)\n",
            "Requirement already satisfied: llvmlite<0.40,>=0.39.0dev0 in /usr/local/lib/python3.8/dist-packages (from numba>=0.43.0->librosa) (0.39.1)\n",
            "Requirement already satisfied: importlib-metadata in /usr/local/lib/python3.8/dist-packages (from numba>=0.43.0->librosa) (6.0.0)\n",
            "Requirement already satisfied: setuptools in /usr/local/lib/python3.8/dist-packages (from numba>=0.43.0->librosa) (57.4.0)\n",
            "Requirement already satisfied: appdirs>=1.3.0 in /usr/local/lib/python3.8/dist-packages (from pooch>=1.0->librosa) (1.4.4)\n",
            "Requirement already satisfied: requests>=2.19.0 in /usr/local/lib/python3.8/dist-packages (from pooch>=1.0->librosa) (2.28.2)\n",
            "Requirement already satisfied: threadpoolctl>=2.0.0 in /usr/local/lib/python3.8/dist-packages (from scikit-learn!=0.19.0,>=0.14.0->librosa) (3.1.0)\n",
            "Requirement already satisfied: cffi>=1.0 in /usr/local/lib/python3.8/dist-packages (from soundfile>=0.10.2->librosa) (1.15.1)\n",
            "Requirement already satisfied: pycparser in /usr/local/lib/python3.8/dist-packages (from cffi>=1.0->soundfile>=0.10.2->librosa) (2.21)\n",
            "Requirement already satisfied: urllib3<1.27,>=1.21.1 in /usr/local/lib/python3.8/dist-packages (from requests>=2.19.0->pooch>=1.0->librosa) (1.24.3)\n",
            "Requirement already satisfied: certifi>=2017.4.17 in /usr/local/lib/python3.8/dist-packages (from requests>=2.19.0->pooch>=1.0->librosa) (2022.12.7)\n",
            "Requirement already satisfied: idna<4,>=2.5 in /usr/local/lib/python3.8/dist-packages (from requests>=2.19.0->pooch>=1.0->librosa) (2.10)\n",
            "Requirement already satisfied: charset-normalizer<4,>=2 in /usr/local/lib/python3.8/dist-packages (from requests>=2.19.0->pooch>=1.0->librosa) (2.1.1)\n",
            "Requirement already satisfied: zipp>=0.5 in /usr/local/lib/python3.8/dist-packages (from importlib-metadata->numba>=0.43.0->librosa) (3.12.0)\n"
          ]
        },
        {
          "output_type": "stream",
          "name": "stderr",
          "text": [
            "[nltk_data] Downloading package vader_lexicon to /root/nltk_data...\n"
          ]
        },
        {
          "output_type": "stream",
          "name": "stdout",
          "text": [
            "Directory  /root /.deepface created\n",
            "Directory  /root /.deepface/weights created\n",
            "Mounted at /content/gdrive\n"
          ]
        }
      ],
      "source": [
        "!pip install SpeechRecognition\n",
        "!pip install streamlit -q\n",
        "!pip install pyngrok\n",
        "# !pip install ffmpeg-python\n",
        "!pip install python-settings\n",
        "!pip install synthesizer\n",
        "# !pip install inference\n",
        "# !pip install helper\n",
        "!pip install SpeechRecognition moviepy\n",
        "# !pip3 install imageio==2.4.1\n",
        "# !pip install imageio-ffmpeg\n",
        "!pip install --upgrade moviepy\n",
        "# !pip install aspect-based-sentiment-analysis==1.1.0\n",
        "!pip install deepface\n",
        "!pip install nltk\n",
        "!pip install neattext\n",
        "!pip install librosa\n",
        "!pip install streamlit-webrtc\n",
        "\n",
        "import neattext.functions as nfx\n",
        "from sklearn.linear_model import LogisticRegression\n",
        "from sklearn.naive_bayes import MultinomialNB\n",
        "from sklearn.feature_extraction.text import CountVectorizer\n",
        "from sklearn.model_selection import train_test_split\n",
        "from sklearn.metrics import accuracy_score,classification_report,confusion_matrix\n",
        "from sklearn.pipeline import Pipeline\n",
        "import nltk\n",
        "nltk.download('vader_lexicon')\n",
        "from nltk.sentiment import SentimentIntensityAnalyzer\n",
        "from deepface import DeepFace \n",
        "from collections import Counter\n",
        "from pathlib import Path\n",
        "import os\n",
        "import glob\n",
        "import cv2\n",
        "import pickle\n",
        "# import aspect_based_sentiment_analysis as absa\n",
        "from pyngrok import ngrok\n",
        "from google.colab import drive\n",
        "from google.colab import files\n",
        "import pandas as pd\n",
        "import numpy as np\n",
        "import speech_recognition as sr\n",
        "from google.colab import output\n",
        "from base64 import b64decode\n",
        "import base64\n",
        "\n",
        "# from google.colab.output import eval_js\n",
        "# from IPython.display import HTML, Javascript\n",
        "\n",
        "\n",
        "# https://ngrok.com/ to sign in for free to get auth_key \n",
        "# Tutorial to run streamlit on colab\n",
        "# https://www.youtube.com/watch?v=MUD-pBOnvdo \n",
        "ngrok.set_auth_token('2LC761bNPuCZchtb90lWWFD5sor_G1ecaAUAsAYDSjp6FTD5')\n",
        "\n",
        "# mount your drive with colab notebook\n",
        "drive.mount('/content/gdrive')\n",
        "\n",
        "# # how to read data from google drive\n",
        "# df = pd.read_csv('/content/gdrive/MyDrive/From Motion to Emotion/testing.csv')\n",
        "# # save data to google drive\n",
        "# path = '/content/gdrive/MyDrive/From Motion to Emotion/output.csv'\n",
        "# with open(path, 'w', encoding = 'utf-8-sig') as f:\n",
        "#   df_alt.to_csv(f)"
      ]
    },
    {
      "cell_type": "markdown",
      "source": [
        "# Streamlit code"
      ],
      "metadata": {
        "id": "pyMGcvERx21o"
      }
    },
    {
      "cell_type": "markdown",
      "source": [
        "Video resourse \\\n",
        "https://www.youtube.com/watch?v=y9Trdafp83U ('There's more to life than being happy | Emily Esfahani Smith') \\\n",
        "https://www.youtube.com/watch?v=KAJsdgTPJpU&t=1s ('Greta Thunberg's full speech to world leaders at UN Climate Action Summit')\\\n",
        "https://www.youtube.com/watch?v=wD2cVhC-63I ('Matthew McConaughey winning Best Actor | 86th Oscars (2014)')"
      ],
      "metadata": {
        "id": "PFkrApsMiTfe"
      }
    },
    {
      "cell_type": "code",
      "execution_count": 7,
      "metadata": {
        "colab": {
          "base_uri": "https://localhost:8080/"
        },
        "id": "t_XKrKyfcsj5",
        "outputId": "09c1846e-a2ab-425d-b74b-551aecedad5c"
      },
      "outputs": [
        {
          "output_type": "stream",
          "name": "stdout",
          "text": [
            "Overwriting Motion_to_Emotion.py\n"
          ]
        }
      ],
      "source": [
        "%%writefile Motion_to_Emotion.py \n",
        "import streamlit as st \n",
        "from pyngrok import ngrok\n",
        "from google.colab import drive\n",
        "from google.colab import files\n",
        "from google.colab import output\n",
        "import pandas as pd\n",
        "import speech_recognition as sr\n",
        "import base64\n",
        "from base64 import b64decode\n",
        "import cv2\n",
        "from deepface import DeepFace \n",
        "from collections import Counter\n",
        "from pathlib import Path\n",
        "import pickle\n",
        "import os\n",
        "import glob\n",
        "from collections import Counter\n",
        "from PIL import Image\n",
        "import moviepy.editor as mp\n",
        "r = sr.Recognizer()\n",
        "import nltk\n",
        "nltk.download('vader_lexicon')\n",
        "from nltk.sentiment import SentimentIntensityAnalyzer\n",
        "sia = SentimentIntensityAnalyzer()\n",
        "import numpy as np\n",
        "import neattext.functions as nfx\n",
        "from sklearn.linear_model import LogisticRegression\n",
        "from sklearn.naive_bayes import MultinomialNB\n",
        "from sklearn.feature_extraction.text import CountVectorizer\n",
        "from sklearn.model_selection import train_test_split\n",
        "from sklearn.metrics import accuracy_score,classification_report,confusion_matrix\n",
        "from sklearn.pipeline import Pipeline\n",
        "import librosa\n",
        "import librosa.display\n",
        "import matplotlib.pyplot as plt\n",
        "from streamlit_webrtc import VideoTransformerBase, webrtc_streamer\n",
        "\n",
        "st.title('Motion to Emotion')\n",
        "\n",
        "image = Image.open('/content/gdrive/MyDrive/From Motion to Emotion/emotion_imgage.jpeg')\n",
        "st.image(image)#, caption='Sunrise by the mountains')\n",
        "\n",
        "\n",
        "\n",
        "\n",
        "import uuid\n",
        "from pathlib import Path\n",
        "\n",
        "import av\n",
        "import cv2\n",
        "import streamlit as st\n",
        "from aiortc.contrib.media import MediaRecorder\n",
        "from streamlit_webrtc import WebRtcMode, webrtc_streamer\n",
        "\n",
        "\n",
        "def video_frame_callback(frame: av.VideoFrame) -> av.VideoFrame:\n",
        "    img = frame.to_ndarray(format=\"bgr24\")\n",
        "\n",
        "    # perform edge detection\n",
        "    img = cv2.cvtColor(cv2.Canny(img, 100, 200), cv2.COLOR_GRAY2BGR)\n",
        "\n",
        "    return av.VideoFrame.from_ndarray(img, format=\"bgr24\")\n",
        "\n",
        "\n",
        "RECORD_DIR = Path(\"./records\")\n",
        "RECORD_DIR.mkdir(exist_ok=True)\n",
        "\n",
        "\n",
        "def app():\n",
        "    if \"prefix\" not in st.session_state:\n",
        "        st.session_state[\"prefix\"] = str(uuid.uuid4())\n",
        "    prefix = st.session_state[\"prefix\"]\n",
        "    in_file = RECORD_DIR / f\"{prefix}_input.flv\"\n",
        "    out_file = RECORD_DIR / f\"{prefix}_output.flv\"\n",
        "\n",
        "    def in_recorder_factory() -> MediaRecorder:\n",
        "        return MediaRecorder(\n",
        "            str(in_file), format=\"flv\"\n",
        "        )  # HLS does not work. See https://github.com/aiortc/aiortc/issues/331\n",
        "\n",
        "    def out_recorder_factory() -> MediaRecorder:\n",
        "        return MediaRecorder(str(out_file), format=\"flv\")\n",
        "\n",
        "    webrtc_streamer(\n",
        "        key=\"record\",\n",
        "        mode=WebRtcMode.SENDRECV,\n",
        "        rtc_configuration={\"iceServers\": [{\"urls\": [\"stun:stun.l.google.com:19302\"]}]},\n",
        "        media_stream_constraints={\n",
        "            \"video\": True,\n",
        "            \"audio\": True,\n",
        "        },\n",
        "        video_frame_callback=video_frame_callback,\n",
        "        in_recorder_factory=in_recorder_factory,\n",
        "        out_recorder_factory=out_recorder_factory,\n",
        "    )\n",
        "\n",
        "    if in_file.exists():\n",
        "        with in_file.open(\"rb\") as f:\n",
        "            st.download_button(\n",
        "                \"Download the recorded video without video filter\", f, \"input.flv\"\n",
        "            )\n",
        "    if out_file.exists():\n",
        "        with out_file.open(\"rb\") as f:\n",
        "            st.download_button(\n",
        "                \"Download the recorded video with video filter\", f, \"output.flv\"\n",
        "            )\n",
        "\n",
        "\n",
        "if __name__ == \"__main__\":\n",
        "    app()\n",
        "\n",
        "\n",
        "\n",
        "\n",
        "\n",
        "\n",
        "option = st.selectbox(\n",
        "    'Select a video to analyse',\n",
        "    ('Choose video',\n",
        "    'Greta Thunberg\\'s speech at UN', \n",
        "    'Emily Esfahani Smith - There\\'s more to life than being happy', \n",
        "    'Matthew McConaughey winning Best Actor 86th Oscars (2014)'))\n",
        "\n",
        "\n",
        "if option == 'Greta Thunberg\\'s speech at UN':\n",
        "  path = '/content/gdrive/MyDrive/From Motion to Emotion/Greta_UN.mp4'\n",
        "  #st.subheader('Greta Thunberg\\'s speech at UN')\n",
        "  st.video(path)\n",
        "\n",
        "if option == 'Emily Esfahani Smith - There\\'s more to life than being happy':\n",
        "  path = '/content/gdrive/MyDrive/From Motion to Emotion/Emily_Happy.mp4'\n",
        "  #st.subheader('Emily Esfahani Smith - There\\'s more to life than being happy')\n",
        "  st.video(path)\n",
        "\n",
        "if option == 'Matthew McConaughey winning Best Actor 86th Oscars (2014)':\n",
        "  path = '/content/gdrive/MyDrive/From Motion to Emotion/Matthew_Oscars.mp4'\n",
        "  #st.subheader('Matthew McConaughey winning Best Actor 86th Oscars (2014)')\n",
        "  st.video(path)\n",
        "\n",
        "\n",
        "\n",
        "if st.button('Start Analysis'):\n",
        "\n",
        "# Speech Recognition \n",
        "    \n",
        "  clip = mp.VideoFileClip(path) \n",
        "  clip.audio.write_audiofile('audio.wav')\n",
        "\n",
        "  audio = sr.AudioFile(\"audio.wav\")\n",
        "\n",
        "  with audio as source:\n",
        "    audio_file = r.record(source)\n",
        "    text = r.recognize_google(audio_file)\n",
        "\n",
        "\n",
        "# Face emotion dectection \n",
        "# Extrac frames from video \n",
        "  video = cv2.VideoCapture(path)\n",
        "      \n",
        "  total_frames = int(video.get(cv2.CAP_PROP_FRAME_COUNT))\n",
        "\n",
        "  step = 30 # if step = 10, then only every 10-th frame will be considered and saved\n",
        "\n",
        "  from collections import Counter\n",
        "  count = 0\n",
        "\n",
        "  frame_list = [] \n",
        "\n",
        "  for i in range(total_frames):\n",
        "      ret, frame = video.read()\n",
        "      if ret:\n",
        "          count += 1\n",
        "          if count % step == 0:\n",
        "              frame_list.append(frame)\n",
        "              \n",
        "  video.release()\n",
        "\n",
        "# Analysis emotion from frames\n",
        "\n",
        "  df = pd.DataFrame()\n",
        "  emotions_list = []\n",
        "\n",
        "  for picture in frame_list:\n",
        "    objs = DeepFace.analyze(picture, actions = 'emotion', enforce_detection = False)\n",
        "    dominant_emotion = objs[0]['dominant_emotion']\n",
        "    emotions_list.append(dominant_emotion)\n",
        "\n",
        "# Create datafram from the output\n",
        "\n",
        "  df['Emotion'] = Counter(emotions_list).keys()\n",
        "  df['Counts'] = Counter(emotions_list).values()\n",
        "  df['Percentage'] = (df['Counts']/df['Counts'].sum())*100\n",
        "    \n",
        "  df_sorted = df[['Emotion','Percentage']].sort_values(by = 'Percentage', ascending=False)\n",
        "  df_sorted.reset_index(drop = True, inplace=True)\n",
        "\n",
        "# Dictionary\n",
        "\n",
        "  Face_emo = {'angry' : 'Anger',\n",
        "              'fear' : 'Fear',\n",
        "              'neutral' : 'Neutral', \n",
        "              'sad' : 'Sad', \n",
        "              'disgust' : 'Disgust', \n",
        "              'happy' : 'Happy', \n",
        "              'surprise' : 'Suprise'\n",
        "              }\n",
        "\n",
        "  emoji_dic = {'neutral': ':neutral_face:',\n",
        "            'fear':':anguished:',\n",
        "            'angry': ':angry:',\n",
        "            'sad':':cry:',\n",
        "            'happy':':grin:',\n",
        "            'suprise':':astanished:',\n",
        "            'disgust':':confounded:',\n",
        "            'positive' : ':grinning:',\n",
        "            'negative' : ':worried:'\n",
        "            }\n",
        "\n",
        "  \n",
        "  text_sent = {'neg' : 'Negative',\n",
        "              'neu' : 'Neutral',\n",
        "              'pos' : 'Positive' \n",
        "              }\n",
        "  \n",
        "  text_emo = {'joy' : 'Happy',\n",
        "              'sadness' : 'Sad',\n",
        "              'fear' : 'Fear',\n",
        "              'anger' : 'Anger',\n",
        "              'suprise' : 'Surprise',\n",
        "              'neutral' : 'Neutral',\n",
        "              'disgust' : 'Disgust'\n",
        "              }\n",
        "\n",
        "  \n",
        "# Result displaying \n",
        "\n",
        "  with st.container():\n",
        "    st.header(':blue[Speech Recognition]')\n",
        "    st.write(text)\n",
        "\n",
        "# Text sentiment analysis \n",
        "    sentiment = sia.polarity_scores(text)\n",
        "    keys_to_keep = ['neg', 'neu', 'pos']\n",
        "    sentiment = {k: sentiment[k] for k in keys_to_keep}\n",
        "    st.header(':blue[Sentiment of the Text]')\n",
        "    \n",
        "    #st.subheader(text_sent[max(sentiment, key=sentiment.get)])\n",
        "    col1, col2, col3 = st.columns(3)\n",
        "    with col1:\n",
        "      st.write('Negative')\n",
        "      st.subheader(sentiment['neg'])\n",
        "      st.subheader(emoji_dic['negative'])\n",
        "    with col2:\n",
        "     st.write('Neutral')\n",
        "     st.subheader(sentiment['neu'])\n",
        "     st.subheader(emoji_dic['neutral'])\n",
        "    with col3:\n",
        "     st.write('Positive')\n",
        "     st.subheader(sentiment['pos'])\n",
        "     st.subheader(emoji_dic['positive'])\n",
        "\n",
        "# Text Emotion analysis\n",
        "\n",
        "    st.header(':blue[Emotion of the Text]')\n",
        "    loaded_model = pickle.load(open('emo_text_model.sav', 'rb'))\n",
        "    emo_predict = loaded_model.predict([text])[0]\n",
        "    st.subheader(text_emo[emo_predict])\n",
        "\n",
        "  with st.container():\n",
        "    st.header(\":blue[Face Emotion]\")\n",
        "    col1, col2, col3 = st.columns(3)\n",
        "    \n",
        "    with col1:\n",
        "      st.subheader('Most domiant')\n",
        "      st.subheader(Face_emo[df_sorted.Emotion[0]])\n",
        "      st.subheader(emoji_dic[df_sorted.Emotion[0]])\n",
        "      st.subheader(df_sorted.Percentage[0].round(2))\n",
        "\n",
        "    with col2:\n",
        "      st.subheader('2nd')\n",
        "      st.subheader(Face_emo[df_sorted.Emotion[1]])\n",
        "      st.subheader(emoji_dic[df_sorted.Emotion[1]])\n",
        "      st.subheader(df_sorted.Percentage[1].round(2))\n",
        "\n",
        "    with col3:\n",
        "      st.subheader('3rd')\n",
        "      st.subheader(Face_emo[df_sorted.Emotion[2]])\n",
        "      st.subheader(emoji_dic[df_sorted.Emotion[2]])\n",
        "      st.subheader(df_sorted.Percentage[2].round(2))\n",
        "\n",
        "    with st.container():\n",
        "      st.header(':blue[Spectrogram of the voice]')\n",
        "      y, sr = librosa.load('audio.wav')\n",
        "      y, index = librosa.effects.trim(y)  \n",
        "      mel_spect = librosa.feature.melspectrogram(y=y, sr=sr, n_fft=1024, hop_length=100)\n",
        "      mel_spect = librosa.power_to_db(mel_spect, ref=np.max)\n",
        "      spectrogram = librosa.display.specshow(mel_spect, y_axis='mel', fmax=20000, x_axis='time');\n",
        "      plt.savefig('spectrogram.png')\n",
        "      st.image('spectrogram.png')\n"
      ]
    },
    {
      "cell_type": "markdown",
      "source": [
        "# Get Ngrok tunnel and connect"
      ],
      "metadata": {
        "id": "Mla1OBNFyLlV"
      }
    },
    {
      "cell_type": "code",
      "execution_count": 4,
      "metadata": {
        "id": "_nj6JkBRcsuJ",
        "colab": {
          "base_uri": "https://localhost:8080/"
        },
        "outputId": "03c4cb42-e512-47cf-c006-c547e3b3da68"
      },
      "outputs": [
        {
          "output_type": "stream",
          "name": "stdout",
          "text": [
            "nohup: appending output to 'nohup.out'\n",
            "NgrokTunnel: \"http://e25f-34-28-33-229.ngrok.io\" -> \"http://localhost:80\"\n"
          ]
        }
      ],
      "source": [
        "# get tunnel \n",
        "!nohup streamlit run Motion_to_Emotion.py --server.port 80 &\n",
        "url = ngrok.connect(port = '80')\n",
        "print(url)"
      ]
    },
    {
      "cell_type": "markdown",
      "source": [
        "# Audio recording "
      ],
      "metadata": {
        "id": "CbKIEcH-47Xj"
      }
    },
    {
      "cell_type": "code",
      "source": [
        "# js = Javascript(\"\"\"\n",
        "#   async function recordAudio(){\n",
        "#     const div = document.createElement('div');\n",
        "#     const audio = document.createElement('audio');\n",
        "#     const strtButton = document.createElement('button');\n",
        "#     const stopButton = document.createElement('button');\n",
        "\n",
        "#     strtButton.textContent = 'Start Recording';\n",
        "#     stopButton.textContent = 'Stop Recording';\n",
        "\n",
        "#     document.body.appendChild(div);\n",
        "#     div.appendChild(strtButton);\n",
        "#     div.appendChild(audio);\n",
        "\n",
        "#     const stream = await navigator.mediaDevices.getUserMedia({audio:true});\n",
        "#     let recorder = new MediaRecorder(stream);\n",
        "\n",
        "#     audio.style.display = 'block';\n",
        "#     audio.srcObject = stream;\n",
        "#     audio.controls = true;\n",
        "#     audio.muted = true;\n",
        "\n",
        "#     await new Promise((resolve) => strtButton.onclick = resolve);\n",
        "#       strtButton.replaceWith(stopButton);\n",
        "#       recorder.start();\n",
        "\n",
        "#     await new Promise((resolve) => stopButton.onclick = resolve);\n",
        "#       recorder.stop();\n",
        "#       let recData = await new Promise ((resolve) => recorder.ondataavailable = resolve);\n",
        "#       let arrBuff = await recData.data.arrayBuffer();\n",
        "#       stream.getAudioTracks()[0].stop();\n",
        "#       div.remove()\n",
        "      \n",
        "#       let binaryString = '';\n",
        "#       let bytes = new Uint8Array(arrBuff);\n",
        "#       bytes.forEach((byte) => { binaryString += String.fromCharCode(byte)});\n",
        "\n",
        "#     const url = URL.createObjectURL(recData.data);\n",
        "#     const player = document.createElement('audio');\n",
        "#     player.controls = true;\n",
        "#     player.src = url;\n",
        "#     document.body.appendChild(player);\n",
        "  \n",
        "#   return btoa(binaryString)};\n",
        "#   \"\"\")"
      ],
      "metadata": {
        "id": "IQAmNyDBNWbF"
      },
      "execution_count": null,
      "outputs": []
    },
    {
      "cell_type": "code",
      "source": [
        "# # Record audio\n",
        "# display(js)\n",
        "# output = eval_js('recordAudio({})')\n",
        "# with open ('audio.wav','wb') as file:\n",
        "#     binary = base64.b64decode(output)\n",
        "#     file.write(binary)\n",
        "# print('Recording saved to:', file.name)"
      ],
      "metadata": {
        "id": "jbuIRc35RXDv"
      },
      "execution_count": null,
      "outputs": []
    },
    {
      "cell_type": "markdown",
      "source": [
        "# DeepFace Emotion Detection"
      ],
      "metadata": {
        "id": "1Uc_jA6X5QaK"
      }
    },
    {
      "cell_type": "code",
      "source": [
        "# Open the video file from a folder \n",
        "video = cv2.VideoCapture('/content/gdrive/MyDrive/From Motion to Emotion/Greta_UN.mp4')\n",
        "    \n",
        "# Get the total number of frames in the video\n",
        "total_frames = int(video.get(cv2.CAP_PROP_FRAME_COUNT))\n",
        "\n",
        "# Set the step\n",
        "step = 10 # if step = 10, then only every 10-th frame will be considered and saved\n",
        "\n",
        "# Initialize the counter\n",
        "from collections import Counter\n",
        "count = 0\n",
        "\n",
        "frame_list = [] \n",
        "# Iterate over each frame\n",
        "for i in range(total_frames):\n",
        "    ret, frame = video.read()\n",
        "    if ret:\n",
        "        count += 1\n",
        "        if count % step == 0:\n",
        "            frame_list.append(frame)\n",
        "            #cv2.imwrite('/content/gdrive/MyDrive/From Motion to Emotion/picture/frame{}.jpg'.format(i), frame)\n",
        "video.release()"
      ],
      "metadata": {
        "id": "JgaUDVuG5VWG"
      },
      "execution_count": null,
      "outputs": []
    },
    {
      "cell_type": "code",
      "source": [
        "# from IPython.display import JSON #uncomment in case of an error\n",
        "from deepface import DeepFace # to work with faces\n",
        "from collections import Counter\n",
        "from pathlib import Path\n",
        "import os\n",
        "import glob\n",
        "from collections import Counter\n",
        "\n",
        "df = pd.DataFrame()\n",
        "list_frames_emotions = []\n",
        "\n",
        "# video_frames_path = Path('/content/gdrive/MyDrive/From Motion to Emotion/picture')\n",
        "\n",
        "# os.chdir(video_frames_path)\n",
        "\n",
        "# video_frames = glob.glob(\"./*\")\n",
        "\n",
        "for picture in frame_list:\n",
        "\n",
        "    objs = DeepFace.analyze(picture, actions = 'emotion', enforce_detection = False)\n",
        "    dominant_emotion = objs[0]['dominant_emotion']\n",
        "    list_frames_emotions.append(dominant_emotion)\n",
        "\n",
        "df['Emotion'] = Counter(list_frames_emotions).keys()\n",
        "df['Counts'] = Counter(list_frames_emotions).values()\n",
        "df['Percentage'] = (df['Counts']/df['Counts'].sum())*100\n",
        "print(df)\n",
        "print(df[df.Percentage == df.Percentage.max()])\n"
      ],
      "metadata": {
        "id": "IqsefHH05VTS",
        "colab": {
          "base_uri": "https://localhost:8080/",
          "height": 710
        },
        "outputId": "35fe624e-146d-4798-c4e9-b6f8ca7f07a2"
      },
      "execution_count": null,
      "outputs": [
        {
          "output_type": "stream",
          "name": "stderr",
          "text": [
            "Action: emotion:   0%|          | 0/1 [00:00<?, ?it/s]\n"
          ]
        },
        {
          "output_type": "error",
          "ename": "ValueError",
          "evalue": "ignored",
          "traceback": [
            "\u001b[0;31m---------------------------------------------------------------------------\u001b[0m",
            "\u001b[0;31mValueError\u001b[0m                                Traceback (most recent call last)",
            "\u001b[0;32m<ipython-input-6-c6544915c1f1>\u001b[0m in \u001b[0;36m<module>\u001b[0;34m\u001b[0m\n\u001b[1;32m     18\u001b[0m \u001b[0;32mfor\u001b[0m \u001b[0mpicture\u001b[0m \u001b[0;32min\u001b[0m \u001b[0mframe_list\u001b[0m\u001b[0;34m:\u001b[0m\u001b[0;34m\u001b[0m\u001b[0;34m\u001b[0m\u001b[0m\n\u001b[1;32m     19\u001b[0m \u001b[0;34m\u001b[0m\u001b[0m\n\u001b[0;32m---> 20\u001b[0;31m     \u001b[0mobjs\u001b[0m \u001b[0;34m=\u001b[0m \u001b[0mDeepFace\u001b[0m\u001b[0;34m.\u001b[0m\u001b[0manalyze\u001b[0m\u001b[0;34m(\u001b[0m\u001b[0mpicture\u001b[0m\u001b[0;34m,\u001b[0m \u001b[0mactions\u001b[0m \u001b[0;34m=\u001b[0m \u001b[0;34m'emotion'\u001b[0m\u001b[0;34m,\u001b[0m \u001b[0menforce_detection\u001b[0m \u001b[0;34m=\u001b[0m \u001b[0;32mFalse\u001b[0m\u001b[0;34m)\u001b[0m\u001b[0;34m\u001b[0m\u001b[0;34m\u001b[0m\u001b[0m\n\u001b[0m\u001b[1;32m     21\u001b[0m     \u001b[0mdominant_emotion\u001b[0m \u001b[0;34m=\u001b[0m \u001b[0mobjs\u001b[0m\u001b[0;34m[\u001b[0m\u001b[0;36m0\u001b[0m\u001b[0;34m]\u001b[0m\u001b[0;34m[\u001b[0m\u001b[0;34m'dominant_emotion'\u001b[0m\u001b[0;34m]\u001b[0m\u001b[0;34m\u001b[0m\u001b[0;34m\u001b[0m\u001b[0m\n\u001b[1;32m     22\u001b[0m     \u001b[0mlist_frames_emotions\u001b[0m\u001b[0;34m.\u001b[0m\u001b[0mappend\u001b[0m\u001b[0;34m(\u001b[0m\u001b[0mdominant_emotion\u001b[0m\u001b[0;34m)\u001b[0m\u001b[0;34m\u001b[0m\u001b[0;34m\u001b[0m\u001b[0m\n",
            "\u001b[0;32m/usr/local/lib/python3.8/dist-packages/deepface/DeepFace.py\u001b[0m in \u001b[0;36manalyze\u001b[0;34m(img_path, actions, enforce_detection, detector_backend, align, silent)\u001b[0m\n\u001b[1;32m    275\u001b[0m                                         \u001b[0mimg_gray\u001b[0m \u001b[0;34m=\u001b[0m \u001b[0mnp\u001b[0m\u001b[0;34m.\u001b[0m\u001b[0mexpand_dims\u001b[0m\u001b[0;34m(\u001b[0m\u001b[0mimg_gray\u001b[0m\u001b[0;34m,\u001b[0m \u001b[0maxis\u001b[0m \u001b[0;34m=\u001b[0m \u001b[0;36m0\u001b[0m\u001b[0;34m)\u001b[0m\u001b[0;34m\u001b[0m\u001b[0;34m\u001b[0m\u001b[0m\n\u001b[1;32m    276\u001b[0m \u001b[0;34m\u001b[0m\u001b[0m\n\u001b[0;32m--> 277\u001b[0;31m                                         \u001b[0memotion_predictions\u001b[0m \u001b[0;34m=\u001b[0m \u001b[0mmodels\u001b[0m\u001b[0;34m[\u001b[0m\u001b[0;34m'emotion'\u001b[0m\u001b[0;34m]\u001b[0m\u001b[0;34m.\u001b[0m\u001b[0mpredict\u001b[0m\u001b[0;34m(\u001b[0m\u001b[0mimg_gray\u001b[0m\u001b[0;34m,\u001b[0m \u001b[0mverbose\u001b[0m\u001b[0;34m=\u001b[0m\u001b[0;36m0\u001b[0m\u001b[0;34m)\u001b[0m\u001b[0;34m[\u001b[0m\u001b[0;36m0\u001b[0m\u001b[0;34m,\u001b[0m\u001b[0;34m:\u001b[0m\u001b[0;34m]\u001b[0m\u001b[0;34m\u001b[0m\u001b[0;34m\u001b[0m\u001b[0m\n\u001b[0m\u001b[1;32m    278\u001b[0m \u001b[0;34m\u001b[0m\u001b[0m\n\u001b[1;32m    279\u001b[0m                                         \u001b[0msum_of_predictions\u001b[0m \u001b[0;34m=\u001b[0m \u001b[0memotion_predictions\u001b[0m\u001b[0;34m.\u001b[0m\u001b[0msum\u001b[0m\u001b[0;34m(\u001b[0m\u001b[0;34m)\u001b[0m\u001b[0;34m\u001b[0m\u001b[0;34m\u001b[0m\u001b[0m\n",
            "\u001b[0;32m/usr/local/lib/python3.8/dist-packages/tensorflow/python/keras/engine/training.py\u001b[0m in \u001b[0;36m_method_wrapper\u001b[0;34m(self, *args, **kwargs)\u001b[0m\n\u001b[1;32m     86\u001b[0m       raise ValueError('{} is not supported in multi-worker mode.'.format(\n\u001b[1;32m     87\u001b[0m           method.__name__))\n\u001b[0;32m---> 88\u001b[0;31m     \u001b[0;32mreturn\u001b[0m \u001b[0mmethod\u001b[0m\u001b[0;34m(\u001b[0m\u001b[0mself\u001b[0m\u001b[0;34m,\u001b[0m \u001b[0;34m*\u001b[0m\u001b[0margs\u001b[0m\u001b[0;34m,\u001b[0m \u001b[0;34m**\u001b[0m\u001b[0mkwargs\u001b[0m\u001b[0;34m)\u001b[0m\u001b[0;34m\u001b[0m\u001b[0;34m\u001b[0m\u001b[0m\n\u001b[0m\u001b[1;32m     89\u001b[0m \u001b[0;34m\u001b[0m\u001b[0m\n\u001b[1;32m     90\u001b[0m   return tf_decorator.make_decorator(\n",
            "\u001b[0;32m/usr/local/lib/python3.8/dist-packages/tensorflow/python/keras/engine/training.py\u001b[0m in \u001b[0;36mpredict\u001b[0;34m(self, x, batch_size, verbose, steps, callbacks, max_queue_size, workers, use_multiprocessing)\u001b[0m\n\u001b[1;32m   1266\u001b[0m           \u001b[0;32mfor\u001b[0m \u001b[0mstep\u001b[0m \u001b[0;32min\u001b[0m \u001b[0mdata_handler\u001b[0m\u001b[0;34m.\u001b[0m\u001b[0msteps\u001b[0m\u001b[0;34m(\u001b[0m\u001b[0;34m)\u001b[0m\u001b[0;34m:\u001b[0m\u001b[0;34m\u001b[0m\u001b[0;34m\u001b[0m\u001b[0m\n\u001b[1;32m   1267\u001b[0m             \u001b[0mcallbacks\u001b[0m\u001b[0;34m.\u001b[0m\u001b[0mon_predict_batch_begin\u001b[0m\u001b[0;34m(\u001b[0m\u001b[0mstep\u001b[0m\u001b[0;34m)\u001b[0m\u001b[0;34m\u001b[0m\u001b[0;34m\u001b[0m\u001b[0m\n\u001b[0;32m-> 1268\u001b[0;31m             \u001b[0mtmp_batch_outputs\u001b[0m \u001b[0;34m=\u001b[0m \u001b[0mpredict_function\u001b[0m\u001b[0;34m(\u001b[0m\u001b[0miterator\u001b[0m\u001b[0;34m)\u001b[0m\u001b[0;34m\u001b[0m\u001b[0;34m\u001b[0m\u001b[0m\n\u001b[0m\u001b[1;32m   1269\u001b[0m             \u001b[0;31m# Catch OutOfRangeError for Datasets of unknown size.\u001b[0m\u001b[0;34m\u001b[0m\u001b[0;34m\u001b[0m\u001b[0;34m\u001b[0m\u001b[0m\n\u001b[1;32m   1270\u001b[0m             \u001b[0;31m# This blocks until the batch has finished executing.\u001b[0m\u001b[0;34m\u001b[0m\u001b[0;34m\u001b[0m\u001b[0;34m\u001b[0m\u001b[0m\n",
            "\u001b[0;32m/usr/local/lib/python3.8/dist-packages/tensorflow/python/eager/def_function.py\u001b[0m in \u001b[0;36m__call__\u001b[0;34m(self, *args, **kwds)\u001b[0m\n\u001b[1;32m    578\u001b[0m         \u001b[0mxla_context\u001b[0m\u001b[0;34m.\u001b[0m\u001b[0mExit\u001b[0m\u001b[0;34m(\u001b[0m\u001b[0;34m)\u001b[0m\u001b[0;34m\u001b[0m\u001b[0;34m\u001b[0m\u001b[0m\n\u001b[1;32m    579\u001b[0m     \u001b[0;32melse\u001b[0m\u001b[0;34m:\u001b[0m\u001b[0;34m\u001b[0m\u001b[0;34m\u001b[0m\u001b[0m\n\u001b[0;32m--> 580\u001b[0;31m       \u001b[0mresult\u001b[0m \u001b[0;34m=\u001b[0m \u001b[0mself\u001b[0m\u001b[0;34m.\u001b[0m\u001b[0m_call\u001b[0m\u001b[0;34m(\u001b[0m\u001b[0;34m*\u001b[0m\u001b[0margs\u001b[0m\u001b[0;34m,\u001b[0m \u001b[0;34m**\u001b[0m\u001b[0mkwds\u001b[0m\u001b[0;34m)\u001b[0m\u001b[0;34m\u001b[0m\u001b[0;34m\u001b[0m\u001b[0m\n\u001b[0m\u001b[1;32m    581\u001b[0m \u001b[0;34m\u001b[0m\u001b[0m\n\u001b[1;32m    582\u001b[0m     \u001b[0;32mif\u001b[0m \u001b[0mtracing_count\u001b[0m \u001b[0;34m==\u001b[0m \u001b[0mself\u001b[0m\u001b[0;34m.\u001b[0m\u001b[0m_get_tracing_count\u001b[0m\u001b[0;34m(\u001b[0m\u001b[0;34m)\u001b[0m\u001b[0;34m:\u001b[0m\u001b[0;34m\u001b[0m\u001b[0;34m\u001b[0m\u001b[0m\n",
            "\u001b[0;32m/usr/local/lib/python3.8/dist-packages/tensorflow/python/eager/def_function.py\u001b[0m in \u001b[0;36m_call\u001b[0;34m(self, *args, **kwds)\u001b[0m\n\u001b[1;32m    625\u001b[0m       \u001b[0;31m# This is the first call of __call__, so we have to initialize.\u001b[0m\u001b[0;34m\u001b[0m\u001b[0;34m\u001b[0m\u001b[0;34m\u001b[0m\u001b[0m\n\u001b[1;32m    626\u001b[0m       \u001b[0minitializers\u001b[0m \u001b[0;34m=\u001b[0m \u001b[0;34m[\u001b[0m\u001b[0;34m]\u001b[0m\u001b[0;34m\u001b[0m\u001b[0;34m\u001b[0m\u001b[0m\n\u001b[0;32m--> 627\u001b[0;31m       \u001b[0mself\u001b[0m\u001b[0;34m.\u001b[0m\u001b[0m_initialize\u001b[0m\u001b[0;34m(\u001b[0m\u001b[0margs\u001b[0m\u001b[0;34m,\u001b[0m \u001b[0mkwds\u001b[0m\u001b[0;34m,\u001b[0m \u001b[0madd_initializers_to\u001b[0m\u001b[0;34m=\u001b[0m\u001b[0minitializers\u001b[0m\u001b[0;34m)\u001b[0m\u001b[0;34m\u001b[0m\u001b[0;34m\u001b[0m\u001b[0m\n\u001b[0m\u001b[1;32m    628\u001b[0m     \u001b[0;32mfinally\u001b[0m\u001b[0;34m:\u001b[0m\u001b[0;34m\u001b[0m\u001b[0;34m\u001b[0m\u001b[0m\n\u001b[1;32m    629\u001b[0m       \u001b[0;31m# At this point we know that the initialization is complete (or less\u001b[0m\u001b[0;34m\u001b[0m\u001b[0;34m\u001b[0m\u001b[0;34m\u001b[0m\u001b[0m\n",
            "\u001b[0;32m/usr/local/lib/python3.8/dist-packages/tensorflow/python/eager/def_function.py\u001b[0m in \u001b[0;36m_initialize\u001b[0;34m(self, args, kwds, add_initializers_to)\u001b[0m\n\u001b[1;32m    503\u001b[0m     \u001b[0mself\u001b[0m\u001b[0;34m.\u001b[0m\u001b[0m_graph_deleter\u001b[0m \u001b[0;34m=\u001b[0m \u001b[0mFunctionDeleter\u001b[0m\u001b[0;34m(\u001b[0m\u001b[0mself\u001b[0m\u001b[0;34m.\u001b[0m\u001b[0m_lifted_initializer_graph\u001b[0m\u001b[0;34m)\u001b[0m\u001b[0;34m\u001b[0m\u001b[0;34m\u001b[0m\u001b[0m\n\u001b[1;32m    504\u001b[0m     self._concrete_stateful_fn = (\n\u001b[0;32m--> 505\u001b[0;31m         self._stateful_fn._get_concrete_function_internal_garbage_collected(  # pylint: disable=protected-access\n\u001b[0m\u001b[1;32m    506\u001b[0m             *args, **kwds))\n\u001b[1;32m    507\u001b[0m \u001b[0;34m\u001b[0m\u001b[0m\n",
            "\u001b[0;32m/usr/local/lib/python3.8/dist-packages/tensorflow/python/eager/function.py\u001b[0m in \u001b[0;36m_get_concrete_function_internal_garbage_collected\u001b[0;34m(self, *args, **kwargs)\u001b[0m\n\u001b[1;32m   2444\u001b[0m       \u001b[0margs\u001b[0m\u001b[0;34m,\u001b[0m \u001b[0mkwargs\u001b[0m \u001b[0;34m=\u001b[0m \u001b[0;32mNone\u001b[0m\u001b[0;34m,\u001b[0m \u001b[0;32mNone\u001b[0m\u001b[0;34m\u001b[0m\u001b[0;34m\u001b[0m\u001b[0m\n\u001b[1;32m   2445\u001b[0m     \u001b[0;32mwith\u001b[0m \u001b[0mself\u001b[0m\u001b[0;34m.\u001b[0m\u001b[0m_lock\u001b[0m\u001b[0;34m:\u001b[0m\u001b[0;34m\u001b[0m\u001b[0;34m\u001b[0m\u001b[0m\n\u001b[0;32m-> 2446\u001b[0;31m       \u001b[0mgraph_function\u001b[0m\u001b[0;34m,\u001b[0m \u001b[0m_\u001b[0m\u001b[0;34m,\u001b[0m \u001b[0m_\u001b[0m \u001b[0;34m=\u001b[0m \u001b[0mself\u001b[0m\u001b[0;34m.\u001b[0m\u001b[0m_maybe_define_function\u001b[0m\u001b[0;34m(\u001b[0m\u001b[0margs\u001b[0m\u001b[0;34m,\u001b[0m \u001b[0mkwargs\u001b[0m\u001b[0;34m)\u001b[0m\u001b[0;34m\u001b[0m\u001b[0;34m\u001b[0m\u001b[0m\n\u001b[0m\u001b[1;32m   2447\u001b[0m     \u001b[0;32mreturn\u001b[0m \u001b[0mgraph_function\u001b[0m\u001b[0;34m\u001b[0m\u001b[0;34m\u001b[0m\u001b[0m\n\u001b[1;32m   2448\u001b[0m \u001b[0;34m\u001b[0m\u001b[0m\n",
            "\u001b[0;32m/usr/local/lib/python3.8/dist-packages/tensorflow/python/eager/function.py\u001b[0m in \u001b[0;36m_maybe_define_function\u001b[0;34m(self, args, kwargs)\u001b[0m\n\u001b[1;32m   2775\u001b[0m \u001b[0;34m\u001b[0m\u001b[0m\n\u001b[1;32m   2776\u001b[0m       \u001b[0mself\u001b[0m\u001b[0;34m.\u001b[0m\u001b[0m_function_cache\u001b[0m\u001b[0;34m.\u001b[0m\u001b[0mmissed\u001b[0m\u001b[0;34m.\u001b[0m\u001b[0madd\u001b[0m\u001b[0;34m(\u001b[0m\u001b[0mcall_context_key\u001b[0m\u001b[0;34m)\u001b[0m\u001b[0;34m\u001b[0m\u001b[0;34m\u001b[0m\u001b[0m\n\u001b[0;32m-> 2777\u001b[0;31m       \u001b[0mgraph_function\u001b[0m \u001b[0;34m=\u001b[0m \u001b[0mself\u001b[0m\u001b[0;34m.\u001b[0m\u001b[0m_create_graph_function\u001b[0m\u001b[0;34m(\u001b[0m\u001b[0margs\u001b[0m\u001b[0;34m,\u001b[0m \u001b[0mkwargs\u001b[0m\u001b[0;34m)\u001b[0m\u001b[0;34m\u001b[0m\u001b[0;34m\u001b[0m\u001b[0m\n\u001b[0m\u001b[1;32m   2778\u001b[0m       \u001b[0mself\u001b[0m\u001b[0;34m.\u001b[0m\u001b[0m_function_cache\u001b[0m\u001b[0;34m.\u001b[0m\u001b[0mprimary\u001b[0m\u001b[0;34m[\u001b[0m\u001b[0mcache_key\u001b[0m\u001b[0;34m]\u001b[0m \u001b[0;34m=\u001b[0m \u001b[0mgraph_function\u001b[0m\u001b[0;34m\u001b[0m\u001b[0;34m\u001b[0m\u001b[0m\n\u001b[1;32m   2779\u001b[0m       \u001b[0;32mreturn\u001b[0m \u001b[0mgraph_function\u001b[0m\u001b[0;34m,\u001b[0m \u001b[0margs\u001b[0m\u001b[0;34m,\u001b[0m \u001b[0mkwargs\u001b[0m\u001b[0;34m\u001b[0m\u001b[0;34m\u001b[0m\u001b[0m\n",
            "\u001b[0;32m/usr/local/lib/python3.8/dist-packages/tensorflow/python/eager/function.py\u001b[0m in \u001b[0;36m_create_graph_function\u001b[0;34m(self, args, kwargs, override_flat_arg_shapes)\u001b[0m\n\u001b[1;32m   2655\u001b[0m     \u001b[0marg_names\u001b[0m \u001b[0;34m=\u001b[0m \u001b[0mbase_arg_names\u001b[0m \u001b[0;34m+\u001b[0m \u001b[0mmissing_arg_names\u001b[0m\u001b[0;34m\u001b[0m\u001b[0;34m\u001b[0m\u001b[0m\n\u001b[1;32m   2656\u001b[0m     graph_function = ConcreteFunction(\n\u001b[0;32m-> 2657\u001b[0;31m         func_graph_module.func_graph_from_py_func(\n\u001b[0m\u001b[1;32m   2658\u001b[0m             \u001b[0mself\u001b[0m\u001b[0;34m.\u001b[0m\u001b[0m_name\u001b[0m\u001b[0;34m,\u001b[0m\u001b[0;34m\u001b[0m\u001b[0;34m\u001b[0m\u001b[0m\n\u001b[1;32m   2659\u001b[0m             \u001b[0mself\u001b[0m\u001b[0;34m.\u001b[0m\u001b[0m_python_function\u001b[0m\u001b[0;34m,\u001b[0m\u001b[0;34m\u001b[0m\u001b[0;34m\u001b[0m\u001b[0m\n",
            "\u001b[0;32m/usr/local/lib/python3.8/dist-packages/tensorflow/python/framework/func_graph.py\u001b[0m in \u001b[0;36mfunc_graph_from_py_func\u001b[0;34m(name, python_func, args, kwargs, signature, func_graph, autograph, autograph_options, add_control_dependencies, arg_names, op_return_value, collections, capture_by_value, override_flat_arg_shapes)\u001b[0m\n\u001b[1;32m    979\u001b[0m         \u001b[0m_\u001b[0m\u001b[0;34m,\u001b[0m \u001b[0moriginal_func\u001b[0m \u001b[0;34m=\u001b[0m \u001b[0mtf_decorator\u001b[0m\u001b[0;34m.\u001b[0m\u001b[0munwrap\u001b[0m\u001b[0;34m(\u001b[0m\u001b[0mpython_func\u001b[0m\u001b[0;34m)\u001b[0m\u001b[0;34m\u001b[0m\u001b[0;34m\u001b[0m\u001b[0m\n\u001b[1;32m    980\u001b[0m \u001b[0;34m\u001b[0m\u001b[0m\n\u001b[0;32m--> 981\u001b[0;31m       \u001b[0mfunc_outputs\u001b[0m \u001b[0;34m=\u001b[0m \u001b[0mpython_func\u001b[0m\u001b[0;34m(\u001b[0m\u001b[0;34m*\u001b[0m\u001b[0mfunc_args\u001b[0m\u001b[0;34m,\u001b[0m \u001b[0;34m**\u001b[0m\u001b[0mfunc_kwargs\u001b[0m\u001b[0;34m)\u001b[0m\u001b[0;34m\u001b[0m\u001b[0;34m\u001b[0m\u001b[0m\n\u001b[0m\u001b[1;32m    982\u001b[0m \u001b[0;34m\u001b[0m\u001b[0m\n\u001b[1;32m    983\u001b[0m       \u001b[0;31m# invariant: `func_outputs` contains only Tensors, CompositeTensors,\u001b[0m\u001b[0;34m\u001b[0m\u001b[0;34m\u001b[0m\u001b[0;34m\u001b[0m\u001b[0m\n",
            "\u001b[0;32m/usr/local/lib/python3.8/dist-packages/tensorflow/python/eager/def_function.py\u001b[0m in \u001b[0;36mwrapped_fn\u001b[0;34m(*args, **kwds)\u001b[0m\n\u001b[1;32m    439\u001b[0m         \u001b[0;31m# __wrapped__ allows AutoGraph to swap in a converted function. We give\u001b[0m\u001b[0;34m\u001b[0m\u001b[0;34m\u001b[0m\u001b[0;34m\u001b[0m\u001b[0m\n\u001b[1;32m    440\u001b[0m         \u001b[0;31m# the function a weak reference to itself to avoid a reference cycle.\u001b[0m\u001b[0;34m\u001b[0m\u001b[0;34m\u001b[0m\u001b[0;34m\u001b[0m\u001b[0m\n\u001b[0;32m--> 441\u001b[0;31m         \u001b[0;32mreturn\u001b[0m \u001b[0mweak_wrapped_fn\u001b[0m\u001b[0;34m(\u001b[0m\u001b[0;34m)\u001b[0m\u001b[0;34m.\u001b[0m\u001b[0m__wrapped__\u001b[0m\u001b[0;34m(\u001b[0m\u001b[0;34m*\u001b[0m\u001b[0margs\u001b[0m\u001b[0;34m,\u001b[0m \u001b[0;34m**\u001b[0m\u001b[0mkwds\u001b[0m\u001b[0;34m)\u001b[0m\u001b[0;34m\u001b[0m\u001b[0;34m\u001b[0m\u001b[0m\n\u001b[0m\u001b[1;32m    442\u001b[0m     \u001b[0mweak_wrapped_fn\u001b[0m \u001b[0;34m=\u001b[0m \u001b[0mweakref\u001b[0m\u001b[0;34m.\u001b[0m\u001b[0mref\u001b[0m\u001b[0;34m(\u001b[0m\u001b[0mwrapped_fn\u001b[0m\u001b[0;34m)\u001b[0m\u001b[0;34m\u001b[0m\u001b[0;34m\u001b[0m\u001b[0m\n\u001b[1;32m    443\u001b[0m \u001b[0;34m\u001b[0m\u001b[0m\n",
            "\u001b[0;32m/usr/local/lib/python3.8/dist-packages/tensorflow/python/framework/func_graph.py\u001b[0m in \u001b[0;36mwrapper\u001b[0;34m(*args, **kwargs)\u001b[0m\n\u001b[1;32m    966\u001b[0m           \u001b[0;32mexcept\u001b[0m \u001b[0mException\u001b[0m \u001b[0;32mas\u001b[0m \u001b[0me\u001b[0m\u001b[0;34m:\u001b[0m  \u001b[0;31m# pylint:disable=broad-except\u001b[0m\u001b[0;34m\u001b[0m\u001b[0;34m\u001b[0m\u001b[0m\n\u001b[1;32m    967\u001b[0m             \u001b[0;32mif\u001b[0m \u001b[0mhasattr\u001b[0m\u001b[0;34m(\u001b[0m\u001b[0me\u001b[0m\u001b[0;34m,\u001b[0m \u001b[0;34m\"ag_error_metadata\"\u001b[0m\u001b[0;34m)\u001b[0m\u001b[0;34m:\u001b[0m\u001b[0;34m\u001b[0m\u001b[0;34m\u001b[0m\u001b[0m\n\u001b[0;32m--> 968\u001b[0;31m               \u001b[0;32mraise\u001b[0m \u001b[0me\u001b[0m\u001b[0;34m.\u001b[0m\u001b[0mag_error_metadata\u001b[0m\u001b[0;34m.\u001b[0m\u001b[0mto_exception\u001b[0m\u001b[0;34m(\u001b[0m\u001b[0me\u001b[0m\u001b[0;34m)\u001b[0m\u001b[0;34m\u001b[0m\u001b[0;34m\u001b[0m\u001b[0m\n\u001b[0m\u001b[1;32m    969\u001b[0m             \u001b[0;32melse\u001b[0m\u001b[0;34m:\u001b[0m\u001b[0;34m\u001b[0m\u001b[0;34m\u001b[0m\u001b[0m\n\u001b[1;32m    970\u001b[0m               \u001b[0;32mraise\u001b[0m\u001b[0;34m\u001b[0m\u001b[0;34m\u001b[0m\u001b[0m\n",
            "\u001b[0;31mValueError\u001b[0m: in user code:\n\n    /usr/local/lib/python3.8/dist-packages/tensorflow/python/keras/engine/training.py:1147 predict_function  *\n        outputs = self.distribute_strategy.run(\n    /usr/local/lib/python3.8/dist-packages/tensorflow/python/distribute/distribute_lib.py:951 run  **\n        return self._extended.call_for_each_replica(fn, args=args, kwargs=kwargs)\n    /usr/local/lib/python3.8/dist-packages/tensorflow/python/distribute/distribute_lib.py:2290 call_for_each_replica\n        return self._call_for_each_replica(fn, args, kwargs)\n    /usr/local/lib/python3.8/dist-packages/tensorflow/python/distribute/distribute_lib.py:2649 _call_for_each_replica\n        return fn(*args, **kwargs)\n    /usr/local/lib/python3.8/dist-packages/tensorflow/python/keras/engine/training.py:1122 predict_step  **\n        return self(x, training=False)\n    /usr/local/lib/python3.8/dist-packages/tensorflow/python/keras/engine/base_layer.py:885 __call__\n        input_spec.assert_input_compatibility(self.input_spec, inputs,\n    /usr/local/lib/python3.8/dist-packages/tensorflow/python/keras/engine/input_spec.py:176 assert_input_compatibility\n        raise ValueError('Input ' + str(input_index) + ' of layer ' +\n\n    ValueError: Input 0 of layer sequential is incompatible with the layer: expected ndim=4, found ndim=3. Full shape received: [None, 48, 48]\n"
          ]
        }
      ]
    },
    {
      "cell_type": "code",
      "source": [
        "# most domiant emotion of the face expression\n",
        "print(df[df.Percentage == df.Percentage.max()])"
      ],
      "metadata": {
        "id": "lYQZNpTMBfgv"
      },
      "execution_count": null,
      "outputs": []
    },
    {
      "cell_type": "markdown",
      "source": [
        "## Video-Frame-DeepFace-Output (One Code)"
      ],
      "metadata": {
        "id": "laPMpjoBKGgS"
      }
    },
    {
      "cell_type": "code",
      "source": [
        "# !pip install deepface\n",
        "import cv2\n",
        "from deepface import DeepFace \n",
        "from collections import Counter\n",
        "from pathlib import Path\n",
        "import os\n",
        "import glob\n",
        "from collections import Counter\n",
        "\n",
        "# Extrac frames from video \n",
        "video = cv2.VideoCapture('/content/gdrive/MyDrive/From Motion to Emotion/Greta_UN.mp4')\n",
        "    \n",
        "total_frames = int(video.get(cv2.CAP_PROP_FRAME_COUNT))\n",
        "\n",
        "step = 10 # if step = 10, then only every 10-th frame will be considered and saved\n",
        "\n",
        "from collections import Counter\n",
        "count = 0\n",
        "\n",
        "frame_list = [] \n",
        "\n",
        "for i in range(total_frames):\n",
        "    ret, frame = video.read()\n",
        "    if ret:\n",
        "        count += 1\n",
        "        if count % step == 0:\n",
        "            frame_list.append(frame)\n",
        "            \n",
        "video.release()\n",
        "\n",
        "# Analysis emotion from frames\n",
        "\n",
        "df = pd.DataFrame()\n",
        "emotions_list = []\n",
        "\n",
        "for picture in frame_list:\n",
        "\n",
        "    objs = DeepFace.analyze(picture, actions = 'emotion', enforce_detection = False)\n",
        "    dominant_emotion = objs[0]['dominant_emotion']\n",
        "    emotions_list.append(dominant_emotion)\n",
        "\n",
        "# Create Output\n",
        "df['Emotion'] = Counter(emotions_list).keys()\n",
        "df['Counts'] = Counter(emotions_list).values()\n",
        "df['Percentage'] = (df['Counts']/df['Counts'].sum())*100\n",
        "print(df)\n",
        "print(df[df.Percentage == df.Percentage.max()])\n"
      ],
      "metadata": {
        "id": "pcuTOEfUKSmR"
      },
      "execution_count": null,
      "outputs": []
    },
    {
      "cell_type": "code",
      "source": [
        "df"
      ],
      "metadata": {
        "id": "0VQ73lfIBzok"
      },
      "execution_count": null,
      "outputs": []
    },
    {
      "cell_type": "code",
      "source": [
        "percent = df.Percentage.max().round(2)\n",
        "print (percent, '%')"
      ],
      "metadata": {
        "id": "PGf_VLR05_w9"
      },
      "execution_count": null,
      "outputs": []
    },
    {
      "cell_type": "code",
      "source": [
        "df_sorted = df[['Emotion','Percentage']].sort_values(by = 'Percentage', ascending=False)\n",
        "df_sorted.reset_index(drop = True, inplace=True)"
      ],
      "metadata": {
        "id": "-MGRsdiQHcEI"
      },
      "execution_count": null,
      "outputs": []
    },
    {
      "cell_type": "code",
      "source": [
        "emoji_dic = {'neutral': ':neutral_face:',\n",
        "           'fear':':anguished:',\n",
        "           'angry': ':angry:',\n",
        "           'sad':':cry:',\n",
        "           'happy':':grin:',\n",
        "           'suprise':':astanished:',\n",
        "           'disgust':':confounded:' \n",
        "}\n"
      ],
      "metadata": {
        "id": "3CycikR9PVD1"
      },
      "execution_count": null,
      "outputs": []
    },
    {
      "cell_type": "markdown",
      "source": [
        "# Extract Text from Video"
      ],
      "metadata": {
        "id": "GTgYuJxBctUA"
      }
    },
    {
      "cell_type": "code",
      "source": [
        "# !pip install imageio-ffmpeg\n",
        "import speech_recognition as sr\n",
        "from moviepy.audio.AudioClip import AudioClip\n",
        "from moviepy.audio.io.readers import FFMPEG_AudioReader"
      ],
      "metadata": {
        "id": "GNCLun60dEbf"
      },
      "execution_count": null,
      "outputs": []
    },
    {
      "cell_type": "code",
      "source": [
        "audioclip = AudioFileClip('/content/gdrive/MyDrive/From Motion to Emotion/Greta_UN.mp4')\n",
        "# audioclip.write_audiofile(f\"audio_from_video_sm.wav\")\n",
        "# audio_to_be_text = (f\"audio_from_video_sm.wav\")"
      ],
      "metadata": {
        "id": "lQpX4EV8cy9v"
      },
      "execution_count": null,
      "outputs": []
    },
    {
      "cell_type": "code",
      "source": [
        "r = sr.Recognizer()\n",
        "\n",
        "# open the file\n",
        "with sr.AudioFile(audio_to_be_text) as source:\n",
        "    # listen for the data (load audio to memory)\n",
        "    audio_data = r.record(source)\n",
        "    # recognize (convert from speech to text)\n",
        "    text = r.recognize_google(audio_data)\n",
        "    print(text)"
      ],
      "metadata": {
        "id": "DnAttSz7c2y3"
      },
      "execution_count": null,
      "outputs": []
    },
    {
      "cell_type": "markdown",
      "source": [
        "## new approach"
      ],
      "metadata": {
        "id": "3pns2aonjhwZ"
      }
    },
    {
      "cell_type": "code",
      "source": [
        "!pip install SpeechRecognition moviepy\n",
        "!pip3 install imageio==2.4.1\n",
        "!pip install imageio-ffmpeg\n",
        "!pip install --upgrade moviepy\n",
        "import speech_recognition as sr \n",
        "import moviepy.editor as mp\n",
        "r = sr.Recognizer()"
      ],
      "metadata": {
        "id": "kqJaQUkffP6i"
      },
      "execution_count": null,
      "outputs": []
    },
    {
      "cell_type": "code",
      "source": [
        "clip = mp.VideoFileClip('/content/gdrive/MyDrive/From Motion to Emotion/Greta_UN.mp4') \n",
        "clip.audio.write_audiofile('Greta_UN.wav')\n",
        "\n",
        "audio = sr.AudioFile(\"Greta_UN.wav\")\n",
        "\n",
        "with audio as source:\n",
        "  audio_file = r.record(source)\n",
        "  result = r.recognize_google(audio_file)\n",
        "\n",
        "result"
      ],
      "metadata": {
        "id": "csL7AT5DfgZc"
      },
      "execution_count": null,
      "outputs": []
    },
    {
      "cell_type": "code",
      "source": [
        "audio = sr.AudioFile(\"conveGreta_UNrted.wav\")"
      ],
      "metadata": {
        "id": "wkEnE2OUhUfz"
      },
      "execution_count": null,
      "outputs": []
    },
    {
      "cell_type": "code",
      "source": [
        "with audio as source:\n",
        "  audio_file = r.record(source)\n",
        "  result = r.recognize_google(audio_file)"
      ],
      "metadata": {
        "id": "Rmw7UCTZhUcj"
      },
      "execution_count": null,
      "outputs": []
    },
    {
      "cell_type": "code",
      "source": [
        "result"
      ],
      "metadata": {
        "id": "QK9ioSmRlWN-"
      },
      "execution_count": null,
      "outputs": []
    },
    {
      "cell_type": "code",
      "source": [],
      "metadata": {
        "id": "vZR83PaulWJN"
      },
      "execution_count": null,
      "outputs": []
    },
    {
      "cell_type": "code",
      "source": [
        "# exporting the result \n",
        "with open('recognized.txt',mode ='w') as file: \n",
        "   file.write(\"Recognized Speech:\") \n",
        "   file.write(\"\\n\") \n",
        "   file.write(result) \n",
        "   print(\"ready!\")"
      ],
      "metadata": {
        "id": "TOq8YXGQhUSZ"
      },
      "execution_count": null,
      "outputs": []
    },
    {
      "cell_type": "markdown",
      "source": [
        "## 2 new approach"
      ],
      "metadata": {
        "id": "_iu7Yfqlj25i"
      }
    },
    {
      "cell_type": "code",
      "source": [
        "from tkinter import *\n",
        "import moviepy.editor as mp \n",
        "import speech_recognition as sr\n",
        "\n",
        "\n",
        "root=Tk()\n",
        "root.geometry('750x420+480+0')\n",
        "root.resizable(False,False)\n",
        "root.config(bg='dark slate gray')\n",
        "root.title('Video To Text Converter')\n",
        "\n",
        "def convert():\n",
        "    clip = mp.VideoFileClip(entry_vid.get()) \n",
        "    clip.audio.write_audiofile(entry_file.get()) \n",
        "        \n",
        "def text():\n",
        "    r = sr.Recognizer()\n",
        "    audio = sr.AudioFile(entry_file.get())\n",
        "    with audio as source:        \n",
        "        audtext = r.listen(source)\n",
        "        try:            \n",
        "            text1 = r.recognize_google(audtext)\n",
        "            st1.set(text1)\n",
        "        except:\n",
        "            st1.set('Try Again!')\n",
        "   \n",
        "def EXIT():\n",
        "    root.destroy()\n",
        "     \n",
        "    \n",
        "\n",
        "\n",
        "# Ltitle = Label(root,text='Video to Text Converter',font='Courier 16 underline bold',bg='dark slate gray',fg='mint cream').grid(row=0,column=2,ipadx=70)\n",
        "\n",
        "# Lvid = Label(root,text=\"Video Path :\",font='Constantia 14',bg='dark slate gray',fg='mint cream').grid(row=2,column=1,ipady=24,ipadx=18)\n",
        "# entry_vid = Entry(root,width=70)\n",
        "# entry_vid.insert(0,\"FILE PATH .mp4\")\n",
        "# entry_vid.place(x=150,y=60)\n",
        "# btn_con = Button(root,text='Convert to Text',font='Constantia 10',fg='maroon',command=convert).place(x=600,y=55)\n",
        "\n",
        "# Lfile = Label(root,text='File Name :',font='Constantia 14',bg='dark slate gray',fg='mint cream').grid(row=3,column=1,ipady=8,ipadx=18)\n",
        "# entry_file = Entry(root,width=70)\n",
        "# entry_file.insert(0,\"FILE NAME .wav\")\n",
        "# entry_file.place(x=150,y=120)\n",
        "\n",
        "# st1 =StringVar()\n",
        "# Ltext = Label(root,text=\"Text :\",font='Constantia 14',bg='dark slate gray',fg='mint cream').grid(row=4,column=1)\n",
        "# entry_text = Entry(root,width=70,textvariable=st1).grid(row=4,column=2,ipady=85)\n",
        "# btn_text = Button(root,text='Get Text',font='Constantia 10',command=text,fg='maroon').place(x=300,y=360)\n",
        "\n",
        "\n",
        "# butexit = Button(root,text= \"Exit\",command=EXIT,font='Constantia 10',fg='maroon').place(x=380,y=360)\n",
        "\n",
        "\n",
        "# root.mainloop()\n",
        "\n",
        "               \n",
        "  "
      ],
      "metadata": {
        "id": "Z0NqkD5LkJeK"
      },
      "execution_count": null,
      "outputs": []
    },
    {
      "cell_type": "markdown",
      "source": [
        "# Aspect-Based Sentiment Analysis(ABSA)"
      ],
      "metadata": {
        "id": "pDQlwH68jcpX"
      }
    },
    {
      "cell_type": "code",
      "source": [
        "# !pip install aspect-based-sentiment-analysis\n",
        "# !pip uninstall aspect-based-sentiment-analysis==1.1.0\n",
        "# import aspect_based_sentiment_analysis as absa"
      ],
      "metadata": {
        "id": "cPPqOSQsZLLc"
      },
      "execution_count": 5,
      "outputs": []
    },
    {
      "cell_type": "code",
      "source": [
        "# nlp = absa.load() \n",
        "# text_1 = (\"this is all wrong I shouldn't be up here I should be back in school on the other side of the ocean yet you all come to us young people for Hope how dare you you have stolen my dreams and my childhood with your empty words and yet I'm one of the lucky ones people are suffering people are dying entire ecosystems are collapsing we are in the beginning of a mass extinction and all you can talk about is the money and fairy tales of Eternal economic growth how dare you\")\n",
        "# people, childhood, ecosystem  = nlp(text_1, aspects = ['people','childhood','ecosystem'])\n",
        "# print(people.sentiment)\n",
        "# print(childhood.sentiment)\n",
        "# print(ecosystem.sentiment)"
      ],
      "metadata": {
        "id": "iY7Uq8A1ipdZ"
      },
      "execution_count": null,
      "outputs": []
    },
    {
      "cell_type": "code",
      "source": [
        "# print(\"people\", people.sentiment)\n",
        "# print(\"dreams\", dreams.sentiment)\n",
        "# print(\"childhood\", childhood.sentiment)\n",
        "# print(\"ecosystem\", ecosystem.sentiment)\n",
        "# print(\"mass exstinction\", mass_extinction.sentiment)\n",
        "# print(\"fairy tales\", fairy_tales.sentiment)\n",
        "# print(\"ecnonomic growth\", economic_growth.sentiment)"
      ],
      "metadata": {
        "id": "qe2ciqgzlukW"
      },
      "execution_count": null,
      "outputs": []
    },
    {
      "cell_type": "code",
      "source": [
        "# # importance \n",
        "# completed_task = nlp(text_3, aspects=['happiness', 'success', 'job', 'boyfriend', 'apartment', 'feeling', 'friends'])\n",
        "# happiness, success, job, boyfriend, apartment, feeling, friends = completed_task.examples\n",
        "\n",
        "# absa.summary(happiness)\n",
        "# absa.display(happiness.review)\n",
        "\n",
        "# absa.summary(success)\n",
        "# absa.display(success.review)\n",
        "\n",
        "# absa.summary(job)\n",
        "# absa.display(job.review)\n",
        "\n",
        "# absa.summary(boyfriend)\n",
        "# absa.display(boyfriend.review)\n",
        "\n",
        "# absa.summary(apartment)\n",
        "# absa.display(feeling.review)\n",
        "\n",
        "# absa.summary(friends)\n",
        "# absa.display(friends.review)"
      ],
      "metadata": {
        "id": "OSwv8Q0-kNee"
      },
      "execution_count": null,
      "outputs": []
    },
    {
      "cell_type": "markdown",
      "source": [
        "# Simply Sentiment Analysis"
      ],
      "metadata": {
        "id": "-t0qxDUWs_DA"
      }
    },
    {
      "cell_type": "code",
      "source": [
        "text_sent = {'neg' : 'Negative',\n",
        "              'neu' : 'Neutral',\n",
        "              'pos' : 'Positive' \n",
        "              }"
      ],
      "metadata": {
        "id": "_qLFJ3qxxRnu"
      },
      "execution_count": 144,
      "outputs": []
    },
    {
      "cell_type": "code",
      "source": [
        "# # !pip install nltk\n",
        "# import nltk\n",
        "# nltk.download('vader_lexicon')\n",
        "# from nltk.sentiment import SentimentIntensityAnalyzer\n",
        "sia = SentimentIntensityAnalyzer()\n",
        "\n",
        "sentiment = sia.polarity_scores(text)\n",
        "print('Negative', sentiment['neg'])\n",
        "print('Neutral', sentiment['neu'])\n",
        "print('Positive',sentiment['pos'])"
      ],
      "metadata": {
        "colab": {
          "base_uri": "https://localhost:8080/"
        },
        "id": "W96wpIvEtFal",
        "outputId": "518958fc-305a-444e-a1e8-ada7d0f1552c"
      },
      "execution_count": 212,
      "outputs": [
        {
          "output_type": "stream",
          "name": "stdout",
          "text": [
            "Negative 0.127\n",
            "Neutral 0.769\n",
            "Positive 0.104\n"
          ]
        }
      ]
    },
    {
      "cell_type": "code",
      "source": [
        "keys_to_keep = ['neg', 'neu', 'pos']\n",
        "sentiment = {k: sentiment[k] for k in keys_to_keep}\n",
        "#print(max(sentiment, key=sentiment.get))\n",
        "print(text_emo[max(sentiment, key=sentiment.get)])"
      ],
      "metadata": {
        "colab": {
          "base_uri": "https://localhost:8080/"
        },
        "id": "WN2B53AJtXcv",
        "outputId": "3690ea53-06d1-4d91-ca0f-9be6d916ea77"
      },
      "execution_count": 23,
      "outputs": [
        {
          "output_type": "stream",
          "name": "stdout",
          "text": [
            "Neutral Sentiment\n"
          ]
        }
      ]
    },
    {
      "cell_type": "code",
      "source": [],
      "metadata": {
        "id": "sO6TMRaN1NKG"
      },
      "execution_count": null,
      "outputs": []
    },
    {
      "cell_type": "markdown",
      "source": [
        "# Text Emotion Detection "
      ],
      "metadata": {
        "id": "poVK913B-bKo"
      }
    },
    {
      "cell_type": "code",
      "source": [
        "# !pip install neattext\n",
        "import pandas as pd\n",
        "import numpy as np\n",
        "import neattext.functions as nfx\n",
        "# Estimators\n",
        "from sklearn.linear_model import LogisticRegression\n",
        "from sklearn.naive_bayes import MultinomialNB\n",
        "\n",
        "# Transformers\n",
        "from sklearn.feature_extraction.text import CountVectorizer\n",
        "from sklearn.model_selection import train_test_split\n",
        "from sklearn.metrics import accuracy_score,classification_report,confusion_matrix\n",
        "from sklearn.pipeline import Pipeline\n",
        "\n",
        "df = pd.read_csv(\"/content/gdrive/MyDrive/From Motion to Emotion/6_emotion.csv\")\n",
        "#df['Emotion'].value_counts()"
      ],
      "metadata": {
        "colab": {
          "base_uri": "https://localhost:8080/"
        },
        "id": "HYOfHu3K9xw-",
        "outputId": "ad821e9e-6606-4c94-f7b0-1f944fa95106"
      },
      "execution_count": 126,
      "outputs": [
        {
          "output_type": "stream",
          "name": "stdout",
          "text": [
            "Looking in indexes: https://pypi.org/simple, https://us-python.pkg.dev/colab-wheels/public/simple/\n",
            "Requirement already satisfied: neattext in /usr/local/lib/python3.8/dist-packages (0.1.3)\n"
          ]
        }
      ]
    },
    {
      "cell_type": "markdown",
      "source": [
        "## With stop_words"
      ],
      "metadata": {
        "id": "97ynA8HdPOP4"
      }
    },
    {
      "cell_type": "code",
      "source": [
        "df['Clean_Text'] = df['Text'].apply(nfx.remove_userhandles)\n",
        "\n",
        "Xfeatures = df['Clean_Text']\n",
        "ylabels = df['Emotion']\n",
        "\n",
        "# split data\n",
        "x_train,x_test,y_train,y_test = train_test_split(Xfeatures,ylabels,test_size=0.3,random_state=42)\n",
        "\n",
        "# LogistiticRegression pipeline\n",
        "pipe_lr = Pipeline(steps=[('cv',CountVectorizer()),('lr',LogisticRegression())])\n",
        "\n",
        "# train and fit data\n",
        "pipe_lr.fit(x_train,y_train)\n",
        "\n",
        "# with remove_userhandles\n",
        "print(pipe_lr.score(x_test,y_test))\n",
        "\n",
        "print(pipe_lr.predict([text])[0])"
      ],
      "metadata": {
        "colab": {
          "base_uri": "https://localhost:8080/"
        },
        "id": "h-N9kNDMPZvD",
        "outputId": "a5567b05-878e-4f35-e396-31974fbe8fff"
      },
      "execution_count": 135,
      "outputs": [
        {
          "output_type": "stream",
          "name": "stdout",
          "text": [
            "0.6323050392795555\n",
            "anger\n"
          ]
        }
      ]
    },
    {
      "cell_type": "code",
      "source": [
        "import pickle\n",
        "\n",
        "filename = 'emo_text_model.sav'\n",
        "pickle.dump(pipe_lr, open(filename, 'wb'))"
      ],
      "metadata": {
        "id": "s921-caKT2IQ"
      },
      "execution_count": 138,
      "outputs": []
    },
    {
      "cell_type": "code",
      "source": [
        "# load the model from disk\n",
        "loaded_model = pickle.load(open(filename, 'rb'))\n",
        "result = loaded_model.predict([text])[0]\n",
        "print(result)"
      ],
      "metadata": {
        "colab": {
          "base_uri": "https://localhost:8080/"
        },
        "id": "nCUt70UrUHoo",
        "outputId": "c23a8621-1eac-4a34-dca1-e8203282a14d"
      },
      "execution_count": 139,
      "outputs": [
        {
          "output_type": "stream",
          "name": "stdout",
          "text": [
            "anger\n"
          ]
        }
      ]
    },
    {
      "cell_type": "markdown",
      "source": [
        "## Without stop_words "
      ],
      "metadata": {
        "id": "2DM1eNgdQv-6"
      }
    },
    {
      "cell_type": "code",
      "source": [
        "# df['Clean_Text'] = df['Text'].apply(nfx.remove_userhandles)\n",
        "# df['Clean_Text'] = df['Clean_Text'].apply(nfx.remove_stopwords)\n",
        "\n",
        "# Xfeatures = df['Clean_Text']\n",
        "# ylabels = df['Emotion']\n",
        "\n",
        "# # split data\n",
        "# x_train,x_test,y_train,y_test = train_test_split(Xfeatures,ylabels,test_size=0.3,random_state=42)\n",
        "\n",
        "# # LogistiticRegression pipeline\n",
        "# pipe_lr = Pipeline(steps=[('cv',CountVectorizer()),('lr',LogisticRegression())])\n",
        "\n",
        "# # train and fit data\n",
        "# pipe_lr.fit(x_train,y_train)\n",
        "\n",
        "# # with remove_userhandles\n",
        "# print(pipe_lr.score(x_test,y_test))\n",
        "\n",
        "# print(pipe_lr.predict([text])[0])"
      ],
      "metadata": {
        "colab": {
          "base_uri": "https://localhost:8080/"
        },
        "id": "d0xNGKc0Q4XF",
        "outputId": "fd1378a5-c3b2-4635-d903-c1302d75dc88"
      },
      "execution_count": 134,
      "outputs": [
        {
          "output_type": "stream",
          "name": "stdout",
          "text": [
            "0.6200421536692853\n",
            "fear\n"
          ]
        }
      ]
    },
    {
      "cell_type": "markdown",
      "source": [
        "### Text"
      ],
      "metadata": {
        "id": "hrv6tSXOSwcT"
      }
    },
    {
      "cell_type": "code",
      "source": [
        "# without stop words\n",
        "nfx.remove_stopwords(text)"
      ],
      "metadata": {
        "colab": {
          "base_uri": "https://localhost:8080/",
          "height": 53
        },
        "id": "XgcQ6ahHRZEL",
        "outputId": "71ebd58c-8dd5-477a-8ad8-3ab8940753eb"
      },
      "execution_count": 132,
      "outputs": [
        {
          "output_type": "execute_result",
          "data": {
            "text/plain": [
              "\"wrong school ocean come young people Hope dare stolen dreams childhood words I'm lucky ones people suffering people dying entire ecosystems collapsing beginning mass extinction talk money fairy tales Eternal economic growth dare\""
            ],
            "application/vnd.google.colaboratory.intrinsic+json": {
              "type": "string"
            }
          },
          "metadata": {},
          "execution_count": 132
        }
      ]
    },
    {
      "cell_type": "code",
      "source": [
        "# original text\n",
        "text"
      ],
      "metadata": {
        "colab": {
          "base_uri": "https://localhost:8080/",
          "height": 88
        },
        "id": "XlGKu0LmMOmF",
        "outputId": "4d6eb8e3-b3e3-41e0-bfee-c3d914496a73"
      },
      "execution_count": null,
      "outputs": [
        {
          "output_type": "execute_result",
          "data": {
            "text/plain": [
              "\"this is all wrong I shouldn't be up here I should be back in school on the other side of the ocean yet you all come to us young people for Hope how dare you you have stolen my dreams and my childhood with your empty words and yet I'm one of the lucky ones people are suffering people are dying entire ecosystems are collapsing we are in the beginning of a mass extinction and all you can talk about is the money and fairy tales of Eternal economic growth how dare you\""
            ],
            "application/vnd.google.colaboratory.intrinsic+json": {
              "type": "string"
            }
          },
          "metadata": {},
          "execution_count": 124
        }
      ]
    },
    {
      "cell_type": "code",
      "source": [
        "# without userhadles\n",
        "nfx.remove_userhandles(text)"
      ],
      "metadata": {
        "colab": {
          "base_uri": "https://localhost:8080/",
          "height": 88
        },
        "id": "tWOR4h6uSVsn",
        "outputId": "5fadc2be-17e7-491e-c847-5275e1f1b5bd"
      },
      "execution_count": 133,
      "outputs": [
        {
          "output_type": "execute_result",
          "data": {
            "text/plain": [
              "\"this is all wrong I shouldn't be up here I should be back in school on the other side of the ocean yet you all come to us young people for Hope how dare you you have stolen my dreams and my childhood with your empty words and yet I'm one of the lucky ones people are suffering people are dying entire ecosystems are collapsing we are in the beginning of a mass extinction and all you can talk about is the money and fairy tales of Eternal economic growth how dare you\""
            ],
            "application/vnd.google.colaboratory.intrinsic+json": {
              "type": "string"
            }
          },
          "metadata": {},
          "execution_count": 133
        }
      ]
    },
    {
      "cell_type": "markdown",
      "source": [
        "# Audio to Spectrom"
      ],
      "metadata": {
        "id": "Rmcc5wqYyl3q"
      }
    },
    {
      "cell_type": "code",
      "source": [
        "# !pip install librosa"
      ],
      "metadata": {
        "id": "5yPxHmCFzMtL"
      },
      "execution_count": null,
      "outputs": []
    },
    {
      "cell_type": "code",
      "source": [
        "import librosa\n",
        "import librosa.display\n",
        "import matplotlib.pyplot as plt\n",
        "# path_save = r'C:\\Users\\Olia\\Desktop\\Lips Reading\\Day5(Video+Audio_camera, CPU)\\CNN_Checkpoints\\test_spec.jpeg'\n",
        "path_load = '/content/gdrive/MyDrive/From Motion to Emotion/03-01-01-01-01-01-01.wav'\n",
        "y, sr = librosa.load(path_load)\n",
        "y, index = librosa.effects.trim(y)\n",
        "mel_spect = librosa.feature.melspectrogram(y=y, sr=sr, n_fft=1024, hop_length=100)\n",
        "mel_spect = librosa.power_to_db(mel_spect, ref=np.max)\n",
        "spectrogram = librosa.display.specshow(mel_spect, y_axis='mel', fmax=20000, x_axis='time');\n",
        "# plt.savefig(path_save)\n",
        "plt.savefig('test.png')"
      ],
      "metadata": {
        "colab": {
          "base_uri": "https://localhost:8080/",
          "height": 279
        },
        "id": "Hl1XOv4nypI5",
        "outputId": "5ba507fa-c76e-4d34-c406-d79dbaae9690"
      },
      "execution_count": 184,
      "outputs": [
        {
          "output_type": "display_data",
          "data": {
            "text/plain": [
              "<Figure size 432x288 with 1 Axes>"
            ],
            "image/png": "[encoded data removed]"
          },
          "metadata": {
            "needs_background": "light"
          }
        }
      ]
    },
    {
      "cell_type": "code",
      "source": [
        "loaded_model = pickle.load(open('/content/gdrive/MyDrive/From Motion to Emotion/CNN_model.sav', 'rb'))\n",
        "result = loaded_model.predict(spectrogram)\n",
        "print(result)"
      ],
      "metadata": {
        "colab": {
          "base_uri": "https://localhost:8080/",
          "height": 346
        },
        "id": "a114V3uFtrvq",
        "outputId": "25cefba8-3f22-4e85-aa46-1d64fc1c3ba2"
      },
      "execution_count": 195,
      "outputs": [
        {
          "output_type": "error",
          "ename": "ReadError",
          "evalue": "ignored",
          "traceback": [
            "\u001b[0;31m---------------------------------------------------------------------------\u001b[0m",
            "\u001b[0;31mReadError\u001b[0m                                 Traceback (most recent call last)",
            "\u001b[0;32m<ipython-input-195-cf824cb2443f>\u001b[0m in \u001b[0;36m<module>\u001b[0;34m\u001b[0m\n\u001b[0;32m----> 1\u001b[0;31m \u001b[0mloaded_model\u001b[0m \u001b[0;34m=\u001b[0m \u001b[0mpickle\u001b[0m\u001b[0;34m.\u001b[0m\u001b[0mload\u001b[0m\u001b[0;34m(\u001b[0m\u001b[0mopen\u001b[0m\u001b[0;34m(\u001b[0m\u001b[0;34m'/content/gdrive/MyDrive/From Motion to Emotion/CNN_model.sav'\u001b[0m\u001b[0;34m,\u001b[0m \u001b[0;34m'rb'\u001b[0m\u001b[0;34m)\u001b[0m\u001b[0;34m)\u001b[0m\u001b[0;34m\u001b[0m\u001b[0;34m\u001b[0m\u001b[0m\n\u001b[0m\u001b[1;32m      2\u001b[0m \u001b[0mresult\u001b[0m \u001b[0;34m=\u001b[0m \u001b[0mloaded_model\u001b[0m\u001b[0;34m.\u001b[0m\u001b[0mpredict\u001b[0m\u001b[0;34m(\u001b[0m\u001b[0mspectrogram\u001b[0m\u001b[0;34m)\u001b[0m\u001b[0;34m\u001b[0m\u001b[0;34m\u001b[0m\u001b[0m\n\u001b[1;32m      3\u001b[0m \u001b[0mprint\u001b[0m\u001b[0;34m(\u001b[0m\u001b[0mresult\u001b[0m\u001b[0;34m)\u001b[0m\u001b[0;34m\u001b[0m\u001b[0;34m\u001b[0m\u001b[0m\n",
            "\u001b[0;32m/usr/local/lib/python3.8/dist-packages/keras/saving/pickle_utils.py\u001b[0m in \u001b[0;36mdeserialize_model_from_bytecode\u001b[0;34m(serialized_model)\u001b[0m\n\u001b[1;32m     38\u001b[0m   \u001b[0mtemp_dir\u001b[0m \u001b[0;34m=\u001b[0m \u001b[0;34mf\"ram://{uuid.uuid4()}\"\u001b[0m\u001b[0;34m\u001b[0m\u001b[0;34m\u001b[0m\u001b[0m\n\u001b[1;32m     39\u001b[0m   \u001b[0mb\u001b[0m \u001b[0;34m=\u001b[0m \u001b[0mio\u001b[0m\u001b[0;34m.\u001b[0m\u001b[0mBytesIO\u001b[0m\u001b[0;34m(\u001b[0m\u001b[0mserialized_model\u001b[0m\u001b[0;34m)\u001b[0m\u001b[0;34m\u001b[0m\u001b[0;34m\u001b[0m\u001b[0m\n\u001b[0;32m---> 40\u001b[0;31m   \u001b[0;32mwith\u001b[0m \u001b[0mtarfile\u001b[0m\u001b[0;34m.\u001b[0m\u001b[0mopen\u001b[0m\u001b[0;34m(\u001b[0m\u001b[0mfileobj\u001b[0m\u001b[0;34m=\u001b[0m\u001b[0mb\u001b[0m\u001b[0;34m,\u001b[0m \u001b[0mmode\u001b[0m\u001b[0;34m=\u001b[0m\u001b[0;34m\"r\"\u001b[0m\u001b[0;34m)\u001b[0m \u001b[0;32mas\u001b[0m \u001b[0marchive\u001b[0m\u001b[0;34m:\u001b[0m\u001b[0;34m\u001b[0m\u001b[0;34m\u001b[0m\u001b[0m\n\u001b[0m\u001b[1;32m     41\u001b[0m     \u001b[0;32mfor\u001b[0m \u001b[0mname\u001b[0m \u001b[0;32min\u001b[0m \u001b[0marchive\u001b[0m\u001b[0;34m.\u001b[0m\u001b[0mgetnames\u001b[0m\u001b[0;34m(\u001b[0m\u001b[0;34m)\u001b[0m\u001b[0;34m:\u001b[0m\u001b[0;34m\u001b[0m\u001b[0;34m\u001b[0m\u001b[0m\n\u001b[1;32m     42\u001b[0m       \u001b[0mdest_path\u001b[0m \u001b[0;34m=\u001b[0m \u001b[0mtf\u001b[0m\u001b[0;34m.\u001b[0m\u001b[0mio\u001b[0m\u001b[0;34m.\u001b[0m\u001b[0mgfile\u001b[0m\u001b[0;34m.\u001b[0m\u001b[0mjoin\u001b[0m\u001b[0;34m(\u001b[0m\u001b[0mtemp_dir\u001b[0m\u001b[0;34m,\u001b[0m \u001b[0mname\u001b[0m\u001b[0;34m)\u001b[0m\u001b[0;34m\u001b[0m\u001b[0;34m\u001b[0m\u001b[0m\n",
            "\u001b[0;32m/usr/lib/python3.8/tarfile.py\u001b[0m in \u001b[0;36mopen\u001b[0;34m(cls, name, mode, fileobj, bufsize, **kwargs)\u001b[0m\n\u001b[1;32m   1606\u001b[0m                         \u001b[0mfileobj\u001b[0m\u001b[0;34m.\u001b[0m\u001b[0mseek\u001b[0m\u001b[0;34m(\u001b[0m\u001b[0msaved_pos\u001b[0m\u001b[0;34m)\u001b[0m\u001b[0;34m\u001b[0m\u001b[0;34m\u001b[0m\u001b[0m\n\u001b[1;32m   1607\u001b[0m                     \u001b[0;32mcontinue\u001b[0m\u001b[0;34m\u001b[0m\u001b[0;34m\u001b[0m\u001b[0m\n\u001b[0;32m-> 1608\u001b[0;31m             \u001b[0;32mraise\u001b[0m \u001b[0mReadError\u001b[0m\u001b[0;34m(\u001b[0m\u001b[0;34m\"file could not be opened successfully\"\u001b[0m\u001b[0;34m)\u001b[0m\u001b[0;34m\u001b[0m\u001b[0;34m\u001b[0m\u001b[0m\n\u001b[0m\u001b[1;32m   1609\u001b[0m \u001b[0;34m\u001b[0m\u001b[0m\n\u001b[1;32m   1610\u001b[0m         \u001b[0;32melif\u001b[0m \u001b[0;34m\":\"\u001b[0m \u001b[0;32min\u001b[0m \u001b[0mmode\u001b[0m\u001b[0;34m:\u001b[0m\u001b[0;34m\u001b[0m\u001b[0;34m\u001b[0m\u001b[0m\n",
            "\u001b[0;31mReadError\u001b[0m: file could not be opened successfully"
          ]
        }
      ]
    },
    {
      "cell_type": "code",
      "source": [
        "from PIL import Image\n",
        "  \n",
        "# open method used to open different extension image file\n",
        "im = Image.open('/content/test.png') \n",
        "  \n",
        "# This method will show image in any image viewer \n",
        "im.show() "
      ],
      "metadata": {
        "id": "JLbIphhLj-C0"
      },
      "execution_count": 185,
      "outputs": []
    },
    {
      "cell_type": "code",
      "source": [
        "Image.open('/content/test.png')"
      ],
      "metadata": {
        "colab": {
          "base_uri": "https://localhost:8080/",
          "height": 305
        },
        "id": "7C_5EaYbkKb_",
        "outputId": "b1260726-f397-4797-8d5b-607b80323968"
      },
      "execution_count": 186,
      "outputs": [
        {
          "output_type": "execute_result",
          "data": {
            "text/plain": [
              "<PIL.PngImagePlugin.PngImageFile image mode=RGBA size=432x288 at 0x7F4BE4ACA310>"
            ],
            "image/png": "[encoded data removed]"
          },
          "metadata": {},
          "execution_count": 186
        }
      ]
    },
    {
      "cell_type": "markdown",
      "source": [
        "# Convert flv to avi "
      ],
      "metadata": {
        "id": "_Py-UVf4GEzo"
      }
    },
    {
      "cell_type": "code",
      "source": [],
      "metadata": {
        "id": "dQaVcmglGEQS"
      },
      "execution_count": null,
      "outputs": []
    }
  ],
  "metadata": {
    "colab": {
      "provenance": [],
      "collapsed_sections": [
        "CbKIEcH-47Xj",
        "1Uc_jA6X5QaK",
        "laPMpjoBKGgS"
      ],
      "toc_visible": true,
      "include_colab_link": true
    },
    "kernelspec": {
      "display_name": "Python 3",
      "name": "python3"
    },
    "language_info": {
      "name": "python"
    }
  },
  "nbformat": 4,
  "nbformat_minor": 0
}