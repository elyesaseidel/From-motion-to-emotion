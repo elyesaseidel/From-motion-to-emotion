{
 "cells": [
  {
   "cell_type": "code",
   "execution_count": 3,
   "id": "78772825-4b3c-4900-8dce-dd72baa893fa",
   "metadata": {},
   "outputs": [
    {
     "name": "stdout",
     "output_type": "stream",
     "text": [
      "Requirement already satisfied: SpeechRecognition in c:\\users\\olia\\anaconda3\\envs\\final_project\\lib\\site-packages (3.9.0)\n",
      "Requirement already satisfied: requests>=2.26.0 in c:\\users\\olia\\anaconda3\\envs\\final_project\\lib\\site-packages (from SpeechRecognition) (2.28.2)\n",
      "Requirement already satisfied: certifi>=2017.4.17 in c:\\users\\olia\\anaconda3\\envs\\final_project\\lib\\site-packages (from requests>=2.26.0->SpeechRecognition) (2022.12.7)\n",
      "Requirement already satisfied: charset-normalizer<4,>=2 in c:\\users\\olia\\anaconda3\\envs\\final_project\\lib\\site-packages (from requests>=2.26.0->SpeechRecognition) (2.1.1)\n",
      "Requirement already satisfied: urllib3<1.27,>=1.21.1 in c:\\users\\olia\\anaconda3\\envs\\final_project\\lib\\site-packages (from requests>=2.26.0->SpeechRecognition) (1.26.14)\n",
      "Requirement already satisfied: idna<4,>=2.5 in c:\\users\\olia\\anaconda3\\envs\\final_project\\lib\\site-packages (from requests>=2.26.0->SpeechRecognition) (3.4)\n",
      "Collecting moviePy\n",
      "  Using cached moviepy-1.0.3.tar.gz (388 kB)\n",
      "  Preparing metadata (setup.py): started\n",
      "  Preparing metadata (setup.py): finished with status 'done'\n",
      "Collecting decorator<5.0,>=4.0.2\n",
      "  Using cached decorator-4.4.2-py2.py3-none-any.whl (9.2 kB)\n",
      "Requirement already satisfied: tqdm<5.0,>=4.11.2 in c:\\users\\olia\\anaconda3\\envs\\final_project\\lib\\site-packages (from moviePy) (4.64.1)\n",
      "Requirement already satisfied: requests<3.0,>=2.8.1 in c:\\users\\olia\\anaconda3\\envs\\final_project\\lib\\site-packages (from moviePy) (2.28.2)\n",
      "Collecting proglog<=1.0.0\n",
      "  Using cached proglog-0.1.10-py3-none-any.whl (6.1 kB)\n",
      "Requirement already satisfied: numpy>=1.17.3 in c:\\users\\olia\\anaconda3\\envs\\final_project\\lib\\site-packages (from moviePy) (1.24.1)\n",
      "Collecting imageio<3.0,>=2.5\n",
      "  Downloading imageio-2.25.0-py3-none-any.whl (3.4 MB)\n",
      "     ---------------------------------------- 3.4/3.4 MB 6.1 MB/s eta 0:00:00\n",
      "Collecting imageio_ffmpeg>=0.2.0\n",
      "  Using cached imageio_ffmpeg-0.4.8-py3-none-win_amd64.whl (22.6 MB)\n",
      "Requirement already satisfied: pillow>=8.3.2 in c:\\users\\olia\\anaconda3\\envs\\final_project\\lib\\site-packages (from imageio<3.0,>=2.5->moviePy) (9.4.0)\n",
      "Requirement already satisfied: certifi>=2017.4.17 in c:\\users\\olia\\anaconda3\\envs\\final_project\\lib\\site-packages (from requests<3.0,>=2.8.1->moviePy) (2022.12.7)\n",
      "Requirement already satisfied: idna<4,>=2.5 in c:\\users\\olia\\anaconda3\\envs\\final_project\\lib\\site-packages (from requests<3.0,>=2.8.1->moviePy) (3.4)\n",
      "Requirement already satisfied: urllib3<1.27,>=1.21.1 in c:\\users\\olia\\anaconda3\\envs\\final_project\\lib\\site-packages (from requests<3.0,>=2.8.1->moviePy) (1.26.14)\n",
      "Requirement already satisfied: charset-normalizer<4,>=2 in c:\\users\\olia\\anaconda3\\envs\\final_project\\lib\\site-packages (from requests<3.0,>=2.8.1->moviePy) (2.1.1)\n",
      "Requirement already satisfied: colorama in c:\\users\\olia\\anaconda3\\envs\\final_project\\lib\\site-packages (from tqdm<5.0,>=4.11.2->moviePy) (0.4.6)\n",
      "Building wheels for collected packages: moviePy\n",
      "  Building wheel for moviePy (setup.py): started\n",
      "  Building wheel for moviePy (setup.py): finished with status 'done'\n",
      "  Created wheel for moviePy: filename=moviepy-1.0.3-py3-none-any.whl size=110773 sha256=7f960ccfaa147a095ac962b437976e135d811def9e4b88a0a8aa3e11bcdde0b3\n",
      "  Stored in directory: c:\\users\\olia\\appdata\\local\\pip\\cache\\wheels\\05\\c3\\60\\ff37aa492e097b78c495e049d4ec5dbd5be98bd9b36eb1f0b1\n",
      "Successfully built moviePy\n",
      "Installing collected packages: imageio_ffmpeg, imageio, decorator, proglog, moviePy\n",
      "  Attempting uninstall: decorator\n",
      "    Found existing installation: decorator 5.1.1\n",
      "    Uninstalling decorator-5.1.1:\n",
      "      Successfully uninstalled decorator-5.1.1\n",
      "Successfully installed decorator-4.4.2 imageio-2.25.0 imageio_ffmpeg-0.4.8 moviePy-1.0.3 proglog-0.1.10\n"
     ]
    }
   ],
   "source": [
    "import tensorflow as tf\n",
    "import numpy as np\n",
    "import os, glob\n",
    "import matplotlib.pyplot as plt\n",
    "\n",
    "#for loading and visualizing audio files\n",
    "import librosa # Librosa is a python library for analyzing and manipulating audio signals.\n",
    "import librosa.display \n",
    "\n",
    "!pip install SpeechRecognition\n",
    "import speech_recognition as sr\n",
    "# !pip install pydub\n",
    "!pip install moviePy\n",
    "from moviepy.editor import *"
   ]
  },
  {
   "cell_type": "code",
   "execution_count": null,
   "id": "70c4dce8-638d-4450-9a91-d01fb6d1362b",
   "metadata": {},
   "outputs": [],
   "source": [
    "# convert video to audio\n",
    "audioclip = AudioFileClip(video)\n",
    "audio_to_emotion = audioclip.write_audiofile(f\"audio_from_video{i}.wav\")\n",
    "#audio_to_emotion = (f\"audio_from_video{i}.wav\")"
   ]
  }
 ],
 "metadata": {
  "kernelspec": {
   "display_name": "Python 3 (ipykernel)",
   "language": "python",
   "name": "python3"
  },
  "language_info": {
   "codemirror_mode": {
    "name": "ipython",
    "version": 3
   },
   "file_extension": ".py",
   "mimetype": "text/x-python",
   "name": "python",
   "nbconvert_exporter": "python",
   "pygments_lexer": "ipython3",
   "version": "3.10.8"
  }
 },
 "nbformat": 4,
 "nbformat_minor": 5
}
