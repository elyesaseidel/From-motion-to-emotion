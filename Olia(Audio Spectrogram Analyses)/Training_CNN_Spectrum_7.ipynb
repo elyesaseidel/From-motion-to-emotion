{
 "cells": [
  {
   "cell_type": "code",
   "execution_count": 17,
   "id": "265b8ff7-9e82-4014-b8d9-bec168f07fc3",
   "metadata": {},
   "outputs": [],
   "source": [
    "# importing libraries\n",
    "import tensorflow as tf\n",
    "import numpy as np\n",
    "from tensorflow.keras.callbacks import Callback\n",
    "from keras.preprocessing.image import ImageDataGenerator"
   ]
  },
  {
   "cell_type": "code",
   "execution_count": null,
   "id": "2fe13571",
   "metadata": {},
   "outputs": [],
   "source": []
  },
  {
   "cell_type": "markdown",
   "id": "8e9a2dea-238e-43dc-96a5-fdeb506d2081",
   "metadata": {},
   "source": [
    "## Pre-processing the data"
   ]
  },
  {
   "cell_type": "markdown",
   "id": "132f16ee-736b-43d4-8887-8c21cd18844d",
   "metadata": {
    "jp-MarkdownHeadingCollapsed": true,
    "tags": []
   },
   "source": [
    "### Cropping images (if needed)"
   ]
  },
  {
   "cell_type": "code",
   "execution_count": 46,
   "id": "365b790e-1747-4a7b-846c-a915e23b4f32",
   "metadata": {},
   "outputs": [],
   "source": [
    "from PIL import Image\n",
    "import os\n",
    "import glob\n",
    "\n",
    "path_main ='C:\\\\Users\\\\Olia\\\\Desktop\\\\Lips Reading\\\\Day3\\\\Data(audios)\\\\Test_Data_Spectogram_trimmed' #CHANGE\n",
    "folders = os.listdir(path_main)\n",
    "folders\n",
    "\n",
    "for folder in folders:\n",
    "    path = path_main + fr'\\{folder}'\n",
    "    os.chdir(path)\n",
    "    images = glob.glob(\"*.*\") # CHECK the FORMAT\n",
    "    #print(path.split(r'\\')[])\n",
    "    for image in images:\n",
    "        \n",
    "        # Open the image file\n",
    "        im = Image.open(path + f'\\{image}')\n",
    "        width, height = im.size\n",
    "\n",
    "        # Define the trim box\n",
    "        left = width * 0.15\n",
    "        right = width * 0.9\n",
    "        top = height * 0.15\n",
    "        bottom = height * 0.8\n",
    "\n",
    "        # Crop the image\n",
    "        im = im.crop((left, top, right, bottom))\n",
    "        im.save(path + f'\\{image}')"
   ]
  },
  {
   "cell_type": "markdown",
   "id": "120bf9b0-453f-4570-a447-233641b09c62",
   "metadata": {},
   "source": [
    "### Prepare train data"
   ]
  },
  {
   "cell_type": "code",
   "execution_count": 29,
   "id": "ec694b0e-76c0-4ded-8798-46b5443a76f2",
   "metadata": {},
   "outputs": [],
   "source": [
    "# path to the folders with spectrograms of train data\n",
    "train_data_path = (r'C:\\Users\\Olia\\Desktop\\Lips Reading\\Day3\\Train_data_unified')#(r'C:\\Users\\Olia\\Desktop\\Lips Reading\\Day3\\Data(audios)\\Train_Data_Spectogram_trimmed')"
   ]
  },
  {
   "cell_type": "code",
   "execution_count": 19,
   "id": "4209ac82-d458-4a73-a35e-4e981cdab9e6",
   "metadata": {},
   "outputs": [
    {
     "name": "stdout",
     "output_type": "stream",
     "text": [
      "Found 1400 files belonging to 7 classes.\n"
     ]
    },
    {
     "data": {
      "text/plain": [
       "<BatchDataset element_spec=(TensorSpec(shape=(None, 256, 256, 3), dtype=tf.float32, name=None), TensorSpec(shape=(None, 7), dtype=tf.float32, name=None))>"
      ]
     },
     "execution_count": 19,
     "metadata": {},
     "output_type": "execute_result"
    }
   ],
   "source": [
    "# loading and pre-processing the tain data \n",
    "train_data = tf.keras.utils.image_dataset_from_directory(train_data_path,\n",
    "                                                         #batch_size=100, \n",
    "                                                         label_mode='categorical', \n",
    "                                                         image_size=(256, 256), \n",
    "                                                         labels='inferred', \n",
    "                                                         class_names=['angry', 'disgust', 'fearful', 'happy', 'neutral', 'sad', 'surprised'])\n",
    "train_data"
   ]
  },
  {
   "cell_type": "code",
   "execution_count": 20,
   "id": "265116fa-03fe-4093-959f-6472bb313201",
   "metadata": {},
   "outputs": [
    {
     "data": {
      "text/plain": [
       "['angry', 'disgust', 'fearful', 'happy', 'neutral', 'sad', 'surprised']"
      ]
     },
     "execution_count": 20,
     "metadata": {},
     "output_type": "execute_result"
    }
   ],
   "source": [
    "train_data.class_names"
   ]
  },
  {
   "cell_type": "code",
   "execution_count": 21,
   "id": "6a8f93e4-609a-4cae-a094-0263e02e63fa",
   "metadata": {
    "tags": []
   },
   "outputs": [],
   "source": [
    "# extracting \n",
    "train_images = np.concatenate([x for x, y in train_data], axis=0)\n",
    "\n",
    "train_labels = np.concatenate([y for x, y in train_data], axis=0) "
   ]
  },
  {
   "cell_type": "markdown",
   "id": "91927e47-a3be-4cb7-b040-79ea13bbbd25",
   "metadata": {},
   "source": [
    "### Prepare test data"
   ]
  },
  {
   "cell_type": "code",
   "execution_count": 7,
   "id": "cd66a99b-9499-47c5-b4e6-243cd516509a",
   "metadata": {},
   "outputs": [],
   "source": [
    "test_data_path = (r'C:\\Users\\Olia\\Desktop\\Lips Reading\\Day3\\Data(audios)\\Test_Data_Spectogram_trimmed')"
   ]
  },
  {
   "cell_type": "code",
   "execution_count": 22,
   "id": "1eea2df9-f244-44a0-a9cd-ea40e4130c8b",
   "metadata": {},
   "outputs": [
    {
     "name": "stdout",
     "output_type": "stream",
     "text": [
      "Found 84 files belonging to 7 classes.\n"
     ]
    },
    {
     "data": {
      "text/plain": [
       "<BatchDataset element_spec=(TensorSpec(shape=(None, 256, 256, 3), dtype=tf.float32, name=None), TensorSpec(shape=(None, 7), dtype=tf.float32, name=None))>"
      ]
     },
     "execution_count": 22,
     "metadata": {},
     "output_type": "execute_result"
    }
   ],
   "source": [
    "# loading and pre-processing the test data \n",
    "test_data = tf.keras.utils.image_dataset_from_directory(test_data_path, batch_size=100, label_mode='categorical', image_size=(256, 256), labels='inferred', class_names=['angry', 'disgust', 'fearful', 'happy', 'neutral', 'sad', 'surprised'])\n",
    "test_data"
   ]
  },
  {
   "cell_type": "code",
   "execution_count": 23,
   "id": "f0083157-1352-4fc5-8327-290478f6fb75",
   "metadata": {},
   "outputs": [],
   "source": [
    "# extracting test_images and test_labels\n",
    "test_images = np.concatenate([x for x, y in test_data], axis=0) \n",
    "\n",
    "test_labels = np.concatenate([y for x, y in test_data], axis=0) "
   ]
  },
  {
   "cell_type": "markdown",
   "id": "085b961a-e7e1-496c-b252-a7307add4ba6",
   "metadata": {
    "tags": []
   },
   "source": [
    "### Data **augmentation**"
   ]
  },
  {
   "cell_type": "code",
   "execution_count": 31,
   "id": "d75b77d2-c66f-4381-8a8e-758f28621d1f",
   "metadata": {},
   "outputs": [
    {
     "name": "stdout",
     "output_type": "stream",
     "text": [
      "Found 2564 images belonging to 7 classes.\n",
      "Found 84 images belonging to 7 classes.\n"
     ]
    }
   ],
   "source": [
    "train_datagen = ImageDataGenerator(     # here we use the ImageDataGenerator\n",
    "      #rescale=1./255,\n",
    "      #rotation_range=40,\n",
    "      #width_shift_range=0.2,                # Applaying these all Data Augmentations\n",
    "      #height_shift_range=0.2,\n",
    "      #shear_range=0.2,\n",
    "      zoom_range=0.2,\n",
    "      horizontal_flip=True,\n",
    "      fill_mode='nearest')\n",
    "\n",
    "##train_datagen.fit(train_images)\n",
    "\n",
    "test_datagen = ImageDataGenerator()#(rescale=1./255)\n",
    "\n",
    "##train_datagen.fit(test_images)\n",
    "# this is a generator that will read pictures found in\n",
    "# subfolers of 'data/train', and indefinitely generate\n",
    "# batches of augmented image data\n",
    "train_generator = train_datagen.flow_from_directory(\n",
    "        train_data_path,  # this is the target directory\n",
    "        target_size=(256, 256),  # all images will be resized \n",
    "        batch_size=20,\n",
    "        class_mode=\"categorical\",\n",
    "        shuffle=True,\n",
    "        seed=42)#,\n",
    "        #save_to_dir=r'C:\\Users\\Olia\\Desktop\\Lips Reading\\Day5(Video+Audio_camera, CPU)\\CNN_Checkpoints',\n",
    "        #save_prefix='aug') \n",
    "\n",
    "# this is a similar generator, for validation data\n",
    "test_generator = test_datagen.flow_from_directory(\n",
    "        test_data_path,\n",
    "        target_size=(256, 256),\n",
    "        batch_size=20,\n",
    "        class_mode=\"categorical\",\n",
    "        shuffle=True,\n",
    "        seed=42)\n",
    "\n"
   ]
  },
  {
   "cell_type": "code",
   "execution_count": 16,
   "id": "c2ea4956-0845-4030-8341-2dca482238dd",
   "metadata": {},
   "outputs": [
    {
     "data": {
      "text/plain": [
       "<keras.preprocessing.image.ImageDataGenerator at 0x14edddb4d00>"
      ]
     },
     "execution_count": 16,
     "metadata": {},
     "output_type": "execute_result"
    }
   ],
   "source": [
    "train_datagen"
   ]
  },
  {
   "cell_type": "code",
   "execution_count": null,
   "id": "04f487ed-fb7f-401f-b289-53fdfee86399",
   "metadata": {},
   "outputs": [],
   "source": [
    "\"\"\"train_data_gen = image_gen_train.flow_from_directory(batch_size=50,     # Batch siz emeans at a time it takes 100\n",
    "                                                     directory=train_data_path,    # Here we put shuffle= True so tat model doesnt memorise order\n",
    "                                                     shuffle=True,\n",
    "                                                     target_size=(256, 256),\n",
    "                                                     class_mode=\"categorical\")\"\"\""
   ]
  },
  {
   "cell_type": "markdown",
   "id": "24c4f359-8b4d-4baf-bcfd-17ea5e16e807",
   "metadata": {},
   "source": [
    "## Training the model"
   ]
  },
  {
   "cell_type": "code",
   "execution_count": 33,
   "id": "dc11d28e-4266-410e-afc9-53949e8861a0",
   "metadata": {},
   "outputs": [],
   "source": [
    "# create a checkpoint for saving the best performing epoch\n",
    "checkpoint_filepath = r'C:\\Users\\Olia\\Desktop\\Lips Reading\\Day5(Video+Audio_camera, CPU)\\CNN_Checkpoints'\n",
    "model_checkpoint_callback = tf.keras.callbacks.ModelCheckpoint(\n",
    "    filepath=checkpoint_filepath,\n",
    "    save_weights_only=False,\n",
    "    monitor='val_accuracy',\n",
    "    mode='max',\n",
    "    save_best_only=True)"
   ]
  },
  {
   "cell_type": "code",
   "execution_count": null,
   "id": "3976b03c-eb83-47da-ada5-3da80809a0ae",
   "metadata": {},
   "outputs": [],
   "source": [
    "#C:\\Users\\Olia\\Desktop\\Lips Reading\\Day3\\Toronto_Spectrograms"
   ]
  },
  {
   "cell_type": "code",
   "execution_count": 35,
   "id": "2170370a-c596-48b6-8313-fd6b86ea819d",
   "metadata": {
    "tags": []
   },
   "outputs": [
    {
     "name": "stdout",
     "output_type": "stream",
     "text": [
      "Epoch 1/50\n",
      "40/40 [==============================] - ETA: 0s - loss: 2.0127 - accuracy: 0.1454"
     ]
    },
    {
     "name": "stderr",
     "output_type": "stream",
     "text": [
      "WARNING:absl:Found untraced functions such as _jit_compiled_convolution_op, _jit_compiled_convolution_op, _jit_compiled_convolution_op, _jit_compiled_convolution_op, _jit_compiled_convolution_op while saving (showing 5 of 5). These functions will not be directly callable after loading.\n"
     ]
    },
    {
     "name": "stdout",
     "output_type": "stream",
     "text": [
      "INFO:tensorflow:Assets written to: C:\\Users\\Olia\\Desktop\\Lips Reading\\Day5(Video+Audio_camera, CPU)\\CNN_Checkpoints\\assets\n"
     ]
    },
    {
     "name": "stderr",
     "output_type": "stream",
     "text": [
      "INFO:tensorflow:Assets written to: C:\\Users\\Olia\\Desktop\\Lips Reading\\Day5(Video+Audio_camera, CPU)\\CNN_Checkpoints\\assets\n"
     ]
    },
    {
     "name": "stdout",
     "output_type": "stream",
     "text": [
      "40/40 [==============================] - 267s 7s/step - loss: 2.0127 - accuracy: 0.1454 - val_loss: 2.0332 - val_accuracy: 0.1429\n",
      "Epoch 2/50\n",
      "40/40 [==============================] - 269s 7s/step - loss: 2.0022 - accuracy: 0.1562 - val_loss: 2.0331 - val_accuracy: 0.1429\n",
      "Epoch 3/50\n",
      "40/40 [==============================] - 262s 7s/step - loss: 2.0231 - accuracy: 0.1441 - val_loss: 2.0330 - val_accuracy: 0.1429\n",
      "Epoch 4/50\n",
      "40/40 [==============================] - 268s 7s/step - loss: 2.0217 - accuracy: 0.1462 - val_loss: 2.0329 - val_accuracy: 0.1429\n",
      "Epoch 5/50\n",
      "40/40 [==============================] - 261s 7s/step - loss: 2.0179 - accuracy: 0.1403 - val_loss: 2.0329 - val_accuracy: 0.1429\n",
      "Epoch 6/50\n",
      "40/40 [==============================] - 266s 7s/step - loss: 2.0177 - accuracy: 0.1462 - val_loss: 2.0328 - val_accuracy: 0.1429\n",
      "Epoch 7/50\n",
      "40/40 [==============================] - 261s 7s/step - loss: 2.0282 - accuracy: 0.1454 - val_loss: 2.0327 - val_accuracy: 0.1429\n",
      "Epoch 8/50\n",
      "40/40 [==============================] - 265s 7s/step - loss: 2.0341 - accuracy: 0.1338 - val_loss: 2.0326 - val_accuracy: 0.1429\n",
      "Epoch 9/50\n",
      "40/40 [==============================] - 268s 7s/step - loss: 2.0254 - accuracy: 0.1262 - val_loss: 2.0325 - val_accuracy: 0.1429\n",
      "Epoch 10/50\n",
      "40/40 [==============================] - 270s 7s/step - loss: 2.0031 - accuracy: 0.1500 - val_loss: 2.0324 - val_accuracy: 0.1429\n",
      "Epoch 11/50\n",
      "40/40 [==============================] - 262s 7s/step - loss: 2.0320 - accuracy: 0.1288 - val_loss: 2.0323 - val_accuracy: 0.1429\n",
      "Epoch 12/50\n",
      "40/40 [==============================] - 261s 7s/step - loss: 2.0242 - accuracy: 0.1467 - val_loss: 2.0323 - val_accuracy: 0.1429\n",
      "Epoch 13/50\n",
      "40/40 [==============================] - 265s 7s/step - loss: 2.0197 - accuracy: 0.1550 - val_loss: 2.0322 - val_accuracy: 0.1429\n",
      "Epoch 14/50\n",
      "40/40 [==============================] - 268s 7s/step - loss: 2.0201 - accuracy: 0.1437 - val_loss: 2.0321 - val_accuracy: 0.1429\n",
      "Epoch 15/50\n",
      "40/40 [==============================] - 275s 7s/step - loss: 2.0206 - accuracy: 0.1500 - val_loss: 2.0320 - val_accuracy: 0.1429\n",
      "Epoch 16/50\n",
      "40/40 [==============================] - 271s 7s/step - loss: 2.0195 - accuracy: 0.1513 - val_loss: 2.0319 - val_accuracy: 0.1429\n",
      "Epoch 17/50\n",
      "40/40 [==============================] - 264s 7s/step - loss: 2.0378 - accuracy: 0.1450 - val_loss: 2.0318 - val_accuracy: 0.1429\n",
      "Epoch 18/50\n",
      "40/40 [==============================] - 261s 7s/step - loss: 2.0104 - accuracy: 0.1569 - val_loss: 2.0318 - val_accuracy: 0.1429\n",
      "Epoch 19/50\n",
      "40/40 [==============================] - 266s 7s/step - loss: 2.0058 - accuracy: 0.1575 - val_loss: 2.0317 - val_accuracy: 0.1429\n",
      "Epoch 20/50\n",
      "40/40 [==============================] - 266s 7s/step - loss: 2.0287 - accuracy: 0.1425 - val_loss: 2.0316 - val_accuracy: 0.1429\n",
      "Epoch 21/50\n",
      "40/40 [==============================] - 265s 7s/step - loss: 2.0497 - accuracy: 0.1325 - val_loss: 2.0315 - val_accuracy: 0.1429\n",
      "Epoch 22/50\n",
      "40/40 [==============================] - 262s 7s/step - loss: 2.0045 - accuracy: 0.1645 - val_loss: 2.0314 - val_accuracy: 0.1429\n",
      "Epoch 23/50\n",
      "40/40 [==============================] - 266s 7s/step - loss: 2.0238 - accuracy: 0.1450 - val_loss: 2.0313 - val_accuracy: 0.1429\n",
      "Epoch 24/50\n",
      "40/40 [==============================] - 264s 7s/step - loss: 2.0002 - accuracy: 0.1600 - val_loss: 2.0313 - val_accuracy: 0.1429\n",
      "Epoch 25/50\n",
      "40/40 [==============================] - 265s 7s/step - loss: 2.0237 - accuracy: 0.1300 - val_loss: 2.0312 - val_accuracy: 0.1429\n",
      "Epoch 26/50\n",
      "40/40 [==============================] - 265s 7s/step - loss: 2.0139 - accuracy: 0.1550 - val_loss: 2.0311 - val_accuracy: 0.1429\n",
      "Epoch 27/50\n",
      "40/40 [==============================] - 262s 7s/step - loss: 2.0084 - accuracy: 0.1556 - val_loss: 2.0310 - val_accuracy: 0.1429\n",
      "Epoch 28/50\n",
      "40/40 [==============================] - 267s 7s/step - loss: 2.0299 - accuracy: 0.1500 - val_loss: 2.0309 - val_accuracy: 0.1429\n",
      "Epoch 29/50\n",
      "40/40 [==============================] - 264s 7s/step - loss: 2.0469 - accuracy: 0.1338 - val_loss: 2.0309 - val_accuracy: 0.1429\n",
      "Epoch 30/50\n",
      "40/40 [==============================] - 260s 6s/step - loss: 2.0198 - accuracy: 0.1531 - val_loss: 2.0308 - val_accuracy: 0.1429\n",
      "Epoch 31/50\n",
      "40/40 [==============================] - 264s 7s/step - loss: 2.0170 - accuracy: 0.1612 - val_loss: 2.0307 - val_accuracy: 0.1429\n",
      "Epoch 32/50\n",
      "40/40 [==============================] - 265s 7s/step - loss: 2.0248 - accuracy: 0.1475 - val_loss: 2.0306 - val_accuracy: 0.1429\n",
      "Epoch 33/50\n",
      "40/40 [==============================] - 265s 7s/step - loss: 2.0187 - accuracy: 0.1500 - val_loss: 2.0305 - val_accuracy: 0.1429\n",
      "Epoch 34/50\n",
      "40/40 [==============================] - 265s 7s/step - loss: 1.9999 - accuracy: 0.1562 - val_loss: 2.0305 - val_accuracy: 0.1429\n",
      "Epoch 35/50\n",
      "40/40 [==============================] - 265s 7s/step - loss: 2.0202 - accuracy: 0.1513 - val_loss: 2.0304 - val_accuracy: 0.1429\n",
      "Epoch 36/50\n",
      "40/40 [==============================] - 260s 6s/step - loss: 2.0243 - accuracy: 0.1531 - val_loss: 2.0303 - val_accuracy: 0.1429\n",
      "Epoch 37/50\n",
      "40/40 [==============================] - 265s 7s/step - loss: 2.0018 - accuracy: 0.1437 - val_loss: 2.0302 - val_accuracy: 0.1429\n",
      "Epoch 38/50\n",
      "40/40 [==============================] - 260s 6s/step - loss: 2.0172 - accuracy: 0.1582 - val_loss: 2.0301 - val_accuracy: 0.1429\n",
      "Epoch 39/50\n",
      "40/40 [==============================] - 264s 7s/step - loss: 2.0300 - accuracy: 0.1412 - val_loss: 2.0300 - val_accuracy: 0.1429\n",
      "Epoch 40/50\n",
      "40/40 [==============================] - 263s 7s/step - loss: 2.0153 - accuracy: 0.1500 - val_loss: 2.0300 - val_accuracy: 0.1429\n",
      "Epoch 41/50\n",
      "40/40 [==============================] - 264s 7s/step - loss: 1.9934 - accuracy: 0.1587 - val_loss: 2.0299 - val_accuracy: 0.1429\n",
      "Epoch 42/50\n",
      "40/40 [==============================] - 264s 7s/step - loss: 2.0217 - accuracy: 0.1538 - val_loss: 2.0298 - val_accuracy: 0.1429\n",
      "Epoch 43/50\n",
      "40/40 [==============================] - 266s 7s/step - loss: 2.0041 - accuracy: 0.1513 - val_loss: 2.0297 - val_accuracy: 0.1429\n",
      "Epoch 44/50\n",
      "40/40 [==============================] - 267s 7s/step - loss: 2.0219 - accuracy: 0.1562 - val_loss: 2.0297 - val_accuracy: 0.1429\n",
      "Epoch 45/50\n",
      "40/40 [==============================] - 259s 6s/step - loss: 2.0203 - accuracy: 0.1429 - val_loss: 2.0296 - val_accuracy: 0.1429\n",
      "Epoch 46/50\n",
      "40/40 [==============================] - 265s 7s/step - loss: 2.0059 - accuracy: 0.1550 - val_loss: 2.0295 - val_accuracy: 0.1429\n",
      "Epoch 47/50\n",
      "40/40 [==============================] - 264s 7s/step - loss: 2.0022 - accuracy: 0.1675 - val_loss: 2.0294 - val_accuracy: 0.1429\n",
      "Epoch 48/50\n",
      "40/40 [==============================] - 265s 7s/step - loss: 2.0185 - accuracy: 0.1450 - val_loss: 2.0294 - val_accuracy: 0.1429\n",
      "Epoch 49/50\n",
      "40/40 [==============================] - 265s 7s/step - loss: 2.0126 - accuracy: 0.1550 - val_loss: 2.0293 - val_accuracy: 0.1429\n",
      "Epoch 50/50\n",
      "40/40 [==============================] - 261s 7s/step - loss: 2.0153 - accuracy: 0.1492 - val_loss: 2.0292 - val_accuracy: 0.1429\n"
     ]
    }
   ],
   "source": [
    "\n",
    "# Create the model\n",
    "model = tf.keras.Sequential([\n",
    "    #tf.keras.layers.Input(shape=(256, 256)),\n",
    "    tf.keras.layers.Rescaling(1./255, input_shape=(256, 256, 3)),\n",
    "    tf.keras.layers.Conv2D(256, (3, 3), activation='relu', input_shape=(256, 256, 3)),\n",
    "    tf.keras.layers.MaxPooling2D((2, 2)),\n",
    "    tf.keras.layers.Conv2D(128, (3, 3), activation='relu'),\n",
    "    tf.keras.layers.MaxPooling2D((2, 2)),\n",
    "    tf.keras.layers.Conv2D(64, (4, 4), activation='relu'),\n",
    "    tf.keras.layers.MaxPooling2D((2, 2)),\n",
    "    tf.keras.layers.Conv2D(32, (3, 3), activation='relu'),\n",
    "    tf.keras.layers.MaxPooling2D((2, 2)),\n",
    "    tf.keras.layers.Conv2D(16, (4, 4), activation='relu'),\n",
    "    tf.keras.layers.MaxPooling2D((2, 2)),\n",
    "    \n",
    "    #tf.keras.layers.Dropout(rate=0.3, seed=15),\n",
    "    tf.keras.layers.Flatten(),\n",
    "    \n",
    "    tf.keras.layers.Dense(1000, activation='relu'),\n",
    "    #tf.keras.layers.Dropout(rate=0.2, seed=15),\n",
    "    tf.keras.layers.Dense(500, activation='relu'),\n",
    "    #tf.keras.layers.Dropout(rate=0.2, seed=15),\n",
    "    tf.keras.layers.Dense(100, activation='relu'),\n",
    "    tf.keras.layers.Dense(30, activation='sigmoid'),\n",
    "    tf.keras.layers.Dense(7, activation='softmax')\n",
    "    \n",
    "])\n",
    "\n",
    "# Compile the model\n",
    "\n",
    "#variant unu\n",
    "from keras.optimizers import SGD\n",
    "opt = SGD(lr=1e-5)\n",
    "model.compile(loss = \"categorical_crossentropy\", optimizer = opt, metrics=['accuracy'])\n",
    "\n",
    "#variant doi\n",
    "##model.compile(optimizer='adam', loss='categorical_crossentropy', metrics=['accuracy'])\n",
    "\n",
    "# Train the model\n",
    "history = model.fit(train_generator,\n",
    "                    #train_images, train_labels, \n",
    "                    epochs=50,\n",
    "                    steps_per_epoch=40,\n",
    "                    #batch_size=50, \n",
    "                    shuffle=True, \n",
    "                    callbacks=[model_checkpoint_callback],\n",
    "                    validation_data=test_generator)#(test_images, test_labels))"
   ]
  },
  {
   "cell_type": "markdown",
   "id": "3d346842-2994-431a-a5bd-b985762ce8ea",
   "metadata": {
    "tags": []
   },
   "source": [
    "## Evaluate the model"
   ]
  },
  {
   "cell_type": "code",
   "execution_count": 38,
   "id": "568f7021-a9a3-43a2-91ff-6a4ed6682e61",
   "metadata": {},
   "outputs": [
    {
     "data": {
      "text/plain": [
       "<matplotlib.legend.Legend at 0x1dd5d3e77f0>"
      ]
     },
     "execution_count": 38,
     "metadata": {},
     "output_type": "execute_result"
    },
    {
     "data": {
      "image/png": "[encoded data removed]",
      "text/plain": [
       "<Figure size 640x480 with 1 Axes>"
      ]
     },
     "metadata": {},
     "output_type": "display_data"
    }
   ],
   "source": [
    "#plotting the model's performance\n",
    "import matplotlib.pyplot as plt\n",
    "plt.plot(history.history['accuracy'], label='accuracy')\n",
    "plt.plot(history.history['val_accuracy'], label = 'val_accuracy')\n",
    "plt.xlabel('Epoch')\n",
    "plt.ylabel('Accuracy')\n",
    "plt.ylim([0.5, 1])\n",
    "plt.legend(loc='lower right')"
   ]
  },
  {
   "cell_type": "code",
   "execution_count": 37,
   "id": "a9a8d5b1-91f7-4954-ae7b-53082bd54e97",
   "metadata": {},
   "outputs": [
    {
     "name": "stdout",
     "output_type": "stream",
     "text": [
      "3/3 - 5s - loss: 2.0290 - accuracy: 0.1429 - 5s/epoch - 2s/step\n",
      "0.1428571492433548\n"
     ]
    }
   ],
   "source": [
    "test_loss, test_acc = model.evaluate(test_images,  test_labels, verbose=2)\n",
    "print(test_acc)"
   ]
  },
  {
   "cell_type": "markdown",
   "id": "ef4d0dc1-abf0-4353-adad-6e4ee8c5188d",
   "metadata": {},
   "source": [
    "## Prediction"
   ]
  },
  {
   "cell_type": "code",
   "execution_count": 39,
   "id": "4c308e08-7792-44a2-b260-785c4fe2817b",
   "metadata": {},
   "outputs": [
    {
     "name": "stdout",
     "output_type": "stream",
     "text": [
      "1/1 [==============================] - 0s 258ms/step\n"
     ]
    },
    {
     "data": {
      "text/plain": [
       "array([[0.14437829, 0.26099533, 0.17664614, 0.07505419, 0.09884663,\n",
       "        0.08808781, 0.15599158]], dtype=float32)"
      ]
     },
     "execution_count": 39,
     "metadata": {},
     "output_type": "execute_result"
    }
   ],
   "source": [
    "#predict the emotion\n",
    "image = tf.keras.utils.load_img(r'C:\\Users\\Olia\\Desktop\\03-01-05-01-01-01-12.jpeg', target_size=(256, 256)) #YOUR IMAGE PSATH\n",
    "input_arr = tf.keras.utils.img_to_array(image)\n",
    "input_arr = np.array([input_arr])  # Convert single image to a batch.\n",
    "predictions = model.predict(input_arr)\n",
    "predictions"
   ]
  },
  {
   "cell_type": "code",
   "execution_count": 40,
   "id": "4748c9e1-3121-460b-963a-fbc9735e31b4",
   "metadata": {},
   "outputs": [
    {
     "data": {
      "text/plain": [
       "1"
      ]
     },
     "execution_count": 40,
     "metadata": {},
     "output_type": "execute_result"
    }
   ],
   "source": [
    "max_index = np.argmax(predictions)\n",
    "max_index"
   ]
  },
  {
   "cell_type": "markdown",
   "id": "a64f8720-e220-466e-84f4-bb960bb43dfa",
   "metadata": {},
   "source": [
    "## Decoding the ptredicted label"
   ]
  },
  {
   "cell_type": "code",
   "execution_count": null,
   "id": "e67935f2-edbc-4d18-8a7f-4125c4919e3d",
   "metadata": {},
   "outputs": [
    {
     "name": "stdout",
     "output_type": "stream",
     "text": [
      "['disgust']\n"
     ]
    }
   ],
   "source": [
    "# Define a sample one-hot encoding\n",
    "##onehot_encoded = np.array([\"PREDICTION\"]) #[1, 0, 0, 0, 0, 0, 0], [0, 1, 0, 0, 0, 0, 0], [0, 0, 1, 0, 0, 0, 0], [0, 0, 0, 1, 0, 0, 0], [0, 0, 0, 0, 1, 0, 0], [0, 0, 0, 0, 0, 1, 0], [0, 0, 0, 0, 0, 0, 1]])\n",
    "\n",
    "# Get the indices where the values are 1\n",
    "##index_of_max = np.argmax(onehot_encoded, axis=1)\n",
    "\n",
    "# Create a list of labels to match the indices\n",
    "labels = ['angry', 'disgust', 'fearful', 'happy', 'neutral', 'sad', 'surprised']\n",
    "\n",
    "# Use the indices to get the labels\n",
    "decoded_labels = [labels[max_index]]# for index in index_of_max]\n",
    "\n",
    "# The decoded labels\n",
    "print(decoded_labels)"
   ]
  },
  {
   "cell_type": "markdown",
   "id": "d5948d19-f8a5-4e36-93aa-a905ea39ea70",
   "metadata": {},
   "source": [
    "## Save the model"
   ]
  },
  {
   "cell_type": "code",
   "execution_count": null,
   "id": "f519f60d-e663-4019-97ba-3d13f1399acf",
   "metadata": {},
   "outputs": [],
   "source": [
    "model.save(\"Dummy_CNN.h5\")"
   ]
  },
  {
   "cell_type": "code",
   "execution_count": 43,
   "id": "3f95985e-e40c-46a3-973b-420cf226e34a",
   "metadata": {
    "collapsed": true,
    "jupyter": {
     "outputs_hidden": true
    },
    "tags": []
   },
   "outputs": [
    {
     "name": "stdout",
     "output_type": "stream",
     "text": [
      "Keras weights file (<HDF5 file \"variables.h5\" (mode r+)>) saving:\n",
      "...layers\\conv2d\n",
      "......vars\n",
      ".........0\n",
      ".........1\n",
      "...layers\\conv2d_1\n",
      "......vars\n",
      ".........0\n",
      ".........1\n",
      "...layers\\conv2d_2\n",
      "......vars\n",
      ".........0\n",
      ".........1\n",
      "...layers\\conv2d_3\n",
      "......vars\n",
      ".........0\n",
      ".........1\n",
      "...layers\\conv2d_4\n",
      "......vars\n",
      ".........0\n",
      ".........1\n",
      "...layers\\dense\n",
      "......vars\n",
      ".........0\n",
      ".........1\n",
      "...layers\\dense_1\n",
      "......vars\n",
      ".........0\n",
      ".........1\n",
      "...layers\\dense_2\n",
      "......vars\n",
      ".........0\n",
      ".........1\n",
      "...layers\\dense_3\n",
      "......vars\n",
      ".........0\n",
      ".........1\n",
      "...layers\\dense_4\n",
      "......vars\n",
      ".........0\n",
      ".........1\n",
      "...layers\\flatten\n",
      "......vars\n",
      "...layers\\max_pooling2d\n",
      "......vars\n",
      "...layers\\max_pooling2d_1\n",
      "......vars\n",
      "...layers\\max_pooling2d_2\n",
      "......vars\n",
      "...layers\\max_pooling2d_3\n",
      "......vars\n",
      "...layers\\max_pooling2d_4\n",
      "......vars\n",
      "...layers\\rescaling\n",
      "......vars\n",
      "...metrics\\mean\n",
      "......vars\n",
      ".........0\n",
      ".........1\n",
      "...metrics\\mean_metric_wrapper\n",
      "......vars\n",
      ".........0\n",
      ".........1\n",
      "...vars\n",
      "Keras model archive saving:\n",
      "File Name                                             Modified             Size\n",
      "config.json                                    2023-02-06 12:42:08         7063\n",
      "metadata.json                                  2023-02-06 12:42:08           64\n",
      "variables.h5                                   2023-02-06 12:42:08      5707096\n"
     ]
    }
   ],
   "source": [
    "# save the model with pickle\n",
    "import pickle\n",
    "filename = 'CNN_model.sav'\n",
    "pickle.dump(model, open(filename, 'wb'))\n",
    "# loaded_model = pickle.load(open(filename, 'rb'))\n",
    "# result = loaded_model.predict([text])[0]\n",
    "# print(result)\n",
    "#pickle.dump(pipe_lr, open('/content/gdrive/MyDrive/From Motion to Emotion/emo_text_model.sav' , 'wb'))"
   ]
  }
 ],
 "metadata": {
  "kernelspec": {
   "display_name": "Python 3 (ipykernel)",
   "language": "python",
   "name": "python3"
  },
  "language_info": {
   "codemirror_mode": {
    "name": "ipython",
    "version": 3
   },
   "file_extension": ".py",
   "mimetype": "text/x-python",
   "name": "python",
   "nbconvert_exporter": "python",
   "pygments_lexer": "ipython3",
   "version": "3.10.8"
  }
 },
 "nbformat": 4,
 "nbformat_minor": 5
}
