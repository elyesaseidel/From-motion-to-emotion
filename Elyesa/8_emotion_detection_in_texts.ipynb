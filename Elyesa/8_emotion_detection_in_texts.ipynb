{
  "cells": [
    {
      "cell_type": "markdown",
      "metadata": {
        "papermill": {
          "duration": 0.032369,
          "end_time": "2020-10-06T21:19:31.851445",
          "exception": false,
          "start_time": "2020-10-06T21:19:31.819076",
          "status": "completed"
        },
        "tags": [],
        "id": "kWip94ri66vV"
      },
      "source": [
        "# Emotion detection in texts\n"
      ]
    },
    {
      "cell_type": "markdown",
      "source": [
        "source: https://github.com/elyesaseidel/TweetsSentimentAnalysis/blob/main/TweetsSentimentPredictions.ipynb "
      ],
      "metadata": {
        "id": "YyfgSzqBptpC"
      }
    },
    {
      "cell_type": "code",
      "source": [
        "# Load the Drive helper and mount\n",
        "from google.colab import drive\n",
        "\n",
        "# This will prompt for authorization\n",
        "drive.mount('/content/drive')"
      ],
      "metadata": {
        "colab": {
          "base_uri": "https://localhost:8080/"
        },
        "id": "r8SDUMyK760G",
        "outputId": "d7f43f72-d8c0-42bf-cee6-30c4db42db1a"
      },
      "execution_count": 5,
      "outputs": [
        {
          "output_type": "stream",
          "name": "stdout",
          "text": [
            "Mounted at /content/drive\n"
          ]
        }
      ]
    },
    {
      "cell_type": "code",
      "source": [
        "# Path to the folder \"motion_to_emotion\"\n",
        "%cd drive/MyDrive/motion_to_emotion/"
      ],
      "metadata": {
        "colab": {
          "base_uri": "https://localhost:8080/"
        },
        "id": "zC-vl7v97_dJ",
        "outputId": "a4d47b13-a88d-4b78-a3e6-d7a6fb6811b8"
      },
      "execution_count": 6,
      "outputs": [
        {
          "output_type": "stream",
          "name": "stdout",
          "text": [
            "/content/drive/MyDrive/motion_to_emotion\n"
          ]
        }
      ]
    },
    {
      "cell_type": "markdown",
      "metadata": {
        "papermill": {
          "duration": 0.030876,
          "end_time": "2020-10-06T21:19:31.915205",
          "exception": false,
          "start_time": "2020-10-06T21:19:31.884329",
          "status": "completed"
        },
        "tags": [],
        "id": "oO8bKEPw66vZ"
      },
      "source": [
        "# Imports"
      ]
    },
    {
      "cell_type": "code",
      "execution_count": 7,
      "metadata": {
        "execution": {
          "iopub.execute_input": "2020-10-06T21:19:31.986613Z",
          "iopub.status.busy": "2020-10-06T21:19:31.985943Z",
          "iopub.status.idle": "2020-10-06T21:19:41.514922Z",
          "shell.execute_reply": "2020-10-06T21:19:41.515686Z"
        },
        "papermill": {
          "duration": 9.569887,
          "end_time": "2020-10-06T21:19:41.515898",
          "exception": false,
          "start_time": "2020-10-06T21:19:31.946011",
          "status": "completed"
        },
        "tags": [],
        "colab": {
          "base_uri": "https://localhost:8080/"
        },
        "id": "bOkSZ5CQ66vZ",
        "outputId": "a1984d4f-abb9-445a-8d1d-5bcae36342f1"
      },
      "outputs": [
        {
          "output_type": "stream",
          "name": "stderr",
          "text": [
            "/usr/local/lib/python3.8/dist-packages/torch/cuda/__init__.py:497: UserWarning: Can't initialize NVML\n",
            "  warnings.warn(\"Can't initialize NVML\")\n"
          ]
        },
        {
          "output_type": "stream",
          "name": "stdout",
          "text": [
            "Done\n"
          ]
        }
      ],
      "source": [
        "import re\n",
        "import matplotlib.pyplot as plt\n",
        "import string\n",
        "from nltk.corpus import stopwords\n",
        "import nltk\n",
        "from nltk.corpus import wordnet\n",
        "from nltk.stem import WordNetLemmatizer\n",
        "from nltk.tokenize.treebank import TreebankWordDetokenizer\n",
        "from collections import Counter\n",
        "from wordcloud import WordCloud\n",
        "from nltk.corpus import stopwords\n",
        "import nltk\n",
        "from gensim.utils import simple_preprocess\n",
        "from nltk.corpus import stopwords\n",
        "import gensim\n",
        "from sklearn.model_selection import train_test_split\n",
        "import spacy\n",
        "import pickle\n",
        "import warnings\n",
        "warnings.filterwarnings('ignore')\n",
        "import seaborn as sns\n",
        "from sklearn.metrics import confusion_matrix\n",
        "import matplotlib.pyplot as plt \n",
        "import tensorflow as tf\n",
        "import keras\n",
        "import numpy as np\n",
        "import pandas as pd\n",
        "print('Done')"
      ]
    },
    {
      "cell_type": "markdown",
      "metadata": {
        "papermill": {
          "duration": 0.032245,
          "end_time": "2020-10-06T21:19:41.583484",
          "exception": false,
          "start_time": "2020-10-06T21:19:41.551239",
          "status": "completed"
        },
        "tags": [],
        "id": "eGEgvlwE66vb"
      },
      "source": [
        "# Data importing"
      ]
    },
    {
      "cell_type": "code",
      "execution_count": 8,
      "metadata": {
        "_cell_guid": "79c7e3d0-c299-4dcb-8224-4455121ee9b0",
        "_uuid": "d629ff2d2480ee46fbb7e2d37f6b5fab8052498a",
        "execution": {
          "iopub.execute_input": "2020-10-06T21:19:41.667156Z",
          "iopub.status.busy": "2020-10-06T21:19:41.666425Z",
          "iopub.status.idle": "2020-10-06T21:19:41.753917Z",
          "shell.execute_reply": "2020-10-06T21:19:41.752384Z"
        },
        "papermill": {
          "duration": 0.132806,
          "end_time": "2020-10-06T21:19:41.754037",
          "exception": false,
          "start_time": "2020-10-06T21:19:41.621231",
          "status": "completed"
        },
        "tags": [],
        "id": "GnJy3yIH66vb"
      },
      "outputs": [],
      "source": [
        "train = pd.read_csv(\"7_emotion.csv\")"
      ]
    },
    {
      "cell_type": "markdown",
      "metadata": {
        "papermill": {
          "duration": 0.031706,
          "end_time": "2020-10-06T21:19:41.817762",
          "exception": false,
          "start_time": "2020-10-06T21:19:41.786056",
          "status": "completed"
        },
        "tags": [],
        "id": "ypN1IlMN66vc"
      },
      "source": [
        "# Data exploration"
      ]
    },
    {
      "cell_type": "code",
      "execution_count": 9,
      "metadata": {
        "execution": {
          "iopub.execute_input": "2020-10-06T21:19:41.898583Z",
          "iopub.status.busy": "2020-10-06T21:19:41.897942Z",
          "iopub.status.idle": "2020-10-06T21:19:41.908219Z",
          "shell.execute_reply": "2020-10-06T21:19:41.908804Z"
        },
        "papermill": {
          "duration": 0.05902,
          "end_time": "2020-10-06T21:19:41.908931",
          "exception": false,
          "start_time": "2020-10-06T21:19:41.849911",
          "status": "completed"
        },
        "tags": [],
        "colab": {
          "base_uri": "https://localhost:8080/",
          "height": 514
        },
        "id": "fYDi3P1o66vc",
        "outputId": "c758f7c5-4b58-4c8c-fedd-26d9bb24c45f"
      },
      "outputs": [
        {
          "output_type": "execute_result",
          "data": {
            "text/plain": [
              "     Emotion                                               Text\n",
              "0    neutral                                             Why ? \n",
              "1        joy    Sage Act upgrade on my to do list for tommorow.\n",
              "2    sadness  ON THE WAY TO MY HOMEGIRL BABY FUNERAL!!! MAN ...\n",
              "3        joy   Such an eye ! The true hazel eye-and so brill...\n",
              "4        joy  @Iluvmiasantos ugh babe.. hugggzzz for u .!  b...\n",
              "5       fear  I'm expecting an extremely important phonecall...\n",
              "6    sadness   .Couldnt wait to see them live. If missing th...\n",
              "7   surprise  maken Tip 2: Stop op een moment dat je het hel...\n",
              "8   surprise  En dan krijg je ff een cadeautje van een tweep...\n",
              "9   surprise   @1116am Drummer Boy bij op verzoek van @BiemO...\n",
              "10     anger  The bull tossed the effigy out of their hands ...\n",
              "11   sadness            People hide their behind a #fake smile.\n",
              "12       joy  For once in his life , Leopold must have been ...\n",
              "13      fear  Against the assault of laughter nothing can st...\n",
              "14     anger   With everything , with everybody , with all t..."
            ],
            "text/html": [
              "\n",
              "  <div id=\"df-70d8b74d-e48e-4b2f-a7c1-c4437a7186ac\">\n",
              "    <div class=\"colab-df-container\">\n",
              "      <div>\n",
              "<style scoped>\n",
              "    .dataframe tbody tr th:only-of-type {\n",
              "        vertical-align: middle;\n",
              "    }\n",
              "\n",
              "    .dataframe tbody tr th {\n",
              "        vertical-align: top;\n",
              "    }\n",
              "\n",
              "    .dataframe thead th {\n",
              "        text-align: right;\n",
              "    }\n",
              "</style>\n",
              "<table border=\"1\" class=\"dataframe\">\n",
              "  <thead>\n",
              "    <tr style=\"text-align: right;\">\n",
              "      <th></th>\n",
              "      <th>Emotion</th>\n",
              "      <th>Text</th>\n",
              "    </tr>\n",
              "  </thead>\n",
              "  <tbody>\n",
              "    <tr>\n",
              "      <th>0</th>\n",
              "      <td>neutral</td>\n",
              "      <td>Why ?</td>\n",
              "    </tr>\n",
              "    <tr>\n",
              "      <th>1</th>\n",
              "      <td>joy</td>\n",
              "      <td>Sage Act upgrade on my to do list for tommorow.</td>\n",
              "    </tr>\n",
              "    <tr>\n",
              "      <th>2</th>\n",
              "      <td>sadness</td>\n",
              "      <td>ON THE WAY TO MY HOMEGIRL BABY FUNERAL!!! MAN ...</td>\n",
              "    </tr>\n",
              "    <tr>\n",
              "      <th>3</th>\n",
              "      <td>joy</td>\n",
              "      <td>Such an eye ! The true hazel eye-and so brill...</td>\n",
              "    </tr>\n",
              "    <tr>\n",
              "      <th>4</th>\n",
              "      <td>joy</td>\n",
              "      <td>@Iluvmiasantos ugh babe.. hugggzzz for u .!  b...</td>\n",
              "    </tr>\n",
              "    <tr>\n",
              "      <th>5</th>\n",
              "      <td>fear</td>\n",
              "      <td>I'm expecting an extremely important phonecall...</td>\n",
              "    </tr>\n",
              "    <tr>\n",
              "      <th>6</th>\n",
              "      <td>sadness</td>\n",
              "      <td>.Couldnt wait to see them live. If missing th...</td>\n",
              "    </tr>\n",
              "    <tr>\n",
              "      <th>7</th>\n",
              "      <td>surprise</td>\n",
              "      <td>maken Tip 2: Stop op een moment dat je het hel...</td>\n",
              "    </tr>\n",
              "    <tr>\n",
              "      <th>8</th>\n",
              "      <td>surprise</td>\n",
              "      <td>En dan krijg je ff een cadeautje van een tweep...</td>\n",
              "    </tr>\n",
              "    <tr>\n",
              "      <th>9</th>\n",
              "      <td>surprise</td>\n",
              "      <td>@1116am Drummer Boy bij op verzoek van @BiemO...</td>\n",
              "    </tr>\n",
              "    <tr>\n",
              "      <th>10</th>\n",
              "      <td>anger</td>\n",
              "      <td>The bull tossed the effigy out of their hands ...</td>\n",
              "    </tr>\n",
              "    <tr>\n",
              "      <th>11</th>\n",
              "      <td>sadness</td>\n",
              "      <td>People hide their behind a #fake smile.</td>\n",
              "    </tr>\n",
              "    <tr>\n",
              "      <th>12</th>\n",
              "      <td>joy</td>\n",
              "      <td>For once in his life , Leopold must have been ...</td>\n",
              "    </tr>\n",
              "    <tr>\n",
              "      <th>13</th>\n",
              "      <td>fear</td>\n",
              "      <td>Against the assault of laughter nothing can st...</td>\n",
              "    </tr>\n",
              "    <tr>\n",
              "      <th>14</th>\n",
              "      <td>anger</td>\n",
              "      <td>With everything , with everybody , with all t...</td>\n",
              "    </tr>\n",
              "  </tbody>\n",
              "</table>\n",
              "</div>\n",
              "      <button class=\"colab-df-convert\" onclick=\"convertToInteractive('df-70d8b74d-e48e-4b2f-a7c1-c4437a7186ac')\"\n",
              "              title=\"Convert this dataframe to an interactive table.\"\n",
              "              style=\"display:none;\">\n",
              "        \n",
              "  <svg xmlns=\"http://www.w3.org/2000/svg\" height=\"24px\"viewBox=\"0 0 24 24\"\n",
              "       width=\"24px\">\n",
              "    <path d=\"M0 0h24v24H0V0z\" fill=\"none\"/>\n",
              "    <path d=\"M18.56 5.44l.94 2.06.94-2.06 2.06-.94-2.06-.94-.94-2.06-.94 2.06-2.06.94zm-11 1L8.5 8.5l.94-2.06 2.06-.94-2.06-.94L8.5 2.5l-.94 2.06-2.06.94zm10 10l.94 2.06.94-2.06 2.06-.94-2.06-.94-.94-2.06-.94 2.06-2.06.94z\"/><path d=\"M17.41 7.96l-1.37-1.37c-.4-.4-.92-.59-1.43-.59-.52 0-1.04.2-1.43.59L10.3 9.45l-7.72 7.72c-.78.78-.78 2.05 0 2.83L4 21.41c.39.39.9.59 1.41.59.51 0 1.02-.2 1.41-.59l7.78-7.78 2.81-2.81c.8-.78.8-2.07 0-2.86zM5.41 20L4 18.59l7.72-7.72 1.47 1.35L5.41 20z\"/>\n",
              "  </svg>\n",
              "      </button>\n",
              "      \n",
              "  <style>\n",
              "    .colab-df-container {\n",
              "      display:flex;\n",
              "      flex-wrap:wrap;\n",
              "      gap: 12px;\n",
              "    }\n",
              "\n",
              "    .colab-df-convert {\n",
              "      background-color: #E8F0FE;\n",
              "      border: none;\n",
              "      border-radius: 50%;\n",
              "      cursor: pointer;\n",
              "      display: none;\n",
              "      fill: #1967D2;\n",
              "      height: 32px;\n",
              "      padding: 0 0 0 0;\n",
              "      width: 32px;\n",
              "    }\n",
              "\n",
              "    .colab-df-convert:hover {\n",
              "      background-color: #E2EBFA;\n",
              "      box-shadow: 0px 1px 2px rgba(60, 64, 67, 0.3), 0px 1px 3px 1px rgba(60, 64, 67, 0.15);\n",
              "      fill: #174EA6;\n",
              "    }\n",
              "\n",
              "    [theme=dark] .colab-df-convert {\n",
              "      background-color: #3B4455;\n",
              "      fill: #D2E3FC;\n",
              "    }\n",
              "\n",
              "    [theme=dark] .colab-df-convert:hover {\n",
              "      background-color: #434B5C;\n",
              "      box-shadow: 0px 1px 3px 1px rgba(0, 0, 0, 0.15);\n",
              "      filter: drop-shadow(0px 1px 2px rgba(0, 0, 0, 0.3));\n",
              "      fill: #FFFFFF;\n",
              "    }\n",
              "  </style>\n",
              "\n",
              "      <script>\n",
              "        const buttonEl =\n",
              "          document.querySelector('#df-70d8b74d-e48e-4b2f-a7c1-c4437a7186ac button.colab-df-convert');\n",
              "        buttonEl.style.display =\n",
              "          google.colab.kernel.accessAllowed ? 'block' : 'none';\n",
              "\n",
              "        async function convertToInteractive(key) {\n",
              "          const element = document.querySelector('#df-70d8b74d-e48e-4b2f-a7c1-c4437a7186ac');\n",
              "          const dataTable =\n",
              "            await google.colab.kernel.invokeFunction('convertToInteractive',\n",
              "                                                     [key], {});\n",
              "          if (!dataTable) return;\n",
              "\n",
              "          const docLinkHtml = 'Like what you see? Visit the ' +\n",
              "            '<a target=\"_blank\" href=https://colab.research.google.com/notebooks/data_table.ipynb>data table notebook</a>'\n",
              "            + ' to learn more about interactive tables.';\n",
              "          element.innerHTML = '';\n",
              "          dataTable['output_type'] = 'display_data';\n",
              "          await google.colab.output.renderOutput(dataTable, element);\n",
              "          const docLink = document.createElement('div');\n",
              "          docLink.innerHTML = docLinkHtml;\n",
              "          element.appendChild(docLink);\n",
              "        }\n",
              "      </script>\n",
              "    </div>\n",
              "  </div>\n",
              "  "
            ]
          },
          "metadata": {},
          "execution_count": 9
        }
      ],
      "source": [
        "train.head(15)"
      ]
    },
    {
      "cell_type": "code",
      "execution_count": 10,
      "metadata": {
        "execution": {
          "iopub.execute_input": "2020-10-06T21:19:41.980569Z",
          "iopub.status.busy": "2020-10-06T21:19:41.979730Z",
          "iopub.status.idle": "2020-10-06T21:19:41.983566Z",
          "shell.execute_reply": "2020-10-06T21:19:41.983073Z"
        },
        "papermill": {
          "duration": 0.041264,
          "end_time": "2020-10-06T21:19:41.983666",
          "exception": false,
          "start_time": "2020-10-06T21:19:41.942402",
          "status": "completed"
        },
        "tags": [],
        "colab": {
          "base_uri": "https://localhost:8080/"
        },
        "id": "5AyrgIv366vc",
        "outputId": "093ebf32-f031-48ee-bff2-2327eee4e4df"
      },
      "outputs": [
        {
          "output_type": "execute_result",
          "data": {
            "text/plain": [
              "34792"
            ]
          },
          "metadata": {},
          "execution_count": 10
        }
      ],
      "source": [
        "# Dataset lenght\n",
        "len(train)"
      ]
    },
    {
      "cell_type": "code",
      "execution_count": 11,
      "metadata": {
        "execution": {
          "iopub.execute_input": "2020-10-06T21:19:42.060070Z",
          "iopub.status.busy": "2020-10-06T21:19:42.059141Z",
          "iopub.status.idle": "2020-10-06T21:19:42.064587Z",
          "shell.execute_reply": "2020-10-06T21:19:42.064115Z"
        },
        "papermill": {
          "duration": 0.047577,
          "end_time": "2020-10-06T21:19:42.064691",
          "exception": false,
          "start_time": "2020-10-06T21:19:42.017114",
          "status": "completed"
        },
        "tags": [],
        "colab": {
          "base_uri": "https://localhost:8080/"
        },
        "id": "DMVSx73F66vc",
        "outputId": "f9ab992c-ef7f-4df7-f515-8ffd82897072"
      },
      "outputs": [
        {
          "output_type": "execute_result",
          "data": {
            "text/plain": [
              "array(['neutral', 'joy', 'sadness', 'fear', 'surprise', 'anger', 'shame',\n",
              "       'disgust'], dtype=object)"
            ]
          },
          "metadata": {},
          "execution_count": 11
        }
      ],
      "source": [
        "# Is there any other different value than neutral, negative and positive?\n",
        "train['Emotion'].unique()"
      ]
    },
    {
      "cell_type": "code",
      "source": [
        "# Drop 'shame'\n",
        "train.drop(train[train.Emotion == 'shame'].index, inplace=True)"
      ],
      "metadata": {
        "id": "VewtKaw0qR9Z"
      },
      "execution_count": 12,
      "outputs": []
    },
    {
      "cell_type": "code",
      "execution_count": 13,
      "metadata": {
        "execution": {
          "iopub.execute_input": "2020-10-06T21:19:42.143106Z",
          "iopub.status.busy": "2020-10-06T21:19:42.142318Z",
          "iopub.status.idle": "2020-10-06T21:19:42.185676Z",
          "shell.execute_reply": "2020-10-06T21:19:42.186310Z"
        },
        "papermill": {
          "duration": 0.088183,
          "end_time": "2020-10-06T21:19:42.186453",
          "exception": false,
          "start_time": "2020-10-06T21:19:42.098270",
          "status": "completed"
        },
        "tags": [],
        "colab": {
          "base_uri": "https://localhost:8080/",
          "height": 297
        },
        "id": "M0FjINKh66vd",
        "outputId": "c4512e89-4b56-4558-f315-6e4d023cb61e"
      },
      "outputs": [
        {
          "output_type": "execute_result",
          "data": {
            "text/plain": [
              "           Text\n",
              "Emotion        \n",
              "anger      3777\n",
              "disgust     855\n",
              "fear       4266\n",
              "joy       10464\n",
              "neutral    1466\n",
              "sadness    6175\n",
              "surprise   4015"
            ],
            "text/html": [
              "\n",
              "  <div id=\"df-04d40281-de6b-4da9-a8ae-2b5ea02b43ce\">\n",
              "    <div class=\"colab-df-container\">\n",
              "      <div>\n",
              "<style scoped>\n",
              "    .dataframe tbody tr th:only-of-type {\n",
              "        vertical-align: middle;\n",
              "    }\n",
              "\n",
              "    .dataframe tbody tr th {\n",
              "        vertical-align: top;\n",
              "    }\n",
              "\n",
              "    .dataframe thead th {\n",
              "        text-align: right;\n",
              "    }\n",
              "</style>\n",
              "<table border=\"1\" class=\"dataframe\">\n",
              "  <thead>\n",
              "    <tr style=\"text-align: right;\">\n",
              "      <th></th>\n",
              "      <th>Text</th>\n",
              "    </tr>\n",
              "    <tr>\n",
              "      <th>Emotion</th>\n",
              "      <th></th>\n",
              "    </tr>\n",
              "  </thead>\n",
              "  <tbody>\n",
              "    <tr>\n",
              "      <th>anger</th>\n",
              "      <td>3777</td>\n",
              "    </tr>\n",
              "    <tr>\n",
              "      <th>disgust</th>\n",
              "      <td>855</td>\n",
              "    </tr>\n",
              "    <tr>\n",
              "      <th>fear</th>\n",
              "      <td>4266</td>\n",
              "    </tr>\n",
              "    <tr>\n",
              "      <th>joy</th>\n",
              "      <td>10464</td>\n",
              "    </tr>\n",
              "    <tr>\n",
              "      <th>neutral</th>\n",
              "      <td>1466</td>\n",
              "    </tr>\n",
              "    <tr>\n",
              "      <th>sadness</th>\n",
              "      <td>6175</td>\n",
              "    </tr>\n",
              "    <tr>\n",
              "      <th>surprise</th>\n",
              "      <td>4015</td>\n",
              "    </tr>\n",
              "  </tbody>\n",
              "</table>\n",
              "</div>\n",
              "      <button class=\"colab-df-convert\" onclick=\"convertToInteractive('df-04d40281-de6b-4da9-a8ae-2b5ea02b43ce')\"\n",
              "              title=\"Convert this dataframe to an interactive table.\"\n",
              "              style=\"display:none;\">\n",
              "        \n",
              "  <svg xmlns=\"http://www.w3.org/2000/svg\" height=\"24px\"viewBox=\"0 0 24 24\"\n",
              "       width=\"24px\">\n",
              "    <path d=\"M0 0h24v24H0V0z\" fill=\"none\"/>\n",
              "    <path d=\"M18.56 5.44l.94 2.06.94-2.06 2.06-.94-2.06-.94-.94-2.06-.94 2.06-2.06.94zm-11 1L8.5 8.5l.94-2.06 2.06-.94-2.06-.94L8.5 2.5l-.94 2.06-2.06.94zm10 10l.94 2.06.94-2.06 2.06-.94-2.06-.94-.94-2.06-.94 2.06-2.06.94z\"/><path d=\"M17.41 7.96l-1.37-1.37c-.4-.4-.92-.59-1.43-.59-.52 0-1.04.2-1.43.59L10.3 9.45l-7.72 7.72c-.78.78-.78 2.05 0 2.83L4 21.41c.39.39.9.59 1.41.59.51 0 1.02-.2 1.41-.59l7.78-7.78 2.81-2.81c.8-.78.8-2.07 0-2.86zM5.41 20L4 18.59l7.72-7.72 1.47 1.35L5.41 20z\"/>\n",
              "  </svg>\n",
              "      </button>\n",
              "      \n",
              "  <style>\n",
              "    .colab-df-container {\n",
              "      display:flex;\n",
              "      flex-wrap:wrap;\n",
              "      gap: 12px;\n",
              "    }\n",
              "\n",
              "    .colab-df-convert {\n",
              "      background-color: #E8F0FE;\n",
              "      border: none;\n",
              "      border-radius: 50%;\n",
              "      cursor: pointer;\n",
              "      display: none;\n",
              "      fill: #1967D2;\n",
              "      height: 32px;\n",
              "      padding: 0 0 0 0;\n",
              "      width: 32px;\n",
              "    }\n",
              "\n",
              "    .colab-df-convert:hover {\n",
              "      background-color: #E2EBFA;\n",
              "      box-shadow: 0px 1px 2px rgba(60, 64, 67, 0.3), 0px 1px 3px 1px rgba(60, 64, 67, 0.15);\n",
              "      fill: #174EA6;\n",
              "    }\n",
              "\n",
              "    [theme=dark] .colab-df-convert {\n",
              "      background-color: #3B4455;\n",
              "      fill: #D2E3FC;\n",
              "    }\n",
              "\n",
              "    [theme=dark] .colab-df-convert:hover {\n",
              "      background-color: #434B5C;\n",
              "      box-shadow: 0px 1px 3px 1px rgba(0, 0, 0, 0.15);\n",
              "      filter: drop-shadow(0px 1px 2px rgba(0, 0, 0, 0.3));\n",
              "      fill: #FFFFFF;\n",
              "    }\n",
              "  </style>\n",
              "\n",
              "      <script>\n",
              "        const buttonEl =\n",
              "          document.querySelector('#df-04d40281-de6b-4da9-a8ae-2b5ea02b43ce button.colab-df-convert');\n",
              "        buttonEl.style.display =\n",
              "          google.colab.kernel.accessAllowed ? 'block' : 'none';\n",
              "\n",
              "        async function convertToInteractive(key) {\n",
              "          const element = document.querySelector('#df-04d40281-de6b-4da9-a8ae-2b5ea02b43ce');\n",
              "          const dataTable =\n",
              "            await google.colab.kernel.invokeFunction('convertToInteractive',\n",
              "                                                     [key], {});\n",
              "          if (!dataTable) return;\n",
              "\n",
              "          const docLinkHtml = 'Like what you see? Visit the ' +\n",
              "            '<a target=\"_blank\" href=https://colab.research.google.com/notebooks/data_table.ipynb>data table notebook</a>'\n",
              "            + ' to learn more about interactive tables.';\n",
              "          element.innerHTML = '';\n",
              "          dataTable['output_type'] = 'display_data';\n",
              "          await google.colab.output.renderOutput(dataTable, element);\n",
              "          const docLink = document.createElement('div');\n",
              "          docLink.innerHTML = docLinkHtml;\n",
              "          element.appendChild(docLink);\n",
              "        }\n",
              "      </script>\n",
              "    </div>\n",
              "  </div>\n",
              "  "
            ]
          },
          "metadata": {},
          "execution_count": 13
        }
      ],
      "source": [
        "# Distribution of the data \n",
        "train.groupby('Emotion').nunique()"
      ]
    },
    {
      "cell_type": "markdown",
      "metadata": {
        "papermill": {
          "duration": 0.033994,
          "end_time": "2020-10-06T21:19:42.255666",
          "exception": false,
          "start_time": "2020-10-06T21:19:42.221672",
          "status": "completed"
        },
        "tags": [],
        "id": "zGn_vTe_66vd"
      },
      "source": [
        "# Data cleaning"
      ]
    },
    {
      "cell_type": "code",
      "execution_count": 14,
      "metadata": {
        "execution": {
          "iopub.execute_input": "2020-10-06T21:19:42.334657Z",
          "iopub.status.busy": "2020-10-06T21:19:42.333827Z",
          "iopub.status.idle": "2020-10-06T21:19:42.337209Z",
          "shell.execute_reply": "2020-10-06T21:19:42.337696Z"
        },
        "papermill": {
          "duration": 0.04812,
          "end_time": "2020-10-06T21:19:42.337823",
          "exception": false,
          "start_time": "2020-10-06T21:19:42.289703",
          "status": "completed"
        },
        "tags": [],
        "colab": {
          "base_uri": "https://localhost:8080/",
          "height": 204
        },
        "id": "X9jOToEl66ve",
        "outputId": "9b372ac0-030e-4821-828d-0e416475dd03"
      },
      "outputs": [
        {
          "output_type": "execute_result",
          "data": {
            "text/plain": [
              "   Emotion                                               Text\n",
              "0  neutral                                             Why ? \n",
              "1      joy    Sage Act upgrade on my to do list for tommorow.\n",
              "2  sadness  ON THE WAY TO MY HOMEGIRL BABY FUNERAL!!! MAN ...\n",
              "3      joy   Such an eye ! The true hazel eye-and so brill...\n",
              "4      joy  @Iluvmiasantos ugh babe.. hugggzzz for u .!  b..."
            ],
            "text/html": [
              "\n",
              "  <div id=\"df-23d3dd1c-c2ff-476b-a142-590aedfdb5e1\">\n",
              "    <div class=\"colab-df-container\">\n",
              "      <div>\n",
              "<style scoped>\n",
              "    .dataframe tbody tr th:only-of-type {\n",
              "        vertical-align: middle;\n",
              "    }\n",
              "\n",
              "    .dataframe tbody tr th {\n",
              "        vertical-align: top;\n",
              "    }\n",
              "\n",
              "    .dataframe thead th {\n",
              "        text-align: right;\n",
              "    }\n",
              "</style>\n",
              "<table border=\"1\" class=\"dataframe\">\n",
              "  <thead>\n",
              "    <tr style=\"text-align: right;\">\n",
              "      <th></th>\n",
              "      <th>Emotion</th>\n",
              "      <th>Text</th>\n",
              "    </tr>\n",
              "  </thead>\n",
              "  <tbody>\n",
              "    <tr>\n",
              "      <th>0</th>\n",
              "      <td>neutral</td>\n",
              "      <td>Why ?</td>\n",
              "    </tr>\n",
              "    <tr>\n",
              "      <th>1</th>\n",
              "      <td>joy</td>\n",
              "      <td>Sage Act upgrade on my to do list for tommorow.</td>\n",
              "    </tr>\n",
              "    <tr>\n",
              "      <th>2</th>\n",
              "      <td>sadness</td>\n",
              "      <td>ON THE WAY TO MY HOMEGIRL BABY FUNERAL!!! MAN ...</td>\n",
              "    </tr>\n",
              "    <tr>\n",
              "      <th>3</th>\n",
              "      <td>joy</td>\n",
              "      <td>Such an eye ! The true hazel eye-and so brill...</td>\n",
              "    </tr>\n",
              "    <tr>\n",
              "      <th>4</th>\n",
              "      <td>joy</td>\n",
              "      <td>@Iluvmiasantos ugh babe.. hugggzzz for u .!  b...</td>\n",
              "    </tr>\n",
              "  </tbody>\n",
              "</table>\n",
              "</div>\n",
              "      <button class=\"colab-df-convert\" onclick=\"convertToInteractive('df-23d3dd1c-c2ff-476b-a142-590aedfdb5e1')\"\n",
              "              title=\"Convert this dataframe to an interactive table.\"\n",
              "              style=\"display:none;\">\n",
              "        \n",
              "  <svg xmlns=\"http://www.w3.org/2000/svg\" height=\"24px\"viewBox=\"0 0 24 24\"\n",
              "       width=\"24px\">\n",
              "    <path d=\"M0 0h24v24H0V0z\" fill=\"none\"/>\n",
              "    <path d=\"M18.56 5.44l.94 2.06.94-2.06 2.06-.94-2.06-.94-.94-2.06-.94 2.06-2.06.94zm-11 1L8.5 8.5l.94-2.06 2.06-.94-2.06-.94L8.5 2.5l-.94 2.06-2.06.94zm10 10l.94 2.06.94-2.06 2.06-.94-2.06-.94-.94-2.06-.94 2.06-2.06.94z\"/><path d=\"M17.41 7.96l-1.37-1.37c-.4-.4-.92-.59-1.43-.59-.52 0-1.04.2-1.43.59L10.3 9.45l-7.72 7.72c-.78.78-.78 2.05 0 2.83L4 21.41c.39.39.9.59 1.41.59.51 0 1.02-.2 1.41-.59l7.78-7.78 2.81-2.81c.8-.78.8-2.07 0-2.86zM5.41 20L4 18.59l7.72-7.72 1.47 1.35L5.41 20z\"/>\n",
              "  </svg>\n",
              "      </button>\n",
              "      \n",
              "  <style>\n",
              "    .colab-df-container {\n",
              "      display:flex;\n",
              "      flex-wrap:wrap;\n",
              "      gap: 12px;\n",
              "    }\n",
              "\n",
              "    .colab-df-convert {\n",
              "      background-color: #E8F0FE;\n",
              "      border: none;\n",
              "      border-radius: 50%;\n",
              "      cursor: pointer;\n",
              "      display: none;\n",
              "      fill: #1967D2;\n",
              "      height: 32px;\n",
              "      padding: 0 0 0 0;\n",
              "      width: 32px;\n",
              "    }\n",
              "\n",
              "    .colab-df-convert:hover {\n",
              "      background-color: #E2EBFA;\n",
              "      box-shadow: 0px 1px 2px rgba(60, 64, 67, 0.3), 0px 1px 3px 1px rgba(60, 64, 67, 0.15);\n",
              "      fill: #174EA6;\n",
              "    }\n",
              "\n",
              "    [theme=dark] .colab-df-convert {\n",
              "      background-color: #3B4455;\n",
              "      fill: #D2E3FC;\n",
              "    }\n",
              "\n",
              "    [theme=dark] .colab-df-convert:hover {\n",
              "      background-color: #434B5C;\n",
              "      box-shadow: 0px 1px 3px 1px rgba(0, 0, 0, 0.15);\n",
              "      filter: drop-shadow(0px 1px 2px rgba(0, 0, 0, 0.3));\n",
              "      fill: #FFFFFF;\n",
              "    }\n",
              "  </style>\n",
              "\n",
              "      <script>\n",
              "        const buttonEl =\n",
              "          document.querySelector('#df-23d3dd1c-c2ff-476b-a142-590aedfdb5e1 button.colab-df-convert');\n",
              "        buttonEl.style.display =\n",
              "          google.colab.kernel.accessAllowed ? 'block' : 'none';\n",
              "\n",
              "        async function convertToInteractive(key) {\n",
              "          const element = document.querySelector('#df-23d3dd1c-c2ff-476b-a142-590aedfdb5e1');\n",
              "          const dataTable =\n",
              "            await google.colab.kernel.invokeFunction('convertToInteractive',\n",
              "                                                     [key], {});\n",
              "          if (!dataTable) return;\n",
              "\n",
              "          const docLinkHtml = 'Like what you see? Visit the ' +\n",
              "            '<a target=\"_blank\" href=https://colab.research.google.com/notebooks/data_table.ipynb>data table notebook</a>'\n",
              "            + ' to learn more about interactive tables.';\n",
              "          element.innerHTML = '';\n",
              "          dataTable['output_type'] = 'display_data';\n",
              "          await google.colab.output.renderOutput(dataTable, element);\n",
              "          const docLink = document.createElement('div');\n",
              "          docLink.innerHTML = docLinkHtml;\n",
              "          element.appendChild(docLink);\n",
              "        }\n",
              "      </script>\n",
              "    </div>\n",
              "  </div>\n",
              "  "
            ]
          },
          "metadata": {},
          "execution_count": 14
        }
      ],
      "source": [
        "#Let's keep only the columns that we're going to use\n",
        "train = train[['Emotion','Text']]\n",
        "train.head()"
      ]
    },
    {
      "cell_type": "code",
      "execution_count": 15,
      "metadata": {
        "execution": {
          "iopub.execute_input": "2020-10-06T21:19:42.415166Z",
          "iopub.status.busy": "2020-10-06T21:19:42.414365Z",
          "iopub.status.idle": "2020-10-06T21:19:42.418112Z",
          "shell.execute_reply": "2020-10-06T21:19:42.417659Z"
        },
        "papermill": {
          "duration": 0.0451,
          "end_time": "2020-10-06T21:19:42.418205",
          "exception": false,
          "start_time": "2020-10-06T21:19:42.373105",
          "status": "completed"
        },
        "tags": [],
        "colab": {
          "base_uri": "https://localhost:8080/"
        },
        "id": "H1yMFLjm66ve",
        "outputId": "2ac4587f-23d0-4dc1-8906-06f6afc26558"
      },
      "outputs": [
        {
          "output_type": "execute_result",
          "data": {
            "text/plain": [
              "0"
            ]
          },
          "metadata": {},
          "execution_count": 15
        }
      ],
      "source": [
        "#Is there any null value?\n",
        "train[\"Text\"].isnull().sum()"
      ]
    },
    {
      "cell_type": "markdown",
      "metadata": {
        "papermill": {
          "duration": 0.035753,
          "end_time": "2020-10-06T21:19:42.572975",
          "exception": false,
          "start_time": "2020-10-06T21:19:42.537222",
          "status": "completed"
        },
        "tags": [],
        "id": "275jZUeD66ve"
      },
      "source": [
        "### The next steps about data cleaning will be:\n",
        "\n",
        "* Remove URLs from the tweets\n",
        "* Tokenize text\n",
        "* Remove emails\n",
        "* Remove new lines characters\n",
        "* Remove distracting single quotes\n",
        "* Remove all punctuation signs\n",
        "* Lowercase all text\n",
        "* Detokenize text\n",
        "* Convert list of texts to Numpy array"
      ]
    },
    {
      "cell_type": "code",
      "execution_count": 16,
      "metadata": {
        "execution": {
          "iopub.execute_input": "2020-10-06T21:19:42.651469Z",
          "iopub.status.busy": "2020-10-06T21:19:42.650518Z",
          "iopub.status.idle": "2020-10-06T21:19:42.653091Z",
          "shell.execute_reply": "2020-10-06T21:19:42.653513Z"
        },
        "papermill": {
          "duration": 0.044735,
          "end_time": "2020-10-06T21:19:42.653654",
          "exception": false,
          "start_time": "2020-10-06T21:19:42.608919",
          "status": "completed"
        },
        "tags": [],
        "id": "Qyg7-0uA66vf"
      },
      "outputs": [],
      "source": [
        "def depure_data(data):\n",
        "    \n",
        "    # Removing URLs with a regular expression\n",
        "    url_pattern = re.compile(r'https?://\\S+|www\\.\\S+')\n",
        "    data = url_pattern.sub(r'', data)\n",
        "\n",
        "    # Remove Emails\n",
        "    data = re.sub('\\S*@\\S*\\s?', '', data)\n",
        "\n",
        "    # Remove new line characters\n",
        "    data = re.sub('\\s+', ' ', data)\n",
        "\n",
        "    # Remove distracting single quotes\n",
        "    data = re.sub(\"\\'\", \"\", data)\n",
        "        \n",
        "    return data"
      ]
    },
    {
      "cell_type": "code",
      "execution_count": 17,
      "metadata": {
        "execution": {
          "iopub.execute_input": "2020-10-06T21:19:42.742866Z",
          "iopub.status.busy": "2020-10-06T21:19:42.737799Z",
          "iopub.status.idle": "2020-10-06T21:19:43.099846Z",
          "shell.execute_reply": "2020-10-06T21:19:43.100317Z"
        },
        "papermill": {
          "duration": 0.411166,
          "end_time": "2020-10-06T21:19:43.100446",
          "exception": false,
          "start_time": "2020-10-06T21:19:42.689280",
          "status": "completed"
        },
        "tags": [],
        "colab": {
          "base_uri": "https://localhost:8080/"
        },
        "id": "oEgviLgy66vf",
        "outputId": "a0efb2f5-a3c2-4a53-f450-17f3999a62ee"
      },
      "outputs": [
        {
          "output_type": "execute_result",
          "data": {
            "text/plain": [
              "[' Why ? ',\n",
              " 'Sage Act upgrade on my to do list for tommorow.',\n",
              " 'ON THE WAY TO MY HOMEGIRL BABY FUNERAL!!! MAN I HATE FUNERALS THIS REALLY SHOWS ME HOW BLESSED I AM ',\n",
              " ' Such an eye ! The true hazel eye-and so brilliant ! Regular features , open countenance , with a complexion , Oh ! What a bloom of full health , and such a pretty height and size ; such a firm and upright figure ! There is health , not merely in her bloom , but in her air , her head , her glance . One hears sometimes of a child being  the picture of health  ; now , she always gives me the idea of being the complete picture of grown-up health . She is loveliness itself . ',\n",
              " 'ugh babe.. hugggzzz for u .! babe naamazed nga ako e babe e, despite negas mas pinaramdam at fil ko ang ']"
            ]
          },
          "metadata": {},
          "execution_count": 17
        }
      ],
      "source": [
        "temp = []\n",
        "# Splitting pd.Series to list\n",
        "data_to_list = train['Text'].values.tolist()\n",
        "for i in range(len(data_to_list)):\n",
        "    temp.append(depure_data(data_to_list[i]))\n",
        "list(temp[:5])"
      ]
    },
    {
      "cell_type": "code",
      "execution_count": 18,
      "metadata": {
        "execution": {
          "iopub.execute_input": "2020-10-06T21:19:43.217126Z",
          "iopub.status.busy": "2020-10-06T21:19:43.201831Z",
          "iopub.status.idle": "2020-10-06T21:19:44.301157Z",
          "shell.execute_reply": "2020-10-06T21:19:44.300459Z"
        },
        "papermill": {
          "duration": 1.161143,
          "end_time": "2020-10-06T21:19:44.301321",
          "exception": false,
          "start_time": "2020-10-06T21:19:43.140178",
          "status": "completed"
        },
        "tags": [],
        "colab": {
          "base_uri": "https://localhost:8080/"
        },
        "id": "B0KTSec066vf",
        "outputId": "6354e32a-3924-4de0-c97a-f9d2a2a00309"
      },
      "outputs": [
        {
          "output_type": "stream",
          "name": "stdout",
          "text": [
            "[['why'], ['sage', 'act', 'upgrade', 'on', 'my', 'to', 'do', 'list', 'for', 'tommorow'], ['on', 'the', 'way', 'to', 'my', 'homegirl', 'baby', 'funeral', 'man', 'hate', 'funerals', 'this', 'really', 'shows', 'me', 'how', 'blessed', 'am'], ['such', 'an', 'eye', 'the', 'true', 'hazel', 'eye', 'and', 'so', 'brilliant', 'regular', 'features', 'open', 'countenance', 'with', 'complexion', 'oh', 'what', 'bloom', 'of', 'full', 'health', 'and', 'such', 'pretty', 'height', 'and', 'size', 'such', 'firm', 'and', 'upright', 'figure', 'there', 'is', 'health', 'not', 'merely', 'in', 'her', 'bloom', 'but', 'in', 'her', 'air', 'her', 'head', 'her', 'glance', 'one', 'hears', 'sometimes', 'of', 'child', 'being', 'the', 'picture', 'of', 'health', 'now', 'she', 'always', 'gives', 'me', 'the', 'idea', 'of', 'being', 'the', 'complete', 'picture', 'of', 'grown', 'up', 'health', 'she', 'is', 'loveliness', 'itself'], ['ugh', 'babe', 'hugggzzz', 'for', 'babe', 'naamazed', 'nga', 'ako', 'babe', 'despite', 'negas', 'mas', 'pinaramdam', 'at', 'fil', 'ko', 'ang'], ['im', 'expecting', 'an', 'extremely', 'important', 'phonecall', 'any', 'minute', 'now', 'terror', 'opportunity'], ['couldnt', 'wait', 'to', 'see', 'them', 'live', 'if', 'missing', 'them', 'in', 'nh', 'wasnt', 'painful', 'enuf', 'suraj', 'performing', 'his', 'last', 'gig', 'in', 'delhi'], ['maken', 'tip', 'stop', 'op', 'een', 'moment', 'dat', 'je', 'het', 'hele', 'project', 'wel', 'ziet', 'zitten', 'nu', 'dus'], ['en', 'dan', 'krijg', 'je', 'ff', 'een', 'cadeautje', 'van', 'een', 'tweep', 'melike'], ['drummer', 'boy', 'bij', 'op', 'verzoek', 'van', 'welke', 'uitvoering', 'van', 'wie']]\n"
          ]
        }
      ],
      "source": [
        "def sent_to_words(sentences):\n",
        "    for sentence in sentences:\n",
        "        yield(gensim.utils.simple_preprocess(str(sentence), deacc=True))  # deacc=True removes punctuations\n",
        "        \n",
        "\n",
        "data_words = list(sent_to_words(temp))\n",
        "\n",
        "print(data_words[:10])"
      ]
    },
    {
      "cell_type": "code",
      "execution_count": 19,
      "metadata": {
        "execution": {
          "iopub.execute_input": "2020-10-06T21:19:44.381205Z",
          "iopub.status.busy": "2020-10-06T21:19:44.380312Z",
          "iopub.status.idle": "2020-10-06T21:19:44.384281Z",
          "shell.execute_reply": "2020-10-06T21:19:44.383753Z"
        },
        "papermill": {
          "duration": 0.045481,
          "end_time": "2020-10-06T21:19:44.384376",
          "exception": false,
          "start_time": "2020-10-06T21:19:44.338895",
          "status": "completed"
        },
        "tags": [],
        "colab": {
          "base_uri": "https://localhost:8080/"
        },
        "id": "1vy3wgZz66vg",
        "outputId": "1d122f29-30d4-4d4f-8fab-e8f7a47d5f70"
      },
      "outputs": [
        {
          "output_type": "execute_result",
          "data": {
            "text/plain": [
              "34646"
            ]
          },
          "metadata": {},
          "execution_count": 19
        }
      ],
      "source": [
        "len(data_words)"
      ]
    },
    {
      "cell_type": "code",
      "execution_count": 20,
      "metadata": {
        "execution": {
          "iopub.execute_input": "2020-10-06T21:19:44.465126Z",
          "iopub.status.busy": "2020-10-06T21:19:44.464351Z",
          "iopub.status.idle": "2020-10-06T21:19:44.467376Z",
          "shell.execute_reply": "2020-10-06T21:19:44.466918Z"
        },
        "papermill": {
          "duration": 0.045096,
          "end_time": "2020-10-06T21:19:44.467470",
          "exception": false,
          "start_time": "2020-10-06T21:19:44.422374",
          "status": "completed"
        },
        "tags": [],
        "id": "LSnOanJ766vg"
      },
      "outputs": [],
      "source": [
        "def detokenize(text):\n",
        "    return TreebankWordDetokenizer().detokenize(text)"
      ]
    },
    {
      "cell_type": "code",
      "execution_count": 21,
      "metadata": {
        "execution": {
          "iopub.execute_input": "2020-10-06T21:19:44.561022Z",
          "iopub.status.busy": "2020-10-06T21:19:44.550825Z",
          "iopub.status.idle": "2020-10-06T21:19:47.831584Z",
          "shell.execute_reply": "2020-10-06T21:19:47.832620Z"
        },
        "papermill": {
          "duration": 3.326682,
          "end_time": "2020-10-06T21:19:47.832800",
          "exception": false,
          "start_time": "2020-10-06T21:19:44.506118",
          "status": "completed"
        },
        "tags": [],
        "colab": {
          "base_uri": "https://localhost:8080/"
        },
        "id": "9fYJCAU766vg",
        "outputId": "f043319a-82f2-49c1-a140-d440b83faaf6"
      },
      "outputs": [
        {
          "output_type": "stream",
          "name": "stdout",
          "text": [
            "['why', 'sage act upgrade on my to do list for tommorow', 'on the way to my homegirl baby funeral man hate funerals this really shows me how blessed am', 'such an eye the true hazel eye and so brilliant regular features open countenance with complexion oh what bloom of full health and such pretty height and size such firm and upright figure there is health not merely in her bloom but in her air her head her glance one hears sometimes of child being the picture of health now she always gives me the idea of being the complete picture of grown up health she is loveliness itself', 'ugh babe hugggzzz for babe naamazed nga ako babe despite negas mas pinaramdam at fil ko ang']\n"
          ]
        }
      ],
      "source": [
        "data = []\n",
        "for i in range(len(data_words)):\n",
        "    data.append(detokenize(data_words[i]))\n",
        "print(data[:5])"
      ]
    },
    {
      "cell_type": "code",
      "execution_count": 22,
      "metadata": {
        "execution": {
          "iopub.execute_input": "2020-10-06T21:19:47.936780Z",
          "iopub.status.busy": "2020-10-06T21:19:47.934885Z",
          "iopub.status.idle": "2020-10-06T21:19:47.937552Z",
          "shell.execute_reply": "2020-10-06T21:19:47.938090Z"
        },
        "papermill": {
          "duration": 0.06542,
          "end_time": "2020-10-06T21:19:47.938217",
          "exception": false,
          "start_time": "2020-10-06T21:19:47.872797",
          "status": "completed"
        },
        "tags": [],
        "id": "vuphxCxF66vg"
      },
      "outputs": [],
      "source": [
        "data = np.array(data)"
      ]
    },
    {
      "cell_type": "markdown",
      "metadata": {
        "papermill": {
          "duration": 0.037183,
          "end_time": "2020-10-06T21:19:48.013459",
          "exception": false,
          "start_time": "2020-10-06T21:19:47.976276",
          "status": "completed"
        },
        "tags": [],
        "id": "sBjChxbt66vh"
      },
      "source": [
        "# Label encoding\n",
        "\n",
        "As the dataset is categorical, we need to convert the emotion labels to a float type that our model can understand. To achieve this task, we'll implement the to_categorical method from Keras."
      ]
    },
    {
      "cell_type": "code",
      "execution_count": 23,
      "metadata": {
        "execution": {
          "iopub.execute_input": "2020-10-06T21:19:48.122784Z",
          "iopub.status.busy": "2020-10-06T21:19:48.121518Z",
          "iopub.status.idle": "2020-10-06T21:19:48.125042Z",
          "shell.execute_reply": "2020-10-06T21:19:48.125481Z"
        },
        "papermill": {
          "duration": 0.074223,
          "end_time": "2020-10-06T21:19:48.125627",
          "exception": false,
          "start_time": "2020-10-06T21:19:48.051404",
          "status": "completed"
        },
        "tags": [],
        "id": "joJ4Q66t66vh"
      },
      "outputs": [],
      "source": [
        "labels = np.array(train['Emotion'])\n",
        "y = []\n",
        "for i in range(len(labels)):\n",
        "    if labels[i] == 'neutral':\n",
        "        y.append(0)\n",
        "    if labels[i] == 'joy':\n",
        "        y.append(1)\n",
        "    if labels[i] == 'sadness':\n",
        "        y.append(2)\n",
        "    if labels[i] == 'fear':\n",
        "        y.append(3)\n",
        "    if labels[i] == 'surprise':\n",
        "        y.append(4)\n",
        "    if labels[i] == 'anger':\n",
        "        y.append(5)   \n",
        "    if labels[i] == 'disgust':\n",
        "        y.append(6) \n",
        "y = np.array(y)\n",
        "labels = tf.keras.utils.to_categorical(y, 7, dtype=\"float32\")\n",
        "del y"
      ]
    },
    {
      "cell_type": "code",
      "execution_count": 24,
      "metadata": {
        "execution": {
          "iopub.execute_input": "2020-10-06T21:19:48.206863Z",
          "iopub.status.busy": "2020-10-06T21:19:48.206068Z",
          "iopub.status.idle": "2020-10-06T21:19:48.209920Z",
          "shell.execute_reply": "2020-10-06T21:19:48.209425Z"
        },
        "papermill": {
          "duration": 0.046647,
          "end_time": "2020-10-06T21:19:48.210021",
          "exception": false,
          "start_time": "2020-10-06T21:19:48.163374",
          "status": "completed"
        },
        "tags": [],
        "colab": {
          "base_uri": "https://localhost:8080/"
        },
        "id": "04mG2o1G66vh",
        "outputId": "1b180fd5-977e-4861-d112-7ed0e5861a88"
      },
      "outputs": [
        {
          "output_type": "execute_result",
          "data": {
            "text/plain": [
              "34646"
            ]
          },
          "metadata": {},
          "execution_count": 24
        }
      ],
      "source": [
        "len(labels)"
      ]
    },
    {
      "cell_type": "markdown",
      "metadata": {
        "papermill": {
          "duration": 0.038298,
          "end_time": "2020-10-06T21:19:48.287312",
          "exception": false,
          "start_time": "2020-10-06T21:19:48.249014",
          "status": "completed"
        },
        "tags": [],
        "id": "rD4Gefac66vh"
      },
      "source": [
        "# Data sequencing and splitting\n",
        "\n",
        "We'll implement the Keras tokenizer as well as its pad_sequences method to transform our text data into 3D float data, otherwise our neural networks won't be able to be trained on it."
      ]
    },
    {
      "cell_type": "code",
      "execution_count": 25,
      "metadata": {
        "execution": {
          "iopub.execute_input": "2020-10-06T21:19:48.373707Z",
          "iopub.status.busy": "2020-10-06T21:19:48.372469Z",
          "iopub.status.idle": "2020-10-06T21:19:49.386819Z",
          "shell.execute_reply": "2020-10-06T21:19:49.387562Z"
        },
        "papermill": {
          "duration": 1.062302,
          "end_time": "2020-10-06T21:19:49.387739",
          "exception": false,
          "start_time": "2020-10-06T21:19:48.325437",
          "status": "completed"
        },
        "tags": [],
        "colab": {
          "base_uri": "https://localhost:8080/"
        },
        "id": "Mjlmwp3J66vh",
        "outputId": "cfd16711-dc6d-4124-bebd-6481ebcea183"
      },
      "outputs": [
        {
          "output_type": "stream",
          "name": "stdout",
          "text": [
            "[[   0    0    0 ...    0    0  114]\n",
            " [   0    0    0 ...  779    7 3904]\n",
            " [   0    0    0 ...   77 1090   81]\n",
            " ...\n",
            " [   0    0    0 ... 2501   13   54]\n",
            " [   0    0    0 ...    5  703    9]\n",
            " [   0    0    0 ...   29    1   31]]\n"
          ]
        }
      ],
      "source": [
        "from keras.models import Sequential\n",
        "from keras import layers\n",
        "from keras.optimizers import RMSprop,Adam\n",
        "from keras.preprocessing.text import Tokenizer\n",
        "from keras_preprocessing.sequence import pad_sequences\n",
        "#from keras.preprocessing.sequence import pad_sequences\n",
        "from keras import regularizers\n",
        "from keras import backend as K\n",
        "from keras.callbacks import ModelCheckpoint\n",
        "max_words = 5000\n",
        "max_len = 200\n",
        "\n",
        "tokenizer = Tokenizer(num_words=max_words)\n",
        "tokenizer.fit_on_texts(data)\n",
        "sequences = tokenizer.texts_to_sequences(data)\n",
        "tweets = pad_sequences(sequences, maxlen=max_len)\n",
        "print(tweets)"
      ]
    },
    {
      "cell_type": "code",
      "execution_count": 26,
      "metadata": {
        "execution": {
          "iopub.execute_input": "2020-10-06T21:19:49.478734Z",
          "iopub.status.busy": "2020-10-06T21:19:49.477823Z",
          "iopub.status.idle": "2020-10-06T21:19:49.482217Z",
          "shell.execute_reply": "2020-10-06T21:19:49.483329Z"
        },
        "papermill": {
          "duration": 0.054099,
          "end_time": "2020-10-06T21:19:49.483550",
          "exception": false,
          "start_time": "2020-10-06T21:19:49.429451",
          "status": "completed"
        },
        "tags": [],
        "colab": {
          "base_uri": "https://localhost:8080/"
        },
        "id": "lRryq6xG66vi",
        "outputId": "54e8a448-23fa-4252-b204-e299753ee766"
      },
      "outputs": [
        {
          "output_type": "stream",
          "name": "stdout",
          "text": [
            "[[1. 0. 0. ... 0. 0. 0.]\n",
            " [0. 1. 0. ... 0. 0. 0.]\n",
            " [0. 0. 1. ... 0. 0. 0.]\n",
            " ...\n",
            " [0. 0. 0. ... 0. 1. 0.]\n",
            " [0. 0. 0. ... 0. 0. 0.]\n",
            " [0. 0. 1. ... 0. 0. 0.]]\n"
          ]
        }
      ],
      "source": [
        "print(labels)"
      ]
    },
    {
      "cell_type": "code",
      "execution_count": 27,
      "metadata": {
        "execution": {
          "iopub.execute_input": "2020-10-06T21:19:49.585814Z",
          "iopub.status.busy": "2020-10-06T21:19:49.584576Z",
          "iopub.status.idle": "2020-10-06T21:19:49.600360Z",
          "shell.execute_reply": "2020-10-06T21:19:49.601002Z"
        },
        "papermill": {
          "duration": 0.069178,
          "end_time": "2020-10-06T21:19:49.601136",
          "exception": false,
          "start_time": "2020-10-06T21:19:49.531958",
          "status": "completed"
        },
        "tags": [],
        "colab": {
          "base_uri": "https://localhost:8080/"
        },
        "id": "KwR1zKl966vi",
        "outputId": "8da1e687-447e-4a57-d45c-9d1e5a4bba18"
      },
      "outputs": [
        {
          "output_type": "stream",
          "name": "stdout",
          "text": [
            "25984 8662 25984 8662\n"
          ]
        }
      ],
      "source": [
        "#Splitting the data\n",
        "X_train, X_test, y_train, y_test = train_test_split(tweets,labels, random_state=0)\n",
        "print (len(X_train),len(X_test),len(y_train),len(y_test))"
      ]
    },
    {
      "cell_type": "markdown",
      "metadata": {
        "papermill": {
          "duration": 0.045363,
          "end_time": "2020-10-06T21:19:49.779234",
          "exception": false,
          "start_time": "2020-10-06T21:19:49.733871",
          "status": "completed"
        },
        "tags": [],
        "id": "qbU2b2J166vi"
      },
      "source": [
        "## **0. SimpleRNN model**\n"
      ]
    },
    {
      "cell_type": "code",
      "execution_count": 28,
      "metadata": {
        "execution": {
          "iopub.execute_input": "2020-10-06T21:19:49.876465Z",
          "iopub.status.busy": "2020-10-06T21:19:49.875466Z",
          "iopub.status.idle": "2020-10-06T21:19:49.878789Z",
          "shell.execute_reply": "2020-10-06T21:19:49.878237Z"
        },
        "papermill": {
          "duration": 0.054472,
          "end_time": "2020-10-06T21:19:49.878902",
          "exception": false,
          "start_time": "2020-10-06T21:19:49.824430",
          "status": "completed"
        },
        "tags": [],
        "id": "pK_-84mP66vi",
        "colab": {
          "base_uri": "https://localhost:8080/"
        },
        "outputId": "54010cc7-2655-41b2-fd8a-821d4756a195"
      },
      "outputs": [
        {
          "output_type": "stream",
          "name": "stderr",
          "text": [
            "WARNING:tensorflow:`period` argument is deprecated. Please use `save_freq` to specify the frequency in number of batches seen.\n"
          ]
        },
        {
          "output_type": "stream",
          "name": "stdout",
          "text": [
            "Epoch 1/5\n",
            "810/812 [============================>.] - ETA: 0s - loss: 1.6499 - accuracy: 0.3540\n",
            "Epoch 1: val_accuracy improved from -inf to 0.42888, saving model to best_model0.hdf5\n",
            "812/812 [==============================] - 25s 29ms/step - loss: 1.6496 - accuracy: 0.3542 - val_loss: 1.5113 - val_accuracy: 0.4289\n",
            "Epoch 2/5\n",
            "812/812 [==============================] - ETA: 0s - loss: 1.3995 - accuracy: 0.4837\n",
            "Epoch 2: val_accuracy improved from 0.42888 to 0.48926, saving model to best_model0.hdf5\n",
            "812/812 [==============================] - 21s 25ms/step - loss: 1.3995 - accuracy: 0.4837 - val_loss: 1.3814 - val_accuracy: 0.4893\n",
            "Epoch 3/5\n",
            "810/812 [============================>.] - ETA: 0s - loss: 1.2408 - accuracy: 0.5561\n",
            "Epoch 3: val_accuracy improved from 0.48926 to 0.51928, saving model to best_model0.hdf5\n",
            "812/812 [==============================] - 22s 27ms/step - loss: 1.2409 - accuracy: 0.5563 - val_loss: 1.3176 - val_accuracy: 0.5193\n",
            "Epoch 4/5\n",
            "811/812 [============================>.] - ETA: 0s - loss: 1.1161 - accuracy: 0.6109\n",
            "Epoch 4: val_accuracy improved from 0.51928 to 0.56396, saving model to best_model0.hdf5\n",
            "812/812 [==============================] - 23s 28ms/step - loss: 1.1159 - accuracy: 0.6110 - val_loss: 1.2393 - val_accuracy: 0.5640\n",
            "Epoch 5/5\n",
            "811/812 [============================>.] - ETA: 0s - loss: 1.0061 - accuracy: 0.6556\n",
            "Epoch 5: val_accuracy improved from 0.56396 to 0.58047, saving model to best_model0.hdf5\n",
            "812/812 [==============================] - 23s 28ms/step - loss: 1.0060 - accuracy: 0.6555 - val_loss: 1.2177 - val_accuracy: 0.5805\n"
          ]
        }
      ],
      "source": [
        "model0 = Sequential()\n",
        "model0.add(layers.Embedding(max_words, 15))\n",
        "model0.add(layers.SimpleRNN(15))\n",
        "model0.add(layers.Dense(7,activation='softmax'))\n",
        "\n",
        "\n",
        "model0.compile(optimizer='rmsprop',loss='categorical_crossentropy', metrics=['accuracy'])\n",
        "# Implementing model checkpoins to save the best metric and do not lose it on training\n",
        "checkpoint0 = ModelCheckpoint(\"best_model0.hdf5\", monitor='val_accuracy', verbose=1,save_best_only=True, mode='auto', period=1,save_weights_only=False)\n",
        "history = model0.fit(X_train, y_train, epochs=5,validation_data=(X_test, y_test),callbacks=[checkpoint0])"
      ]
    },
    {
      "cell_type": "markdown",
      "metadata": {
        "papermill": {
          "duration": 0.044937,
          "end_time": "2020-10-06T21:19:49.968644",
          "exception": false,
          "start_time": "2020-10-06T21:19:49.923707",
          "status": "completed"
        },
        "tags": [],
        "id": "3YQezaSL66vj"
      },
      "source": [
        "## **1. Single LSTM layer model**"
      ]
    },
    {
      "cell_type": "code",
      "execution_count": 29,
      "metadata": {
        "execution": {
          "iopub.execute_input": "2020-10-06T21:19:50.068632Z",
          "iopub.status.busy": "2020-10-06T21:19:50.067909Z",
          "iopub.status.idle": "2020-10-06T21:30:02.803265Z",
          "shell.execute_reply": "2020-10-06T21:30:02.805203Z"
        },
        "papermill": {
          "duration": 612.793273,
          "end_time": "2020-10-06T21:30:02.806611",
          "exception": false,
          "start_time": "2020-10-06T21:19:50.013338",
          "status": "completed"
        },
        "tags": [],
        "colab": {
          "base_uri": "https://localhost:8080/"
        },
        "id": "lk7p2NZW66vj",
        "outputId": "7dd6d640-5653-4a38-de64-9892e4b65199"
      },
      "outputs": [
        {
          "output_type": "stream",
          "name": "stderr",
          "text": [
            "WARNING:tensorflow:`period` argument is deprecated. Please use `save_freq` to specify the frequency in number of batches seen.\n"
          ]
        },
        {
          "output_type": "stream",
          "name": "stdout",
          "text": [
            "Epoch 1/70\n",
            "812/812 [==============================] - ETA: 0s - loss: 1.6412 - accuracy: 0.3602\n",
            "Epoch 1: val_accuracy improved from -inf to 0.44874, saving model to best_model1.hdf5\n",
            "812/812 [==============================] - 36s 43ms/step - loss: 1.6412 - accuracy: 0.3602 - val_loss: 1.4725 - val_accuracy: 0.4487\n",
            "Epoch 2/70\n",
            "811/812 [============================>.] - ETA: 0s - loss: 1.4034 - accuracy: 0.4856\n",
            "Epoch 2: val_accuracy improved from 0.44874 to 0.50716, saving model to best_model1.hdf5\n",
            "812/812 [==============================] - 34s 42ms/step - loss: 1.4034 - accuracy: 0.4855 - val_loss: 1.3526 - val_accuracy: 0.5072\n",
            "Epoch 3/70\n",
            "811/812 [============================>.] - ETA: 0s - loss: 1.2844 - accuracy: 0.5399\n",
            "Epoch 3: val_accuracy improved from 0.50716 to 0.55287, saving model to best_model1.hdf5\n",
            "812/812 [==============================] - 35s 44ms/step - loss: 1.2842 - accuracy: 0.5400 - val_loss: 1.2571 - val_accuracy: 0.5529\n",
            "Epoch 4/70\n",
            "812/812 [==============================] - ETA: 0s - loss: 1.1999 - accuracy: 0.5802\n",
            "Epoch 4: val_accuracy improved from 0.55287 to 0.58970, saving model to best_model1.hdf5\n",
            "812/812 [==============================] - 36s 45ms/step - loss: 1.1999 - accuracy: 0.5802 - val_loss: 1.1868 - val_accuracy: 0.5897\n",
            "Epoch 5/70\n",
            "812/812 [==============================] - ETA: 0s - loss: 1.1401 - accuracy: 0.6019\n",
            "Epoch 5: val_accuracy improved from 0.58970 to 0.60379, saving model to best_model1.hdf5\n",
            "812/812 [==============================] - 35s 43ms/step - loss: 1.1401 - accuracy: 0.6019 - val_loss: 1.1466 - val_accuracy: 0.6038\n",
            "Epoch 6/70\n",
            "812/812 [==============================] - ETA: 0s - loss: 1.0899 - accuracy: 0.6203\n",
            "Epoch 6: val_accuracy improved from 0.60379 to 0.60598, saving model to best_model1.hdf5\n",
            "812/812 [==============================] - 35s 43ms/step - loss: 1.0899 - accuracy: 0.6203 - val_loss: 1.1281 - val_accuracy: 0.6060\n",
            "Epoch 7/70\n",
            "811/812 [============================>.] - ETA: 0s - loss: 1.0616 - accuracy: 0.6327\n",
            "Epoch 7: val_accuracy improved from 0.60598 to 0.61406, saving model to best_model1.hdf5\n",
            "812/812 [==============================] - 35s 43ms/step - loss: 1.0618 - accuracy: 0.6326 - val_loss: 1.1040 - val_accuracy: 0.6141\n",
            "Epoch 8/70\n",
            "811/812 [============================>.] - ETA: 0s - loss: 1.0319 - accuracy: 0.6443\n",
            "Epoch 8: val_accuracy improved from 0.61406 to 0.62364, saving model to best_model1.hdf5\n",
            "812/812 [==============================] - 35s 43ms/step - loss: 1.0318 - accuracy: 0.6444 - val_loss: 1.0974 - val_accuracy: 0.6236\n",
            "Epoch 9/70\n",
            "811/812 [============================>.] - ETA: 0s - loss: 1.0142 - accuracy: 0.6487\n",
            "Epoch 9: val_accuracy improved from 0.62364 to 0.62653, saving model to best_model1.hdf5\n",
            "812/812 [==============================] - 34s 42ms/step - loss: 1.0142 - accuracy: 0.6487 - val_loss: 1.0798 - val_accuracy: 0.6265\n",
            "Epoch 10/70\n",
            "812/812 [==============================] - ETA: 0s - loss: 0.9917 - accuracy: 0.6553\n",
            "Epoch 10: val_accuracy improved from 0.62653 to 0.62768, saving model to best_model1.hdf5\n",
            "812/812 [==============================] - 35s 44ms/step - loss: 0.9917 - accuracy: 0.6553 - val_loss: 1.0773 - val_accuracy: 0.6277\n",
            "Epoch 11/70\n",
            "812/812 [==============================] - ETA: 0s - loss: 0.9817 - accuracy: 0.6610\n",
            "Epoch 11: val_accuracy improved from 0.62768 to 0.63149, saving model to best_model1.hdf5\n",
            "812/812 [==============================] - 35s 43ms/step - loss: 0.9817 - accuracy: 0.6610 - val_loss: 1.0626 - val_accuracy: 0.6315\n",
            "Epoch 12/70\n",
            "812/812 [==============================] - ETA: 0s - loss: 0.9653 - accuracy: 0.6659\n",
            "Epoch 12: val_accuracy improved from 0.63149 to 0.63299, saving model to best_model1.hdf5\n",
            "812/812 [==============================] - 34s 42ms/step - loss: 0.9653 - accuracy: 0.6659 - val_loss: 1.0583 - val_accuracy: 0.6330\n",
            "Epoch 13/70\n",
            "812/812 [==============================] - ETA: 0s - loss: 0.9577 - accuracy: 0.6686\n",
            "Epoch 13: val_accuracy improved from 0.63299 to 0.63600, saving model to best_model1.hdf5\n",
            "812/812 [==============================] - 35s 44ms/step - loss: 0.9577 - accuracy: 0.6686 - val_loss: 1.0594 - val_accuracy: 0.6360\n",
            "Epoch 14/70\n",
            "812/812 [==============================] - ETA: 0s - loss: 0.9450 - accuracy: 0.6736\n",
            "Epoch 14: val_accuracy did not improve from 0.63600\n",
            "812/812 [==============================] - 36s 45ms/step - loss: 0.9450 - accuracy: 0.6736 - val_loss: 1.0597 - val_accuracy: 0.6351\n",
            "Epoch 15/70\n",
            "811/812 [============================>.] - ETA: 0s - loss: 0.9361 - accuracy: 0.6761\n",
            "Epoch 15: val_accuracy improved from 0.63600 to 0.64027, saving model to best_model1.hdf5\n",
            "812/812 [==============================] - 35s 43ms/step - loss: 0.9362 - accuracy: 0.6761 - val_loss: 1.0570 - val_accuracy: 0.6403\n",
            "Epoch 16/70\n",
            "812/812 [==============================] - ETA: 0s - loss: 0.9340 - accuracy: 0.6775\n",
            "Epoch 16: val_accuracy did not improve from 0.64027\n",
            "812/812 [==============================] - 35s 43ms/step - loss: 0.9340 - accuracy: 0.6775 - val_loss: 1.0557 - val_accuracy: 0.6380\n",
            "Epoch 17/70\n",
            "811/812 [============================>.] - ETA: 0s - loss: 0.9251 - accuracy: 0.6776\n",
            "Epoch 17: val_accuracy improved from 0.64027 to 0.64108, saving model to best_model1.hdf5\n",
            "812/812 [==============================] - 36s 44ms/step - loss: 0.9252 - accuracy: 0.6776 - val_loss: 1.0432 - val_accuracy: 0.6411\n",
            "Epoch 18/70\n",
            "812/812 [==============================] - ETA: 0s - loss: 0.9143 - accuracy: 0.6836\n",
            "Epoch 18: val_accuracy improved from 0.64108 to 0.64165, saving model to best_model1.hdf5\n",
            "812/812 [==============================] - 36s 44ms/step - loss: 0.9143 - accuracy: 0.6836 - val_loss: 1.0516 - val_accuracy: 0.6417\n",
            "Epoch 19/70\n",
            "811/812 [============================>.] - ETA: 0s - loss: 0.9123 - accuracy: 0.6834\n",
            "Epoch 19: val_accuracy did not improve from 0.64165\n",
            "812/812 [==============================] - 35s 43ms/step - loss: 0.9121 - accuracy: 0.6834 - val_loss: 1.0464 - val_accuracy: 0.6363\n",
            "Epoch 20/70\n",
            "812/812 [==============================] - ETA: 0s - loss: 0.9074 - accuracy: 0.6865\n",
            "Epoch 20: val_accuracy improved from 0.64165 to 0.64200, saving model to best_model1.hdf5\n",
            "812/812 [==============================] - 35s 43ms/step - loss: 0.9074 - accuracy: 0.6865 - val_loss: 1.0543 - val_accuracy: 0.6420\n",
            "Epoch 21/70\n",
            "812/812 [==============================] - ETA: 0s - loss: 0.9045 - accuracy: 0.6873\n",
            "Epoch 21: val_accuracy did not improve from 0.64200\n",
            "812/812 [==============================] - 36s 44ms/step - loss: 0.9045 - accuracy: 0.6873 - val_loss: 1.0557 - val_accuracy: 0.6375\n",
            "Epoch 22/70\n",
            "811/812 [============================>.] - ETA: 0s - loss: 0.8994 - accuracy: 0.6908\n",
            "Epoch 22: val_accuracy did not improve from 0.64200\n",
            "812/812 [==============================] - 36s 44ms/step - loss: 0.8994 - accuracy: 0.6907 - val_loss: 1.0482 - val_accuracy: 0.6406\n",
            "Epoch 23/70\n",
            "812/812 [==============================] - ETA: 0s - loss: 0.8963 - accuracy: 0.6905\n",
            "Epoch 23: val_accuracy improved from 0.64200 to 0.64211, saving model to best_model1.hdf5\n",
            "812/812 [==============================] - 37s 45ms/step - loss: 0.8963 - accuracy: 0.6905 - val_loss: 1.0405 - val_accuracy: 0.6421\n",
            "Epoch 24/70\n",
            "812/812 [==============================] - ETA: 0s - loss: 0.8929 - accuracy: 0.6939\n",
            "Epoch 24: val_accuracy did not improve from 0.64211\n",
            "812/812 [==============================] - 34s 42ms/step - loss: 0.8929 - accuracy: 0.6939 - val_loss: 1.0397 - val_accuracy: 0.6404\n",
            "Epoch 25/70\n",
            "812/812 [==============================] - ETA: 0s - loss: 0.8906 - accuracy: 0.6917\n",
            "Epoch 25: val_accuracy did not improve from 0.64211\n",
            "812/812 [==============================] - 36s 44ms/step - loss: 0.8906 - accuracy: 0.6917 - val_loss: 1.0431 - val_accuracy: 0.6404\n",
            "Epoch 26/70\n",
            "812/812 [==============================] - ETA: 0s - loss: 0.8873 - accuracy: 0.6948\n",
            "Epoch 26: val_accuracy did not improve from 0.64211\n",
            "812/812 [==============================] - 35s 43ms/step - loss: 0.8873 - accuracy: 0.6948 - val_loss: 1.0335 - val_accuracy: 0.6403\n",
            "Epoch 27/70\n",
            "812/812 [==============================] - ETA: 0s - loss: 0.8806 - accuracy: 0.6986\n",
            "Epoch 27: val_accuracy improved from 0.64211 to 0.64350, saving model to best_model1.hdf5\n",
            "812/812 [==============================] - 35s 43ms/step - loss: 0.8806 - accuracy: 0.6986 - val_loss: 1.0332 - val_accuracy: 0.6435\n",
            "Epoch 28/70\n",
            "812/812 [==============================] - ETA: 0s - loss: 0.8812 - accuracy: 0.6964\n",
            "Epoch 28: val_accuracy improved from 0.64350 to 0.64454, saving model to best_model1.hdf5\n",
            "812/812 [==============================] - 35s 44ms/step - loss: 0.8812 - accuracy: 0.6964 - val_loss: 1.0349 - val_accuracy: 0.6445\n",
            "Epoch 29/70\n",
            "812/812 [==============================] - ETA: 0s - loss: 0.8729 - accuracy: 0.6992\n",
            "Epoch 29: val_accuracy did not improve from 0.64454\n",
            "812/812 [==============================] - 35s 44ms/step - loss: 0.8729 - accuracy: 0.6992 - val_loss: 1.0455 - val_accuracy: 0.6420\n",
            "Epoch 30/70\n",
            "812/812 [==============================] - ETA: 0s - loss: 0.8794 - accuracy: 0.6999\n",
            "Epoch 30: val_accuracy did not improve from 0.64454\n",
            "812/812 [==============================] - 35s 43ms/step - loss: 0.8794 - accuracy: 0.6999 - val_loss: 1.0342 - val_accuracy: 0.6445\n",
            "Epoch 31/70\n",
            "811/812 [============================>.] - ETA: 0s - loss: 0.8664 - accuracy: 0.7016\n",
            "Epoch 31: val_accuracy improved from 0.64454 to 0.64489, saving model to best_model1.hdf5\n",
            "812/812 [==============================] - 35s 43ms/step - loss: 0.8666 - accuracy: 0.7015 - val_loss: 1.0450 - val_accuracy: 0.6449\n",
            "Epoch 32/70\n",
            "811/812 [============================>.] - ETA: 0s - loss: 0.8705 - accuracy: 0.7014\n",
            "Epoch 32: val_accuracy did not improve from 0.64489\n",
            "812/812 [==============================] - 38s 46ms/step - loss: 0.8705 - accuracy: 0.7014 - val_loss: 1.0444 - val_accuracy: 0.6430\n",
            "Epoch 33/70\n",
            "812/812 [==============================] - ETA: 0s - loss: 0.8664 - accuracy: 0.7023\n",
            "Epoch 33: val_accuracy did not improve from 0.64489\n",
            "812/812 [==============================] - 36s 44ms/step - loss: 0.8664 - accuracy: 0.7023 - val_loss: 1.0385 - val_accuracy: 0.6442\n",
            "Epoch 34/70\n",
            "812/812 [==============================] - ETA: 0s - loss: 0.8635 - accuracy: 0.7022\n",
            "Epoch 34: val_accuracy did not improve from 0.64489\n",
            "812/812 [==============================] - 35s 44ms/step - loss: 0.8635 - accuracy: 0.7022 - val_loss: 1.0362 - val_accuracy: 0.6447\n",
            "Epoch 35/70\n",
            "812/812 [==============================] - ETA: 0s - loss: 0.8617 - accuracy: 0.7027\n",
            "Epoch 35: val_accuracy did not improve from 0.64489\n",
            "812/812 [==============================] - 35s 43ms/step - loss: 0.8617 - accuracy: 0.7027 - val_loss: 1.0345 - val_accuracy: 0.6428\n",
            "Epoch 36/70\n",
            "812/812 [==============================] - ETA: 0s - loss: 0.8601 - accuracy: 0.7016\n",
            "Epoch 36: val_accuracy did not improve from 0.64489\n",
            "812/812 [==============================] - 36s 44ms/step - loss: 0.8601 - accuracy: 0.7016 - val_loss: 1.0391 - val_accuracy: 0.6444\n",
            "Epoch 37/70\n",
            "811/812 [============================>.] - ETA: 0s - loss: 0.8558 - accuracy: 0.7043\n",
            "Epoch 37: val_accuracy did not improve from 0.64489\n",
            "812/812 [==============================] - 36s 44ms/step - loss: 0.8556 - accuracy: 0.7044 - val_loss: 1.0391 - val_accuracy: 0.6449\n",
            "Epoch 38/70\n",
            "812/812 [==============================] - ETA: 0s - loss: 0.8557 - accuracy: 0.7066\n",
            "Epoch 38: val_accuracy did not improve from 0.64489\n",
            "812/812 [==============================] - 36s 44ms/step - loss: 0.8557 - accuracy: 0.7066 - val_loss: 1.0431 - val_accuracy: 0.6443\n",
            "Epoch 39/70\n",
            "812/812 [==============================] - ETA: 0s - loss: 0.8543 - accuracy: 0.7054\n",
            "Epoch 39: val_accuracy did not improve from 0.64489\n",
            "812/812 [==============================] - 35s 43ms/step - loss: 0.8543 - accuracy: 0.7054 - val_loss: 1.0437 - val_accuracy: 0.6435\n",
            "Epoch 40/70\n",
            "812/812 [==============================] - ETA: 0s - loss: 0.8561 - accuracy: 0.7057\n",
            "Epoch 40: val_accuracy did not improve from 0.64489\n",
            "812/812 [==============================] - 36s 44ms/step - loss: 0.8561 - accuracy: 0.7057 - val_loss: 1.0416 - val_accuracy: 0.6443\n",
            "Epoch 41/70\n",
            "812/812 [==============================] - ETA: 0s - loss: 0.8489 - accuracy: 0.7079\n",
            "Epoch 41: val_accuracy improved from 0.64489 to 0.64604, saving model to best_model1.hdf5\n",
            "812/812 [==============================] - 37s 45ms/step - loss: 0.8489 - accuracy: 0.7079 - val_loss: 1.0482 - val_accuracy: 0.6460\n",
            "Epoch 42/70\n",
            "811/812 [============================>.] - ETA: 0s - loss: 0.8498 - accuracy: 0.7071\n",
            "Epoch 42: val_accuracy did not improve from 0.64604\n",
            "812/812 [==============================] - 38s 47ms/step - loss: 0.8494 - accuracy: 0.7071 - val_loss: 1.0418 - val_accuracy: 0.6438\n",
            "Epoch 43/70\n",
            "812/812 [==============================] - ETA: 0s - loss: 0.8510 - accuracy: 0.7069\n",
            "Epoch 43: val_accuracy did not improve from 0.64604\n",
            "812/812 [==============================] - 37s 45ms/step - loss: 0.8510 - accuracy: 0.7069 - val_loss: 1.0330 - val_accuracy: 0.6434\n",
            "Epoch 44/70\n",
            "812/812 [==============================] - ETA: 0s - loss: 0.8488 - accuracy: 0.7091\n",
            "Epoch 44: val_accuracy did not improve from 0.64604\n",
            "812/812 [==============================] - 35s 44ms/step - loss: 0.8488 - accuracy: 0.7091 - val_loss: 1.0496 - val_accuracy: 0.6436\n",
            "Epoch 45/70\n",
            "812/812 [==============================] - ETA: 0s - loss: 0.8436 - accuracy: 0.7102\n",
            "Epoch 45: val_accuracy did not improve from 0.64604\n",
            "812/812 [==============================] - 36s 44ms/step - loss: 0.8436 - accuracy: 0.7102 - val_loss: 1.0482 - val_accuracy: 0.6430\n",
            "Epoch 46/70\n",
            "812/812 [==============================] - ETA: 0s - loss: 0.8471 - accuracy: 0.7082\n",
            "Epoch 46: val_accuracy did not improve from 0.64604\n",
            "812/812 [==============================] - 36s 45ms/step - loss: 0.8471 - accuracy: 0.7082 - val_loss: 1.0449 - val_accuracy: 0.6450\n",
            "Epoch 47/70\n",
            "812/812 [==============================] - ETA: 0s - loss: 0.8488 - accuracy: 0.7076\n",
            "Epoch 47: val_accuracy did not improve from 0.64604\n",
            "812/812 [==============================] - 37s 45ms/step - loss: 0.8488 - accuracy: 0.7076 - val_loss: 1.0471 - val_accuracy: 0.6455\n",
            "Epoch 48/70\n",
            "812/812 [==============================] - ETA: 0s - loss: 0.8428 - accuracy: 0.7091\n",
            "Epoch 48: val_accuracy did not improve from 0.64604\n",
            "812/812 [==============================] - 36s 45ms/step - loss: 0.8428 - accuracy: 0.7091 - val_loss: 1.0425 - val_accuracy: 0.6436\n",
            "Epoch 49/70\n",
            "811/812 [============================>.] - ETA: 0s - loss: 0.8414 - accuracy: 0.7119\n",
            "Epoch 49: val_accuracy did not improve from 0.64604\n",
            "812/812 [==============================] - 35s 44ms/step - loss: 0.8418 - accuracy: 0.7118 - val_loss: 1.0412 - val_accuracy: 0.6428\n",
            "Epoch 50/70\n",
            "812/812 [==============================] - ETA: 0s - loss: 0.8447 - accuracy: 0.7093\n",
            "Epoch 50: val_accuracy did not improve from 0.64604\n",
            "812/812 [==============================] - 36s 44ms/step - loss: 0.8447 - accuracy: 0.7093 - val_loss: 1.0462 - val_accuracy: 0.6447\n",
            "Epoch 51/70\n",
            "812/812 [==============================] - ETA: 0s - loss: 0.8410 - accuracy: 0.7094\n",
            "Epoch 51: val_accuracy did not improve from 0.64604\n",
            "812/812 [==============================] - 38s 47ms/step - loss: 0.8410 - accuracy: 0.7094 - val_loss: 1.0406 - val_accuracy: 0.6438\n",
            "Epoch 52/70\n",
            "812/812 [==============================] - ETA: 0s - loss: 0.8413 - accuracy: 0.7124\n",
            "Epoch 52: val_accuracy did not improve from 0.64604\n",
            "812/812 [==============================] - 36s 45ms/step - loss: 0.8413 - accuracy: 0.7124 - val_loss: 1.0370 - val_accuracy: 0.6441\n",
            "Epoch 53/70\n",
            "812/812 [==============================] - ETA: 0s - loss: 0.8395 - accuracy: 0.7079\n",
            "Epoch 53: val_accuracy did not improve from 0.64604\n",
            "812/812 [==============================] - 36s 44ms/step - loss: 0.8395 - accuracy: 0.7079 - val_loss: 1.0427 - val_accuracy: 0.6448\n",
            "Epoch 54/70\n",
            "812/812 [==============================] - ETA: 0s - loss: 0.8402 - accuracy: 0.7119\n",
            "Epoch 54: val_accuracy did not improve from 0.64604\n",
            "812/812 [==============================] - 36s 45ms/step - loss: 0.8402 - accuracy: 0.7119 - val_loss: 1.0460 - val_accuracy: 0.6432\n",
            "Epoch 55/70\n",
            "812/812 [==============================] - ETA: 0s - loss: 0.8349 - accuracy: 0.7103\n",
            "Epoch 55: val_accuracy did not improve from 0.64604\n",
            "812/812 [==============================] - 35s 43ms/step - loss: 0.8349 - accuracy: 0.7103 - val_loss: 1.0471 - val_accuracy: 0.6443\n",
            "Epoch 56/70\n",
            "811/812 [============================>.] - ETA: 0s - loss: 0.8386 - accuracy: 0.7092\n",
            "Epoch 56: val_accuracy improved from 0.64604 to 0.64639, saving model to best_model1.hdf5\n",
            "812/812 [==============================] - 37s 46ms/step - loss: 0.8390 - accuracy: 0.7091 - val_loss: 1.0494 - val_accuracy: 0.6464\n",
            "Epoch 57/70\n",
            "812/812 [==============================] - ETA: 0s - loss: 0.8414 - accuracy: 0.7136\n",
            "Epoch 57: val_accuracy did not improve from 0.64639\n",
            "812/812 [==============================] - 36s 45ms/step - loss: 0.8414 - accuracy: 0.7136 - val_loss: 1.0392 - val_accuracy: 0.6450\n",
            "Epoch 58/70\n",
            "812/812 [==============================] - ETA: 0s - loss: 0.8359 - accuracy: 0.7103\n",
            "Epoch 58: val_accuracy did not improve from 0.64639\n",
            "812/812 [==============================] - 37s 45ms/step - loss: 0.8359 - accuracy: 0.7103 - val_loss: 1.0507 - val_accuracy: 0.6462\n",
            "Epoch 59/70\n",
            "811/812 [============================>.] - ETA: 0s - loss: 0.8293 - accuracy: 0.7127\n",
            "Epoch 59: val_accuracy did not improve from 0.64639\n",
            "812/812 [==============================] - 36s 44ms/step - loss: 0.8292 - accuracy: 0.7128 - val_loss: 1.0489 - val_accuracy: 0.6451\n",
            "Epoch 60/70\n",
            "812/812 [==============================] - ETA: 0s - loss: 0.8375 - accuracy: 0.7126\n",
            "Epoch 60: val_accuracy improved from 0.64639 to 0.64743, saving model to best_model1.hdf5\n",
            "812/812 [==============================] - 35s 43ms/step - loss: 0.8375 - accuracy: 0.7126 - val_loss: 1.0397 - val_accuracy: 0.6474\n",
            "Epoch 61/70\n",
            "812/812 [==============================] - ETA: 0s - loss: 0.8336 - accuracy: 0.7122\n",
            "Epoch 61: val_accuracy did not improve from 0.64743\n",
            "812/812 [==============================] - 38s 47ms/step - loss: 0.8336 - accuracy: 0.7122 - val_loss: 1.0497 - val_accuracy: 0.6437\n",
            "Epoch 62/70\n",
            "812/812 [==============================] - ETA: 0s - loss: 0.8265 - accuracy: 0.7127\n",
            "Epoch 62: val_accuracy did not improve from 0.64743\n",
            "812/812 [==============================] - 37s 45ms/step - loss: 0.8265 - accuracy: 0.7127 - val_loss: 1.0450 - val_accuracy: 0.6451\n",
            "Epoch 63/70\n",
            "811/812 [============================>.] - ETA: 0s - loss: 0.8281 - accuracy: 0.7144\n",
            "Epoch 63: val_accuracy did not improve from 0.64743\n",
            "812/812 [==============================] - 36s 45ms/step - loss: 0.8278 - accuracy: 0.7146 - val_loss: 1.0458 - val_accuracy: 0.6428\n",
            "Epoch 64/70\n",
            "812/812 [==============================] - ETA: 0s - loss: 0.8238 - accuracy: 0.7174\n",
            "Epoch 64: val_accuracy improved from 0.64743 to 0.64835, saving model to best_model1.hdf5\n",
            "812/812 [==============================] - 36s 44ms/step - loss: 0.8238 - accuracy: 0.7174 - val_loss: 1.0545 - val_accuracy: 0.6483\n",
            "Epoch 65/70\n",
            "811/812 [============================>.] - ETA: 0s - loss: 0.8277 - accuracy: 0.7146\n",
            "Epoch 65: val_accuracy did not improve from 0.64835\n",
            "812/812 [==============================] - 35s 43ms/step - loss: 0.8276 - accuracy: 0.7147 - val_loss: 1.0426 - val_accuracy: 0.6478\n",
            "Epoch 66/70\n",
            "811/812 [============================>.] - ETA: 0s - loss: 0.8245 - accuracy: 0.7177\n",
            "Epoch 66: val_accuracy did not improve from 0.64835\n",
            "812/812 [==============================] - 40s 49ms/step - loss: 0.8247 - accuracy: 0.7176 - val_loss: 1.0502 - val_accuracy: 0.6462\n",
            "Epoch 67/70\n",
            "812/812 [==============================] - ETA: 0s - loss: 0.8266 - accuracy: 0.7184\n",
            "Epoch 67: val_accuracy did not improve from 0.64835\n",
            "812/812 [==============================] - 36s 44ms/step - loss: 0.8266 - accuracy: 0.7184 - val_loss: 1.0462 - val_accuracy: 0.6414\n",
            "Epoch 68/70\n",
            "812/812 [==============================] - ETA: 0s - loss: 0.8281 - accuracy: 0.7120\n",
            "Epoch 68: val_accuracy did not improve from 0.64835\n",
            "812/812 [==============================] - 36s 45ms/step - loss: 0.8281 - accuracy: 0.7120 - val_loss: 1.0453 - val_accuracy: 0.6478\n",
            "Epoch 69/70\n",
            "812/812 [==============================] - ETA: 0s - loss: 0.8250 - accuracy: 0.7141\n",
            "Epoch 69: val_accuracy did not improve from 0.64835\n",
            "812/812 [==============================] - 36s 45ms/step - loss: 0.8250 - accuracy: 0.7141 - val_loss: 1.0403 - val_accuracy: 0.6449\n",
            "Epoch 70/70\n",
            "811/812 [============================>.] - ETA: 0s - loss: 0.8269 - accuracy: 0.7156\n",
            "Epoch 70: val_accuracy did not improve from 0.64835\n",
            "812/812 [==============================] - 38s 46ms/step - loss: 0.8266 - accuracy: 0.7156 - val_loss: 1.0464 - val_accuracy: 0.6470\n"
          ]
        }
      ],
      "source": [
        "model1 = Sequential()\n",
        "model1.add(layers.Embedding(max_words, 20))\n",
        "model1.add(layers.LSTM(15,dropout=0.5))\n",
        "model1.add(layers.Dense(7,activation='softmax'))\n",
        "\n",
        "\n",
        "model1.compile(optimizer='rmsprop',loss='categorical_crossentropy', metrics=['accuracy'])\n",
        "# Implementing model checkpoins to save the best metric and do not lose it on training\n",
        "checkpoint1 = ModelCheckpoint(\"best_model1.hdf5\", monitor='val_accuracy', verbose=1,save_best_only=True, mode='auto', period=1,save_weights_only=False)\n",
        "history = model1.fit(X_train, y_train, epochs=70,validation_data=(X_test, y_test),callbacks=[checkpoint1])"
      ]
    },
    {
      "cell_type": "markdown",
      "metadata": {
        "papermill": {
          "duration": 3.837682,
          "end_time": "2020-10-06T21:30:10.817414",
          "exception": false,
          "start_time": "2020-10-06T21:30:06.979732",
          "status": "completed"
        },
        "tags": [],
        "id": "NhIJzTSa66vk"
      },
      "source": [
        "## **2. Bidirectional LTSM model**"
      ]
    },
    {
      "cell_type": "code",
      "execution_count": 30,
      "metadata": {
        "execution": {
          "iopub.execute_input": "2020-10-06T21:30:18.875895Z",
          "iopub.status.busy": "2020-10-06T21:30:18.874621Z",
          "iopub.status.idle": "2020-10-06T21:49:59.410271Z",
          "shell.execute_reply": "2020-10-06T21:49:59.411560Z"
        },
        "papermill": {
          "duration": 1184.636954,
          "end_time": "2020-10-06T21:49:59.411827",
          "exception": false,
          "start_time": "2020-10-06T21:30:14.774873",
          "status": "completed"
        },
        "tags": [],
        "colab": {
          "base_uri": "https://localhost:8080/"
        },
        "id": "2Y5LBBOD66vl",
        "outputId": "7bb2a399-6877-40c0-b3ca-f173c7d4a4c9"
      },
      "outputs": [
        {
          "output_type": "stream",
          "name": "stderr",
          "text": [
            "WARNING:tensorflow:`period` argument is deprecated. Please use `save_freq` to specify the frequency in number of batches seen.\n"
          ]
        },
        {
          "output_type": "stream",
          "name": "stdout",
          "text": [
            "Epoch 1/70\n",
            "812/812 [==============================] - ETA: 0s - loss: 1.5965 - accuracy: 0.3773\n",
            "Epoch 1: val_accuracy improved from -inf to 0.44955, saving model to best_model2.hdf5\n",
            "812/812 [==============================] - 67s 78ms/step - loss: 1.5965 - accuracy: 0.3773 - val_loss: 1.4331 - val_accuracy: 0.4495\n",
            "Epoch 2/70\n",
            "812/812 [==============================] - ETA: 0s - loss: 1.3599 - accuracy: 0.4973\n",
            "Epoch 2: val_accuracy improved from 0.44955 to 0.52979, saving model to best_model2.hdf5\n",
            "812/812 [==============================] - 64s 79ms/step - loss: 1.3599 - accuracy: 0.4973 - val_loss: 1.2882 - val_accuracy: 0.5298\n",
            "Epoch 3/70\n",
            "812/812 [==============================] - ETA: 0s - loss: 1.2239 - accuracy: 0.5615\n",
            "Epoch 3: val_accuracy improved from 0.52979 to 0.57516, saving model to best_model2.hdf5\n",
            "812/812 [==============================] - 66s 82ms/step - loss: 1.2239 - accuracy: 0.5615 - val_loss: 1.1951 - val_accuracy: 0.5752\n",
            "Epoch 4/70\n",
            "812/812 [==============================] - ETA: 0s - loss: 1.1348 - accuracy: 0.6039\n",
            "Epoch 4: val_accuracy improved from 0.57516 to 0.60229, saving model to best_model2.hdf5\n",
            "812/812 [==============================] - 65s 81ms/step - loss: 1.1348 - accuracy: 0.6039 - val_loss: 1.1383 - val_accuracy: 0.6023\n",
            "Epoch 5/70\n",
            "812/812 [==============================] - ETA: 0s - loss: 1.0831 - accuracy: 0.6263\n",
            "Epoch 5: val_accuracy improved from 0.60229 to 0.61683, saving model to best_model2.hdf5\n",
            "812/812 [==============================] - 65s 80ms/step - loss: 1.0831 - accuracy: 0.6263 - val_loss: 1.1050 - val_accuracy: 0.6168\n",
            "Epoch 6/70\n",
            "812/812 [==============================] - ETA: 0s - loss: 1.0494 - accuracy: 0.6362\n",
            "Epoch 6: val_accuracy improved from 0.61683 to 0.62399, saving model to best_model2.hdf5\n",
            "812/812 [==============================] - 65s 80ms/step - loss: 1.0494 - accuracy: 0.6362 - val_loss: 1.0887 - val_accuracy: 0.6240\n",
            "Epoch 7/70\n",
            "812/812 [==============================] - ETA: 0s - loss: 1.0241 - accuracy: 0.6458\n",
            "Epoch 7: val_accuracy improved from 0.62399 to 0.62768, saving model to best_model2.hdf5\n",
            "812/812 [==============================] - 64s 79ms/step - loss: 1.0241 - accuracy: 0.6458 - val_loss: 1.0763 - val_accuracy: 0.6277\n",
            "Epoch 8/70\n",
            "812/812 [==============================] - ETA: 0s - loss: 0.9963 - accuracy: 0.6543\n",
            "Epoch 8: val_accuracy improved from 0.62768 to 0.63276, saving model to best_model2.hdf5\n",
            "812/812 [==============================] - 64s 79ms/step - loss: 0.9963 - accuracy: 0.6543 - val_loss: 1.0674 - val_accuracy: 0.6328\n",
            "Epoch 9/70\n",
            "812/812 [==============================] - ETA: 0s - loss: 0.9778 - accuracy: 0.6621\n",
            "Epoch 9: val_accuracy did not improve from 0.63276\n",
            "812/812 [==============================] - 65s 80ms/step - loss: 0.9778 - accuracy: 0.6621 - val_loss: 1.0771 - val_accuracy: 0.6275\n",
            "Epoch 10/70\n",
            "812/812 [==============================] - ETA: 0s - loss: 0.9653 - accuracy: 0.6641\n",
            "Epoch 10: val_accuracy improved from 0.63276 to 0.63323, saving model to best_model2.hdf5\n",
            "812/812 [==============================] - 64s 79ms/step - loss: 0.9653 - accuracy: 0.6641 - val_loss: 1.0624 - val_accuracy: 0.6332\n",
            "Epoch 11/70\n",
            "812/812 [==============================] - ETA: 0s - loss: 0.9551 - accuracy: 0.6666\n",
            "Epoch 11: val_accuracy improved from 0.63323 to 0.63738, saving model to best_model2.hdf5\n",
            "812/812 [==============================] - 65s 79ms/step - loss: 0.9551 - accuracy: 0.6666 - val_loss: 1.0445 - val_accuracy: 0.6374\n",
            "Epoch 12/70\n",
            "812/812 [==============================] - ETA: 0s - loss: 0.9398 - accuracy: 0.6751\n",
            "Epoch 12: val_accuracy improved from 0.63738 to 0.64096, saving model to best_model2.hdf5\n",
            "812/812 [==============================] - 65s 80ms/step - loss: 0.9398 - accuracy: 0.6751 - val_loss: 1.0448 - val_accuracy: 0.6410\n",
            "Epoch 13/70\n",
            "812/812 [==============================] - ETA: 0s - loss: 0.9298 - accuracy: 0.6771\n",
            "Epoch 13: val_accuracy did not improve from 0.64096\n",
            "812/812 [==============================] - 64s 79ms/step - loss: 0.9298 - accuracy: 0.6771 - val_loss: 1.0399 - val_accuracy: 0.6402\n",
            "Epoch 14/70\n",
            "812/812 [==============================] - ETA: 0s - loss: 0.9199 - accuracy: 0.6801\n",
            "Epoch 14: val_accuracy did not improve from 0.64096\n",
            "812/812 [==============================] - 66s 81ms/step - loss: 0.9199 - accuracy: 0.6801 - val_loss: 1.0364 - val_accuracy: 0.6410\n",
            "Epoch 15/70\n",
            "812/812 [==============================] - ETA: 0s - loss: 0.9089 - accuracy: 0.6878\n",
            "Epoch 15: val_accuracy did not improve from 0.64096\n",
            "812/812 [==============================] - 65s 80ms/step - loss: 0.9089 - accuracy: 0.6878 - val_loss: 1.0583 - val_accuracy: 0.6410\n",
            "Epoch 16/70\n",
            "812/812 [==============================] - ETA: 0s - loss: 0.9003 - accuracy: 0.6902\n",
            "Epoch 16: val_accuracy did not improve from 0.64096\n",
            "812/812 [==============================] - 65s 80ms/step - loss: 0.9003 - accuracy: 0.6902 - val_loss: 1.0374 - val_accuracy: 0.6404\n",
            "Epoch 17/70\n",
            "812/812 [==============================] - ETA: 0s - loss: 0.8958 - accuracy: 0.6897\n",
            "Epoch 17: val_accuracy improved from 0.64096 to 0.64223, saving model to best_model2.hdf5\n",
            "812/812 [==============================] - 66s 81ms/step - loss: 0.8958 - accuracy: 0.6897 - val_loss: 1.0462 - val_accuracy: 0.6422\n",
            "Epoch 18/70\n",
            "812/812 [==============================] - ETA: 0s - loss: 0.8867 - accuracy: 0.6955\n",
            "Epoch 18: val_accuracy improved from 0.64223 to 0.64304, saving model to best_model2.hdf5\n",
            "812/812 [==============================] - 65s 80ms/step - loss: 0.8867 - accuracy: 0.6955 - val_loss: 1.0477 - val_accuracy: 0.6430\n",
            "Epoch 19/70\n",
            "812/812 [==============================] - ETA: 0s - loss: 0.8821 - accuracy: 0.6954\n",
            "Epoch 19: val_accuracy improved from 0.64304 to 0.64558, saving model to best_model2.hdf5\n",
            "812/812 [==============================] - 67s 82ms/step - loss: 0.8821 - accuracy: 0.6954 - val_loss: 1.0465 - val_accuracy: 0.6456\n",
            "Epoch 20/70\n",
            "812/812 [==============================] - ETA: 0s - loss: 0.8704 - accuracy: 0.7029\n",
            "Epoch 20: val_accuracy improved from 0.64558 to 0.64604, saving model to best_model2.hdf5\n",
            "812/812 [==============================] - 65s 80ms/step - loss: 0.8704 - accuracy: 0.7029 - val_loss: 1.0385 - val_accuracy: 0.6460\n",
            "Epoch 21/70\n",
            "812/812 [==============================] - ETA: 0s - loss: 0.8686 - accuracy: 0.7000\n",
            "Epoch 21: val_accuracy did not improve from 0.64604\n",
            "812/812 [==============================] - 65s 80ms/step - loss: 0.8686 - accuracy: 0.7000 - val_loss: 1.0447 - val_accuracy: 0.6440\n",
            "Epoch 22/70\n",
            "812/812 [==============================] - ETA: 0s - loss: 0.8687 - accuracy: 0.7007\n",
            "Epoch 22: val_accuracy improved from 0.64604 to 0.64650, saving model to best_model2.hdf5\n",
            "812/812 [==============================] - 65s 80ms/step - loss: 0.8687 - accuracy: 0.7007 - val_loss: 1.0449 - val_accuracy: 0.6465\n",
            "Epoch 23/70\n",
            "812/812 [==============================] - ETA: 0s - loss: 0.8589 - accuracy: 0.7034\n",
            "Epoch 23: val_accuracy improved from 0.64650 to 0.64696, saving model to best_model2.hdf5\n",
            "812/812 [==============================] - 65s 80ms/step - loss: 0.8589 - accuracy: 0.7034 - val_loss: 1.0362 - val_accuracy: 0.6470\n",
            "Epoch 24/70\n",
            "812/812 [==============================] - ETA: 0s - loss: 0.8558 - accuracy: 0.7053\n",
            "Epoch 24: val_accuracy improved from 0.64696 to 0.64835, saving model to best_model2.hdf5\n",
            "812/812 [==============================] - 65s 81ms/step - loss: 0.8558 - accuracy: 0.7053 - val_loss: 1.0415 - val_accuracy: 0.6483\n",
            "Epoch 25/70\n",
            "812/812 [==============================] - ETA: 0s - loss: 0.8547 - accuracy: 0.7045\n",
            "Epoch 25: val_accuracy did not improve from 0.64835\n",
            "812/812 [==============================] - 66s 82ms/step - loss: 0.8547 - accuracy: 0.7045 - val_loss: 1.0610 - val_accuracy: 0.6438\n",
            "Epoch 26/70\n",
            "812/812 [==============================] - ETA: 0s - loss: 0.8493 - accuracy: 0.7075\n",
            "Epoch 26: val_accuracy did not improve from 0.64835\n",
            "812/812 [==============================] - 64s 79ms/step - loss: 0.8493 - accuracy: 0.7075 - val_loss: 1.0419 - val_accuracy: 0.6480\n",
            "Epoch 27/70\n",
            "812/812 [==============================] - ETA: 0s - loss: 0.8423 - accuracy: 0.7103\n",
            "Epoch 27: val_accuracy did not improve from 0.64835\n",
            "812/812 [==============================] - 65s 80ms/step - loss: 0.8423 - accuracy: 0.7103 - val_loss: 1.0426 - val_accuracy: 0.6471\n",
            "Epoch 28/70\n",
            "812/812 [==============================] - ETA: 0s - loss: 0.8368 - accuracy: 0.7126\n",
            "Epoch 28: val_accuracy improved from 0.64835 to 0.64904, saving model to best_model2.hdf5\n",
            "812/812 [==============================] - 65s 81ms/step - loss: 0.8368 - accuracy: 0.7126 - val_loss: 1.0441 - val_accuracy: 0.6490\n",
            "Epoch 29/70\n",
            "812/812 [==============================] - ETA: 0s - loss: 0.8374 - accuracy: 0.7137\n",
            "Epoch 29: val_accuracy did not improve from 0.64904\n",
            "812/812 [==============================] - 65s 80ms/step - loss: 0.8374 - accuracy: 0.7137 - val_loss: 1.0462 - val_accuracy: 0.6479\n",
            "Epoch 30/70\n",
            "812/812 [==============================] - ETA: 0s - loss: 0.8381 - accuracy: 0.7123\n",
            "Epoch 30: val_accuracy did not improve from 0.64904\n",
            "812/812 [==============================] - 68s 84ms/step - loss: 0.8381 - accuracy: 0.7123 - val_loss: 1.0422 - val_accuracy: 0.6464\n",
            "Epoch 31/70\n",
            "812/812 [==============================] - ETA: 0s - loss: 0.8343 - accuracy: 0.7138\n",
            "Epoch 31: val_accuracy did not improve from 0.64904\n",
            "812/812 [==============================] - 65s 80ms/step - loss: 0.8343 - accuracy: 0.7138 - val_loss: 1.0412 - val_accuracy: 0.6465\n",
            "Epoch 32/70\n",
            "812/812 [==============================] - ETA: 0s - loss: 0.8249 - accuracy: 0.7155\n",
            "Epoch 32: val_accuracy did not improve from 0.64904\n",
            "812/812 [==============================] - 65s 80ms/step - loss: 0.8249 - accuracy: 0.7155 - val_loss: 1.0533 - val_accuracy: 0.6471\n",
            "Epoch 33/70\n",
            "812/812 [==============================] - ETA: 0s - loss: 0.8280 - accuracy: 0.7164\n",
            "Epoch 33: val_accuracy did not improve from 0.64904\n",
            "812/812 [==============================] - 66s 81ms/step - loss: 0.8280 - accuracy: 0.7164 - val_loss: 1.0574 - val_accuracy: 0.6483\n",
            "Epoch 34/70\n",
            "812/812 [==============================] - ETA: 0s - loss: 0.8341 - accuracy: 0.7159\n",
            "Epoch 34: val_accuracy did not improve from 0.64904\n",
            "812/812 [==============================] - 65s 81ms/step - loss: 0.8341 - accuracy: 0.7159 - val_loss: 1.0587 - val_accuracy: 0.6471\n",
            "Epoch 35/70\n",
            "812/812 [==============================] - ETA: 0s - loss: 0.8244 - accuracy: 0.7161\n",
            "Epoch 35: val_accuracy improved from 0.64904 to 0.64927, saving model to best_model2.hdf5\n",
            "812/812 [==============================] - 67s 83ms/step - loss: 0.8244 - accuracy: 0.7161 - val_loss: 1.0471 - val_accuracy: 0.6493\n",
            "Epoch 36/70\n",
            "812/812 [==============================] - ETA: 0s - loss: 0.8180 - accuracy: 0.7183\n",
            "Epoch 36: val_accuracy did not improve from 0.64927\n",
            "812/812 [==============================] - 66s 81ms/step - loss: 0.8180 - accuracy: 0.7183 - val_loss: 1.0507 - val_accuracy: 0.6485\n",
            "Epoch 37/70\n",
            "812/812 [==============================] - ETA: 0s - loss: 0.8187 - accuracy: 0.7183\n",
            "Epoch 37: val_accuracy improved from 0.64927 to 0.64962, saving model to best_model2.hdf5\n",
            "812/812 [==============================] - 66s 81ms/step - loss: 0.8187 - accuracy: 0.7183 - val_loss: 1.0505 - val_accuracy: 0.6496\n",
            "Epoch 38/70\n",
            "812/812 [==============================] - ETA: 0s - loss: 0.8215 - accuracy: 0.7174\n",
            "Epoch 38: val_accuracy did not improve from 0.64962\n",
            "812/812 [==============================] - 66s 82ms/step - loss: 0.8215 - accuracy: 0.7174 - val_loss: 1.0425 - val_accuracy: 0.6479\n",
            "Epoch 39/70\n",
            "812/812 [==============================] - ETA: 0s - loss: 0.8149 - accuracy: 0.7214\n",
            "Epoch 39: val_accuracy improved from 0.64962 to 0.65043, saving model to best_model2.hdf5\n",
            "812/812 [==============================] - 67s 82ms/step - loss: 0.8149 - accuracy: 0.7214 - val_loss: 1.0758 - val_accuracy: 0.6504\n",
            "Epoch 40/70\n",
            "812/812 [==============================] - ETA: 0s - loss: 0.8131 - accuracy: 0.7213\n",
            "Epoch 40: val_accuracy did not improve from 0.65043\n",
            "812/812 [==============================] - 67s 83ms/step - loss: 0.8131 - accuracy: 0.7213 - val_loss: 1.0607 - val_accuracy: 0.6487\n",
            "Epoch 41/70\n",
            "812/812 [==============================] - ETA: 0s - loss: 0.8151 - accuracy: 0.7192\n",
            "Epoch 41: val_accuracy did not improve from 0.65043\n",
            "812/812 [==============================] - 66s 81ms/step - loss: 0.8151 - accuracy: 0.7192 - val_loss: 1.0524 - val_accuracy: 0.6504\n",
            "Epoch 42/70\n",
            "812/812 [==============================] - ETA: 0s - loss: 0.8167 - accuracy: 0.7206\n",
            "Epoch 42: val_accuracy did not improve from 0.65043\n",
            "812/812 [==============================] - 66s 81ms/step - loss: 0.8167 - accuracy: 0.7206 - val_loss: 1.0649 - val_accuracy: 0.6492\n",
            "Epoch 43/70\n",
            "812/812 [==============================] - ETA: 0s - loss: 0.8099 - accuracy: 0.7216\n",
            "Epoch 43: val_accuracy did not improve from 0.65043\n",
            "812/812 [==============================] - 65s 81ms/step - loss: 0.8099 - accuracy: 0.7216 - val_loss: 1.0601 - val_accuracy: 0.6490\n",
            "Epoch 44/70\n",
            "812/812 [==============================] - ETA: 0s - loss: 0.8127 - accuracy: 0.7199\n",
            "Epoch 44: val_accuracy did not improve from 0.65043\n",
            "812/812 [==============================] - 66s 81ms/step - loss: 0.8127 - accuracy: 0.7199 - val_loss: 1.0606 - val_accuracy: 0.6464\n",
            "Epoch 45/70\n",
            "812/812 [==============================] - ETA: 0s - loss: 0.8101 - accuracy: 0.7205\n",
            "Epoch 45: val_accuracy did not improve from 0.65043\n",
            "812/812 [==============================] - 68s 84ms/step - loss: 0.8101 - accuracy: 0.7205 - val_loss: 1.0794 - val_accuracy: 0.6490\n",
            "Epoch 46/70\n",
            "812/812 [==============================] - ETA: 0s - loss: 0.8112 - accuracy: 0.7233\n",
            "Epoch 46: val_accuracy did not improve from 0.65043\n",
            "812/812 [==============================] - 66s 81ms/step - loss: 0.8112 - accuracy: 0.7233 - val_loss: 1.0711 - val_accuracy: 0.6498\n",
            "Epoch 47/70\n",
            "812/812 [==============================] - ETA: 0s - loss: 0.8057 - accuracy: 0.7234\n",
            "Epoch 47: val_accuracy did not improve from 0.65043\n",
            "812/812 [==============================] - 66s 82ms/step - loss: 0.8057 - accuracy: 0.7234 - val_loss: 1.0557 - val_accuracy: 0.6504\n",
            "Epoch 48/70\n",
            "812/812 [==============================] - ETA: 0s - loss: 0.8055 - accuracy: 0.7239\n",
            "Epoch 48: val_accuracy did not improve from 0.65043\n",
            "812/812 [==============================] - 65s 80ms/step - loss: 0.8055 - accuracy: 0.7239 - val_loss: 1.0801 - val_accuracy: 0.6473\n",
            "Epoch 49/70\n",
            "812/812 [==============================] - ETA: 0s - loss: 0.8016 - accuracy: 0.7248\n",
            "Epoch 49: val_accuracy did not improve from 0.65043\n",
            "812/812 [==============================] - 65s 80ms/step - loss: 0.8016 - accuracy: 0.7248 - val_loss: 1.0595 - val_accuracy: 0.6472\n",
            "Epoch 50/70\n",
            "812/812 [==============================] - ETA: 0s - loss: 0.8017 - accuracy: 0.7261\n",
            "Epoch 50: val_accuracy did not improve from 0.65043\n",
            "812/812 [==============================] - 67s 82ms/step - loss: 0.8017 - accuracy: 0.7261 - val_loss: 1.0570 - val_accuracy: 0.6489\n",
            "Epoch 51/70\n",
            "812/812 [==============================] - ETA: 0s - loss: 0.8047 - accuracy: 0.7221\n",
            "Epoch 51: val_accuracy did not improve from 0.65043\n",
            "812/812 [==============================] - 66s 81ms/step - loss: 0.8047 - accuracy: 0.7221 - val_loss: 1.0619 - val_accuracy: 0.6494\n",
            "Epoch 52/70\n",
            "812/812 [==============================] - ETA: 0s - loss: 0.8029 - accuracy: 0.7251\n",
            "Epoch 52: val_accuracy improved from 0.65043 to 0.65170, saving model to best_model2.hdf5\n",
            "812/812 [==============================] - 67s 82ms/step - loss: 0.8029 - accuracy: 0.7251 - val_loss: 1.0624 - val_accuracy: 0.6517\n",
            "Epoch 53/70\n",
            "812/812 [==============================] - ETA: 0s - loss: 0.8026 - accuracy: 0.7243\n",
            "Epoch 53: val_accuracy improved from 0.65170 to 0.65274, saving model to best_model2.hdf5\n",
            "812/812 [==============================] - 65s 80ms/step - loss: 0.8026 - accuracy: 0.7243 - val_loss: 1.0597 - val_accuracy: 0.6527\n",
            "Epoch 54/70\n",
            "812/812 [==============================] - ETA: 0s - loss: 0.7991 - accuracy: 0.7261\n",
            "Epoch 54: val_accuracy did not improve from 0.65274\n",
            "812/812 [==============================] - 65s 80ms/step - loss: 0.7991 - accuracy: 0.7261 - val_loss: 1.0651 - val_accuracy: 0.6504\n",
            "Epoch 55/70\n",
            "812/812 [==============================] - ETA: 0s - loss: 0.7968 - accuracy: 0.7261\n",
            "Epoch 55: val_accuracy did not improve from 0.65274\n",
            "812/812 [==============================] - 67s 82ms/step - loss: 0.7968 - accuracy: 0.7261 - val_loss: 1.0714 - val_accuracy: 0.6493\n",
            "Epoch 56/70\n",
            "812/812 [==============================] - ETA: 0s - loss: 0.7921 - accuracy: 0.7289\n",
            "Epoch 56: val_accuracy did not improve from 0.65274\n",
            "812/812 [==============================] - 67s 82ms/step - loss: 0.7921 - accuracy: 0.7289 - val_loss: 1.0694 - val_accuracy: 0.6501\n",
            "Epoch 57/70\n",
            "812/812 [==============================] - ETA: 0s - loss: 0.7989 - accuracy: 0.7277\n",
            "Epoch 57: val_accuracy did not improve from 0.65274\n",
            "812/812 [==============================] - 66s 82ms/step - loss: 0.7989 - accuracy: 0.7277 - val_loss: 1.0647 - val_accuracy: 0.6501\n",
            "Epoch 58/70\n",
            "812/812 [==============================] - ETA: 0s - loss: 0.7942 - accuracy: 0.7259\n",
            "Epoch 58: val_accuracy did not improve from 0.65274\n",
            "812/812 [==============================] - 66s 81ms/step - loss: 0.7942 - accuracy: 0.7259 - val_loss: 1.0612 - val_accuracy: 0.6508\n",
            "Epoch 59/70\n",
            "812/812 [==============================] - ETA: 0s - loss: 0.7957 - accuracy: 0.7254\n",
            "Epoch 59: val_accuracy did not improve from 0.65274\n",
            "812/812 [==============================] - 68s 84ms/step - loss: 0.7957 - accuracy: 0.7254 - val_loss: 1.0530 - val_accuracy: 0.6507\n",
            "Epoch 60/70\n",
            "812/812 [==============================] - ETA: 0s - loss: 0.7970 - accuracy: 0.7258\n",
            "Epoch 60: val_accuracy did not improve from 0.65274\n",
            "812/812 [==============================] - 68s 83ms/step - loss: 0.7970 - accuracy: 0.7258 - val_loss: 1.0661 - val_accuracy: 0.6483\n",
            "Epoch 61/70\n",
            "812/812 [==============================] - ETA: 0s - loss: 0.7951 - accuracy: 0.7252\n",
            "Epoch 61: val_accuracy did not improve from 0.65274\n",
            "812/812 [==============================] - 68s 84ms/step - loss: 0.7951 - accuracy: 0.7252 - val_loss: 1.0575 - val_accuracy: 0.6505\n",
            "Epoch 62/70\n",
            "812/812 [==============================] - ETA: 0s - loss: 0.7878 - accuracy: 0.7331\n",
            "Epoch 62: val_accuracy did not improve from 0.65274\n",
            "812/812 [==============================] - 67s 82ms/step - loss: 0.7878 - accuracy: 0.7331 - val_loss: 1.0813 - val_accuracy: 0.6520\n",
            "Epoch 63/70\n",
            "812/812 [==============================] - ETA: 0s - loss: 0.7921 - accuracy: 0.7287\n",
            "Epoch 63: val_accuracy did not improve from 0.65274\n",
            "812/812 [==============================] - 66s 81ms/step - loss: 0.7921 - accuracy: 0.7287 - val_loss: 1.0632 - val_accuracy: 0.6522\n",
            "Epoch 64/70\n",
            "812/812 [==============================] - ETA: 0s - loss: 0.7885 - accuracy: 0.7318\n",
            "Epoch 64: val_accuracy did not improve from 0.65274\n",
            "812/812 [==============================] - 66s 82ms/step - loss: 0.7885 - accuracy: 0.7318 - val_loss: 1.0636 - val_accuracy: 0.6504\n",
            "Epoch 65/70\n",
            "812/812 [==============================] - ETA: 0s - loss: 0.7862 - accuracy: 0.7292\n",
            "Epoch 65: val_accuracy improved from 0.65274 to 0.65285, saving model to best_model2.hdf5\n",
            "812/812 [==============================] - 68s 83ms/step - loss: 0.7862 - accuracy: 0.7292 - val_loss: 1.0532 - val_accuracy: 0.6529\n",
            "Epoch 66/70\n",
            "812/812 [==============================] - ETA: 0s - loss: 0.7873 - accuracy: 0.7292\n",
            "Epoch 66: val_accuracy did not improve from 0.65285\n",
            "812/812 [==============================] - 66s 81ms/step - loss: 0.7873 - accuracy: 0.7292 - val_loss: 1.0721 - val_accuracy: 0.6514\n",
            "Epoch 67/70\n",
            "812/812 [==============================] - ETA: 0s - loss: 0.7858 - accuracy: 0.7267\n",
            "Epoch 67: val_accuracy did not improve from 0.65285\n",
            "812/812 [==============================] - 66s 81ms/step - loss: 0.7858 - accuracy: 0.7267 - val_loss: 1.0691 - val_accuracy: 0.6494\n",
            "Epoch 68/70\n",
            "812/812 [==============================] - ETA: 0s - loss: 0.7829 - accuracy: 0.7300\n",
            "Epoch 68: val_accuracy did not improve from 0.65285\n",
            "812/812 [==============================] - 66s 81ms/step - loss: 0.7829 - accuracy: 0.7300 - val_loss: 1.0685 - val_accuracy: 0.6519\n",
            "Epoch 69/70\n",
            "812/812 [==============================] - ETA: 0s - loss: 0.7814 - accuracy: 0.7335\n",
            "Epoch 69: val_accuracy improved from 0.65285 to 0.65297, saving model to best_model2.hdf5\n",
            "812/812 [==============================] - 67s 82ms/step - loss: 0.7814 - accuracy: 0.7335 - val_loss: 1.0596 - val_accuracy: 0.6530\n",
            "Epoch 70/70\n",
            "812/812 [==============================] - ETA: 0s - loss: 0.7832 - accuracy: 0.7302\n",
            "Epoch 70: val_accuracy did not improve from 0.65297\n",
            "812/812 [==============================] - 66s 81ms/step - loss: 0.7832 - accuracy: 0.7302 - val_loss: 1.0613 - val_accuracy: 0.6519\n"
          ]
        }
      ],
      "source": [
        "model2 = Sequential()\n",
        "model2.add(layers.Embedding(max_words, 40, input_length=max_len))\n",
        "model2.add(layers.Bidirectional(layers.LSTM(20,dropout=0.6)))\n",
        "model2.add(layers.Dense(7,activation='softmax'))\n",
        "\n",
        "\n",
        "model2.compile(optimizer='rmsprop',loss='categorical_crossentropy', metrics=['accuracy'])\n",
        "# Implementing model checkpoins to save the best metric and do not lose it on training\n",
        "checkpoint2 = ModelCheckpoint(\"best_model2.hdf5\", monitor='val_accuracy', verbose=1,save_best_only=True, mode='auto', period=1,save_weights_only=False)\n",
        "history = model2.fit(X_train, y_train, epochs=70,validation_data=(X_test, y_test),callbacks=[checkpoint2])"
      ]
    },
    {
      "cell_type": "markdown",
      "metadata": {
        "papermill": {
          "duration": 11.452373,
          "end_time": "2020-10-06T21:50:21.772094",
          "exception": false,
          "start_time": "2020-10-06T21:50:10.319721",
          "status": "completed"
        },
        "tags": [],
        "id": "FZhyHbKx66vl"
      },
      "source": [
        "## **3. 1D Convolutional model**"
      ]
    },
    {
      "cell_type": "code",
      "execution_count": 31,
      "metadata": {
        "execution": {
          "iopub.execute_input": "2020-10-06T21:50:43.900261Z",
          "iopub.status.busy": "2020-10-06T21:50:43.899061Z",
          "iopub.status.idle": "2020-10-06T21:56:48.149729Z",
          "shell.execute_reply": "2020-10-06T21:56:48.149055Z"
        },
        "papermill": {
          "duration": 375.351238,
          "end_time": "2020-10-06T21:56:48.149913",
          "exception": false,
          "start_time": "2020-10-06T21:50:32.798675",
          "status": "completed"
        },
        "tags": [],
        "colab": {
          "base_uri": "https://localhost:8080/"
        },
        "id": "pkAcHnyG66vl",
        "outputId": "68d5edaa-9496-4b3f-d7df-39daf54a6cd0"
      },
      "outputs": [
        {
          "output_type": "stream",
          "name": "stderr",
          "text": [
            "WARNING:tensorflow:`period` argument is deprecated. Please use `save_freq` to specify the frequency in number of batches seen.\n"
          ]
        },
        {
          "output_type": "stream",
          "name": "stdout",
          "text": [
            "Epoch 1/70\n",
            "809/812 [============================>.] - ETA: 0s - loss: 1.8394 - acc: 0.3154"
          ]
        },
        {
          "output_type": "stream",
          "name": "stderr",
          "text": [
            "WARNING:tensorflow:Can save best model only with val_accuracy available, skipping.\n"
          ]
        },
        {
          "output_type": "stream",
          "name": "stdout",
          "text": [
            "\b\b\b\b\b\b\b\b\b\b\b\b\b\b\b\b\b\b\b\b\b\b\b\b\b\b\b\b\b\b\b\b\b\b\b\b\b\b\b\b\b\b\b\b\b\b\b\b\b\b\b\b\b\b\b\b\b\b\b\b\b\b\b\b\b\b\b\b\b\b\b\b\b\b\b\b\b\b\b\r812/812 [==============================] - 25s 25ms/step - loss: 1.8390 - acc: 0.3154 - val_loss: 1.7214 - val_acc: 0.3265\n",
            "Epoch 2/70\n",
            "811/812 [============================>.] - ETA: 0s - loss: 1.7012 - acc: 0.3365"
          ]
        },
        {
          "output_type": "stream",
          "name": "stderr",
          "text": [
            "WARNING:tensorflow:Can save best model only with val_accuracy available, skipping.\n"
          ]
        },
        {
          "output_type": "stream",
          "name": "stdout",
          "text": [
            "\b\b\b\b\b\b\b\b\b\b\b\b\b\b\b\b\b\b\b\b\b\b\b\b\b\b\b\b\b\b\b\b\b\b\b\b\b\b\b\b\b\b\b\b\b\b\b\b\b\b\b\b\b\b\b\b\b\b\b\b\b\b\b\b\b\b\b\b\b\b\b\b\b\b\b\b\b\b\b\r812/812 [==============================] - 11s 14ms/step - loss: 1.7011 - acc: 0.3366 - val_loss: 1.6847 - val_acc: 0.3497\n",
            "Epoch 3/70\n",
            "811/812 [============================>.] - ETA: 0s - loss: 1.6705 - acc: 0.3680"
          ]
        },
        {
          "output_type": "stream",
          "name": "stderr",
          "text": [
            "WARNING:tensorflow:Can save best model only with val_accuracy available, skipping.\n"
          ]
        },
        {
          "output_type": "stream",
          "name": "stdout",
          "text": [
            "\b\b\b\b\b\b\b\b\b\b\b\b\b\b\b\b\b\b\b\b\b\b\b\b\b\b\b\b\b\b\b\b\b\b\b\b\b\b\b\b\b\b\b\b\b\b\b\b\b\b\b\b\b\b\b\b\b\b\b\b\b\b\b\b\b\b\b\b\b\b\b\b\b\b\b\b\b\b\b\r812/812 [==============================] - 10s 13ms/step - loss: 1.6706 - acc: 0.3680 - val_loss: 1.6613 - val_acc: 0.3844\n",
            "Epoch 4/70\n",
            "808/812 [============================>.] - ETA: 0s - loss: 1.6363 - acc: 0.3910"
          ]
        },
        {
          "output_type": "stream",
          "name": "stderr",
          "text": [
            "WARNING:tensorflow:Can save best model only with val_accuracy available, skipping.\n"
          ]
        },
        {
          "output_type": "stream",
          "name": "stdout",
          "text": [
            "\b\b\b\b\b\b\b\b\b\b\b\b\b\b\b\b\b\b\b\b\b\b\b\b\b\b\b\b\b\b\b\b\b\b\b\b\b\b\b\b\b\b\b\b\b\b\b\b\b\b\b\b\b\b\b\b\b\b\b\b\b\b\b\b\b\b\b\b\b\b\b\b\b\b\b\b\b\b\b\r812/812 [==============================] - 11s 13ms/step - loss: 1.6360 - acc: 0.3912 - val_loss: 1.6371 - val_acc: 0.3915\n",
            "Epoch 5/70\n",
            "811/812 [============================>.] - ETA: 0s - loss: 1.5994 - acc: 0.4074"
          ]
        },
        {
          "output_type": "stream",
          "name": "stderr",
          "text": [
            "WARNING:tensorflow:Can save best model only with val_accuracy available, skipping.\n"
          ]
        },
        {
          "output_type": "stream",
          "name": "stdout",
          "text": [
            "\b\b\b\b\b\b\b\b\b\b\b\b\b\b\b\b\b\b\b\b\b\b\b\b\b\b\b\b\b\b\b\b\b\b\b\b\b\b\b\b\b\b\b\b\b\b\b\b\b\b\b\b\b\b\b\b\b\b\b\b\b\b\b\b\b\b\b\b\b\b\b\b\b\b\b\b\b\b\b\r812/812 [==============================] - 11s 13ms/step - loss: 1.5992 - acc: 0.4076 - val_loss: 1.6278 - val_acc: 0.3730\n",
            "Epoch 6/70\n",
            "811/812 [============================>.] - ETA: 0s - loss: 1.5682 - acc: 0.4234"
          ]
        },
        {
          "output_type": "stream",
          "name": "stderr",
          "text": [
            "WARNING:tensorflow:Can save best model only with val_accuracy available, skipping.\n"
          ]
        },
        {
          "output_type": "stream",
          "name": "stdout",
          "text": [
            "\b\b\b\b\b\b\b\b\b\b\b\b\b\b\b\b\b\b\b\b\b\b\b\b\b\b\b\b\b\b\b\b\b\b\b\b\b\b\b\b\b\b\b\b\b\b\b\b\b\b\b\b\b\b\b\b\b\b\b\b\b\b\b\b\b\b\b\b\b\b\b\b\b\b\b\b\b\b\b\r812/812 [==============================] - 11s 13ms/step - loss: 1.5684 - acc: 0.4233 - val_loss: 1.6087 - val_acc: 0.4061\n",
            "Epoch 7/70\n",
            "812/812 [==============================] - ETA: 0s - loss: 1.5408 - acc: 0.4392"
          ]
        },
        {
          "output_type": "stream",
          "name": "stderr",
          "text": [
            "WARNING:tensorflow:Can save best model only with val_accuracy available, skipping.\n"
          ]
        },
        {
          "output_type": "stream",
          "name": "stdout",
          "text": [
            "\b\b\b\b\b\b\b\b\b\b\b\b\b\b\b\b\b\b\b\b\b\b\b\b\b\b\b\b\b\b\b\b\b\b\b\b\b\b\b\b\b\b\b\b\b\b\b\b\b\b\b\b\b\b\b\b\b\b\b\b\b\b\b\b\b\b\b\b\b\b\b\b\b\b\b\b\b\b\b\r812/812 [==============================] - 11s 13ms/step - loss: 1.5408 - acc: 0.4392 - val_loss: 1.5957 - val_acc: 0.4177\n",
            "Epoch 8/70\n",
            "811/812 [============================>.] - ETA: 0s - loss: 1.5146 - acc: 0.4511"
          ]
        },
        {
          "output_type": "stream",
          "name": "stderr",
          "text": [
            "WARNING:tensorflow:Can save best model only with val_accuracy available, skipping.\n"
          ]
        },
        {
          "output_type": "stream",
          "name": "stdout",
          "text": [
            "\b\b\b\b\b\b\b\b\b\b\b\b\b\b\b\b\b\b\b\b\b\b\b\b\b\b\b\b\b\b\b\b\b\b\b\b\b\b\b\b\b\b\b\b\b\b\b\b\b\b\b\b\b\b\b\b\b\b\b\b\b\b\b\b\b\b\b\b\b\b\b\b\b\b\b\b\b\b\b\r812/812 [==============================] - 12s 15ms/step - loss: 1.5144 - acc: 0.4512 - val_loss: 1.5881 - val_acc: 0.4205\n",
            "Epoch 9/70\n",
            "812/812 [==============================] - ETA: 0s - loss: 1.4942 - acc: 0.4604"
          ]
        },
        {
          "output_type": "stream",
          "name": "stderr",
          "text": [
            "WARNING:tensorflow:Can save best model only with val_accuracy available, skipping.\n"
          ]
        },
        {
          "output_type": "stream",
          "name": "stdout",
          "text": [
            "\b\b\b\b\b\b\b\b\b\b\b\b\b\b\b\b\b\b\b\b\b\b\b\b\b\b\b\b\b\b\b\b\b\b\b\b\b\b\b\b\b\b\b\b\b\b\b\b\b\b\b\b\b\b\b\b\b\b\b\b\b\b\b\b\b\b\b\b\b\b\b\b\b\b\b\b\b\b\b\r812/812 [==============================] - 11s 14ms/step - loss: 1.4942 - acc: 0.4604 - val_loss: 1.5959 - val_acc: 0.4199\n",
            "Epoch 10/70\n",
            "808/812 [============================>.] - ETA: 0s - loss: 1.4776 - acc: 0.4672"
          ]
        },
        {
          "output_type": "stream",
          "name": "stderr",
          "text": [
            "WARNING:tensorflow:Can save best model only with val_accuracy available, skipping.\n"
          ]
        },
        {
          "output_type": "stream",
          "name": "stdout",
          "text": [
            "\b\b\b\b\b\b\b\b\b\b\b\b\b\b\b\b\b\b\b\b\b\b\b\b\b\b\b\b\b\b\b\b\b\b\b\b\b\b\b\b\b\b\b\b\b\b\b\b\b\b\b\b\b\b\b\b\b\b\b\b\b\b\b\b\b\b\b\b\b\b\b\b\b\b\b\b\b\b\b\r812/812 [==============================] - 10s 12ms/step - loss: 1.4766 - acc: 0.4677 - val_loss: 1.5840 - val_acc: 0.4266\n",
            "Epoch 11/70\n",
            "811/812 [============================>.] - ETA: 0s - loss: 1.4616 - acc: 0.4764"
          ]
        },
        {
          "output_type": "stream",
          "name": "stderr",
          "text": [
            "WARNING:tensorflow:Can save best model only with val_accuracy available, skipping.\n"
          ]
        },
        {
          "output_type": "stream",
          "name": "stdout",
          "text": [
            "\b\b\b\b\b\b\b\b\b\b\b\b\b\b\b\b\b\b\b\b\b\b\b\b\b\b\b\b\b\b\b\b\b\b\b\b\b\b\b\b\b\b\b\b\b\b\b\b\b\b\b\b\b\b\b\b\b\b\b\b\b\b\b\b\b\b\b\b\b\b\b\b\b\b\b\b\b\b\b\r812/812 [==============================] - 11s 13ms/step - loss: 1.4613 - acc: 0.4766 - val_loss: 1.5936 - val_acc: 0.4250\n",
            "Epoch 12/70\n",
            "811/812 [============================>.] - ETA: 0s - loss: 1.4478 - acc: 0.4821"
          ]
        },
        {
          "output_type": "stream",
          "name": "stderr",
          "text": [
            "WARNING:tensorflow:Can save best model only with val_accuracy available, skipping.\n"
          ]
        },
        {
          "output_type": "stream",
          "name": "stdout",
          "text": [
            "\b\b\b\b\b\b\b\b\b\b\b\b\b\b\b\b\b\b\b\b\b\b\b\b\b\b\b\b\b\b\b\b\b\b\b\b\b\b\b\b\b\b\b\b\b\b\b\b\b\b\b\b\b\b\b\b\b\b\b\b\b\b\b\b\b\b\b\b\b\b\b\b\b\b\b\b\b\b\b\r812/812 [==============================] - 11s 13ms/step - loss: 1.4476 - acc: 0.4822 - val_loss: 1.5868 - val_acc: 0.4272\n",
            "Epoch 13/70\n",
            "812/812 [==============================] - ETA: 0s - loss: 1.4341 - acc: 0.4902"
          ]
        },
        {
          "output_type": "stream",
          "name": "stderr",
          "text": [
            "WARNING:tensorflow:Can save best model only with val_accuracy available, skipping.\n"
          ]
        },
        {
          "output_type": "stream",
          "name": "stdout",
          "text": [
            "\b\b\b\b\b\b\b\b\b\b\b\b\b\b\b\b\b\b\b\b\b\b\b\b\b\b\b\b\b\b\b\b\b\b\b\b\b\b\b\b\b\b\b\b\b\b\b\b\b\b\b\b\b\b\b\b\b\b\b\b\b\b\b\b\b\b\b\b\b\b\b\b\b\b\b\b\b\b\b\r812/812 [==============================] - 11s 13ms/step - loss: 1.4341 - acc: 0.4902 - val_loss: 1.5897 - val_acc: 0.4274\n",
            "Epoch 14/70\n",
            "810/812 [============================>.] - ETA: 0s - loss: 1.4210 - acc: 0.4962"
          ]
        },
        {
          "output_type": "stream",
          "name": "stderr",
          "text": [
            "WARNING:tensorflow:Can save best model only with val_accuracy available, skipping.\n"
          ]
        },
        {
          "output_type": "stream",
          "name": "stdout",
          "text": [
            "\b\b\b\b\b\b\b\b\b\b\b\b\b\b\b\b\b\b\b\b\b\b\b\b\b\b\b\b\b\b\b\b\b\b\b\b\b\b\b\b\b\b\b\b\b\b\b\b\b\b\b\b\b\b\b\b\b\b\b\b\b\b\b\b\b\b\b\b\b\b\b\b\b\b\b\b\b\b\b\r812/812 [==============================] - 11s 13ms/step - loss: 1.4208 - acc: 0.4963 - val_loss: 1.5908 - val_acc: 0.4297\n",
            "Epoch 15/70\n",
            "810/812 [============================>.] - ETA: 0s - loss: 1.4071 - acc: 0.5042"
          ]
        },
        {
          "output_type": "stream",
          "name": "stderr",
          "text": [
            "WARNING:tensorflow:Can save best model only with val_accuracy available, skipping.\n"
          ]
        },
        {
          "output_type": "stream",
          "name": "stdout",
          "text": [
            "\b\b\b\b\b\b\b\b\b\b\b\b\b\b\b\b\b\b\b\b\b\b\b\b\b\b\b\b\b\b\b\b\b\b\b\b\b\b\b\b\b\b\b\b\b\b\b\b\b\b\b\b\b\b\b\b\b\b\b\b\b\b\b\b\b\b\b\b\b\b\b\b\b\b\b\b\b\b\b\r812/812 [==============================] - 11s 13ms/step - loss: 1.4072 - acc: 0.5042 - val_loss: 1.5918 - val_acc: 0.4322\n",
            "Epoch 16/70\n",
            "810/812 [============================>.] - ETA: 0s - loss: 1.3957 - acc: 0.5100"
          ]
        },
        {
          "output_type": "stream",
          "name": "stderr",
          "text": [
            "WARNING:tensorflow:Can save best model only with val_accuracy available, skipping.\n"
          ]
        },
        {
          "output_type": "stream",
          "name": "stdout",
          "text": [
            "\b\b\b\b\b\b\b\b\b\b\b\b\b\b\b\b\b\b\b\b\b\b\b\b\b\b\b\b\b\b\b\b\b\b\b\b\b\b\b\b\b\b\b\b\b\b\b\b\b\b\b\b\b\b\b\b\b\b\b\b\b\b\b\b\b\b\b\b\b\b\b\b\b\b\b\b\b\b\b\r812/812 [==============================] - 12s 15ms/step - loss: 1.3959 - acc: 0.5097 - val_loss: 1.6033 - val_acc: 0.4349\n",
            "Epoch 17/70\n",
            "808/812 [============================>.] - ETA: 0s - loss: 1.3842 - acc: 0.5142"
          ]
        },
        {
          "output_type": "stream",
          "name": "stderr",
          "text": [
            "WARNING:tensorflow:Can save best model only with val_accuracy available, skipping.\n"
          ]
        },
        {
          "output_type": "stream",
          "name": "stdout",
          "text": [
            "\b\b\b\b\b\b\b\b\b\b\b\b\b\b\b\b\b\b\b\b\b\b\b\b\b\b\b\b\b\b\b\b\b\b\b\b\b\b\b\b\b\b\b\b\b\b\b\b\b\b\b\b\b\b\b\b\b\b\b\b\b\b\b\b\b\b\b\b\b\b\b\b\b\b\b\b\b\b\b\r812/812 [==============================] - 10s 13ms/step - loss: 1.3842 - acc: 0.5143 - val_loss: 1.6063 - val_acc: 0.4332\n",
            "Epoch 18/70\n",
            "809/812 [============================>.] - ETA: 0s - loss: 1.3736 - acc: 0.5188"
          ]
        },
        {
          "output_type": "stream",
          "name": "stderr",
          "text": [
            "WARNING:tensorflow:Can save best model only with val_accuracy available, skipping.\n"
          ]
        },
        {
          "output_type": "stream",
          "name": "stdout",
          "text": [
            "\b\b\b\b\b\b\b\b\b\b\b\b\b\b\b\b\b\b\b\b\b\b\b\b\b\b\b\b\b\b\b\b\b\b\b\b\b\b\b\b\b\b\b\b\b\b\b\b\b\b\b\b\b\b\b\b\b\b\b\b\b\b\b\b\b\b\b\b\b\b\b\b\b\b\b\b\b\b\b\r812/812 [==============================] - 11s 14ms/step - loss: 1.3735 - acc: 0.5189 - val_loss: 1.6219 - val_acc: 0.4306\n",
            "Epoch 19/70\n",
            "809/812 [============================>.] - ETA: 0s - loss: 1.3632 - acc: 0.5234"
          ]
        },
        {
          "output_type": "stream",
          "name": "stderr",
          "text": [
            "WARNING:tensorflow:Can save best model only with val_accuracy available, skipping.\n"
          ]
        },
        {
          "output_type": "stream",
          "name": "stdout",
          "text": [
            "\b\b\b\b\b\b\b\b\b\b\b\b\b\b\b\b\b\b\b\b\b\b\b\b\b\b\b\b\b\b\b\b\b\b\b\b\b\b\b\b\b\b\b\b\b\b\b\b\b\b\b\b\b\b\b\b\b\b\b\b\b\b\b\b\b\b\b\b\b\b\b\b\b\b\b\b\b\b\b\r812/812 [==============================] - 12s 14ms/step - loss: 1.3635 - acc: 0.5232 - val_loss: 1.6165 - val_acc: 0.4357\n",
            "Epoch 20/70\n",
            "808/812 [============================>.] - ETA: 0s - loss: 1.3532 - acc: 0.5295"
          ]
        },
        {
          "output_type": "stream",
          "name": "stderr",
          "text": [
            "WARNING:tensorflow:Can save best model only with val_accuracy available, skipping.\n"
          ]
        },
        {
          "output_type": "stream",
          "name": "stdout",
          "text": [
            "\b\b\b\b\b\b\b\b\b\b\b\b\b\b\b\b\b\b\b\b\b\b\b\b\b\b\b\b\b\b\b\b\b\b\b\b\b\b\b\b\b\b\b\b\b\b\b\b\b\b\b\b\b\b\b\b\b\b\b\b\b\b\b\b\b\b\b\b\b\b\b\b\b\b\b\b\b\b\b\r812/812 [==============================] - 11s 14ms/step - loss: 1.3535 - acc: 0.5295 - val_loss: 1.6428 - val_acc: 0.4131\n",
            "Epoch 21/70\n",
            "809/812 [============================>.] - ETA: 0s - loss: 1.3423 - acc: 0.5328"
          ]
        },
        {
          "output_type": "stream",
          "name": "stderr",
          "text": [
            "WARNING:tensorflow:Can save best model only with val_accuracy available, skipping.\n"
          ]
        },
        {
          "output_type": "stream",
          "name": "stdout",
          "text": [
            "\b\b\b\b\b\b\b\b\b\b\b\b\b\b\b\b\b\b\b\b\b\b\b\b\b\b\b\b\b\b\b\b\b\b\b\b\b\b\b\b\b\b\b\b\b\b\b\b\b\b\b\b\b\b\b\b\b\b\b\b\b\b\b\b\b\b\b\b\b\b\b\b\b\b\b\b\b\b\b\r812/812 [==============================] - 11s 14ms/step - loss: 1.3425 - acc: 0.5328 - val_loss: 1.6302 - val_acc: 0.4351\n",
            "Epoch 22/70\n",
            "812/812 [==============================] - ETA: 0s - loss: 1.3337 - acc: 0.5397"
          ]
        },
        {
          "output_type": "stream",
          "name": "stderr",
          "text": [
            "WARNING:tensorflow:Can save best model only with val_accuracy available, skipping.\n"
          ]
        },
        {
          "output_type": "stream",
          "name": "stdout",
          "text": [
            "\b\b\b\b\b\b\b\b\b\b\b\b\b\b\b\b\b\b\b\b\b\b\b\b\b\b\b\b\b\b\b\b\b\b\b\b\b\b\b\b\b\b\b\b\b\b\b\b\b\b\b\b\b\b\b\b\b\b\b\b\b\b\b\b\b\b\b\b\b\b\b\b\b\b\b\b\b\b\b\r812/812 [==============================] - 11s 14ms/step - loss: 1.3337 - acc: 0.5397 - val_loss: 1.6670 - val_acc: 0.4227\n",
            "Epoch 23/70\n",
            "811/812 [============================>.] - ETA: 0s - loss: 1.3242 - acc: 0.5440"
          ]
        },
        {
          "output_type": "stream",
          "name": "stderr",
          "text": [
            "WARNING:tensorflow:Can save best model only with val_accuracy available, skipping.\n"
          ]
        },
        {
          "output_type": "stream",
          "name": "stdout",
          "text": [
            "\b\b\b\b\b\b\b\b\b\b\b\b\b\b\b\b\b\b\b\b\b\b\b\b\b\b\b\b\b\b\b\b\b\b\b\b\b\b\b\b\b\b\b\b\b\b\b\b\b\b\b\b\b\b\b\b\b\b\b\b\b\b\b\b\b\b\b\b\b\b\b\b\b\b\b\b\b\b\b\r812/812 [==============================] - 11s 13ms/step - loss: 1.3244 - acc: 0.5438 - val_loss: 1.6583 - val_acc: 0.4353\n",
            "Epoch 24/70\n",
            "811/812 [============================>.] - ETA: 0s - loss: 1.3147 - acc: 0.5482"
          ]
        },
        {
          "output_type": "stream",
          "name": "stderr",
          "text": [
            "WARNING:tensorflow:Can save best model only with val_accuracy available, skipping.\n"
          ]
        },
        {
          "output_type": "stream",
          "name": "stdout",
          "text": [
            "\b\b\b\b\b\b\b\b\b\b\b\b\b\b\b\b\b\b\b\b\b\b\b\b\b\b\b\b\b\b\b\b\b\b\b\b\b\b\b\b\b\b\b\b\b\b\b\b\b\b\b\b\b\b\b\b\b\b\b\b\b\b\b\b\b\b\b\b\b\b\b\b\b\b\b\b\b\b\b\r812/812 [==============================] - 10s 13ms/step - loss: 1.3148 - acc: 0.5482 - val_loss: 1.6592 - val_acc: 0.4384\n",
            "Epoch 25/70\n",
            "809/812 [============================>.] - ETA: 0s - loss: 1.3069 - acc: 0.5525"
          ]
        },
        {
          "output_type": "stream",
          "name": "stderr",
          "text": [
            "WARNING:tensorflow:Can save best model only with val_accuracy available, skipping.\n"
          ]
        },
        {
          "output_type": "stream",
          "name": "stdout",
          "text": [
            "\b\b\b\b\b\b\b\b\b\b\b\b\b\b\b\b\b\b\b\b\b\b\b\b\b\b\b\b\b\b\b\b\b\b\b\b\b\b\b\b\b\b\b\b\b\b\b\b\b\b\b\b\b\b\b\b\b\b\b\b\b\b\b\b\b\b\b\b\b\b\b\b\b\b\b\b\b\b\b\r812/812 [==============================] - 11s 14ms/step - loss: 1.3069 - acc: 0.5525 - val_loss: 1.6695 - val_acc: 0.4374\n",
            "Epoch 26/70\n",
            "811/812 [============================>.] - ETA: 0s - loss: 1.2995 - acc: 0.5566"
          ]
        },
        {
          "output_type": "stream",
          "name": "stderr",
          "text": [
            "WARNING:tensorflow:Can save best model only with val_accuracy available, skipping.\n"
          ]
        },
        {
          "output_type": "stream",
          "name": "stdout",
          "text": [
            "\b\b\b\b\b\b\b\b\b\b\b\b\b\b\b\b\b\b\b\b\b\b\b\b\b\b\b\b\b\b\b\b\b\b\b\b\b\b\b\b\b\b\b\b\b\b\b\b\b\b\b\b\b\b\b\b\b\b\b\b\b\b\b\b\b\b\b\b\b\b\b\b\b\b\b\b\b\b\b\r812/812 [==============================] - 11s 13ms/step - loss: 1.2995 - acc: 0.5566 - val_loss: 1.6810 - val_acc: 0.4390\n",
            "Epoch 27/70\n",
            "810/812 [============================>.] - ETA: 0s - loss: 1.2912 - acc: 0.5658"
          ]
        },
        {
          "output_type": "stream",
          "name": "stderr",
          "text": [
            "WARNING:tensorflow:Can save best model only with val_accuracy available, skipping.\n"
          ]
        },
        {
          "output_type": "stream",
          "name": "stdout",
          "text": [
            "\b\b\b\b\b\b\b\b\b\b\b\b\b\b\b\b\b\b\b\b\b\b\b\b\b\b\b\b\b\b\b\b\b\b\b\b\b\b\b\b\b\b\b\b\b\b\b\b\b\b\b\b\b\b\b\b\b\b\b\b\b\b\b\b\b\b\b\b\b\b\b\b\b\b\b\b\b\b\b\r812/812 [==============================] - 11s 13ms/step - loss: 1.2914 - acc: 0.5658 - val_loss: 1.6987 - val_acc: 0.4311\n",
            "Epoch 28/70\n",
            "811/812 [============================>.] - ETA: 0s - loss: 1.2865 - acc: 0.5692"
          ]
        },
        {
          "output_type": "stream",
          "name": "stderr",
          "text": [
            "WARNING:tensorflow:Can save best model only with val_accuracy available, skipping.\n"
          ]
        },
        {
          "output_type": "stream",
          "name": "stdout",
          "text": [
            "\b\b\b\b\b\b\b\b\b\b\b\b\b\b\b\b\b\b\b\b\b\b\b\b\b\b\b\b\b\b\b\b\b\b\b\b\b\b\b\b\b\b\b\b\b\b\b\b\b\b\b\b\b\b\b\b\b\b\b\b\b\b\b\b\b\b\b\b\b\b\b\b\b\b\b\b\b\b\b\r812/812 [==============================] - 11s 14ms/step - loss: 1.2863 - acc: 0.5693 - val_loss: 1.6890 - val_acc: 0.4377\n",
            "Epoch 29/70\n",
            "810/812 [============================>.] - ETA: 0s - loss: 1.2779 - acc: 0.5718"
          ]
        },
        {
          "output_type": "stream",
          "name": "stderr",
          "text": [
            "WARNING:tensorflow:Can save best model only with val_accuracy available, skipping.\n"
          ]
        },
        {
          "output_type": "stream",
          "name": "stdout",
          "text": [
            "\b\b\b\b\b\b\b\b\b\b\b\b\b\b\b\b\b\b\b\b\b\b\b\b\b\b\b\b\b\b\b\b\b\b\b\b\b\b\b\b\b\b\b\b\b\b\b\b\b\b\b\b\b\b\b\b\b\b\b\b\b\b\b\b\b\b\b\b\b\b\b\b\b\b\b\b\b\b\b\r812/812 [==============================] - 11s 13ms/step - loss: 1.2777 - acc: 0.5719 - val_loss: 1.6929 - val_acc: 0.4350\n",
            "Epoch 30/70\n",
            "811/812 [============================>.] - ETA: 0s - loss: 1.2717 - acc: 0.5771"
          ]
        },
        {
          "output_type": "stream",
          "name": "stderr",
          "text": [
            "WARNING:tensorflow:Can save best model only with val_accuracy available, skipping.\n"
          ]
        },
        {
          "output_type": "stream",
          "name": "stdout",
          "text": [
            "\b\b\b\b\b\b\b\b\b\b\b\b\b\b\b\b\b\b\b\b\b\b\b\b\b\b\b\b\b\b\b\b\b\b\b\b\b\b\b\b\b\b\b\b\b\b\b\b\b\b\b\b\b\b\b\b\b\b\b\b\b\b\b\b\b\b\b\b\b\b\b\b\b\b\b\b\b\b\b\r812/812 [==============================] - 10s 12ms/step - loss: 1.2718 - acc: 0.5770 - val_loss: 1.7030 - val_acc: 0.4389\n",
            "Epoch 31/70\n",
            "812/812 [==============================] - ETA: 0s - loss: 1.2652 - acc: 0.5804"
          ]
        },
        {
          "output_type": "stream",
          "name": "stderr",
          "text": [
            "WARNING:tensorflow:Can save best model only with val_accuracy available, skipping.\n"
          ]
        },
        {
          "output_type": "stream",
          "name": "stdout",
          "text": [
            "\b\b\b\b\b\b\b\b\b\b\b\b\b\b\b\b\b\b\b\b\b\b\b\b\b\b\b\b\b\b\b\b\b\b\b\b\b\b\b\b\b\b\b\b\b\b\b\b\b\b\b\b\b\b\b\b\b\b\b\b\b\b\b\b\b\b\b\b\b\b\b\b\b\b\b\b\b\b\b\r812/812 [==============================] - 11s 13ms/step - loss: 1.2652 - acc: 0.5804 - val_loss: 1.7515 - val_acc: 0.4278\n",
            "Epoch 32/70\n",
            "811/812 [============================>.] - ETA: 0s - loss: 1.2591 - acc: 0.5853"
          ]
        },
        {
          "output_type": "stream",
          "name": "stderr",
          "text": [
            "WARNING:tensorflow:Can save best model only with val_accuracy available, skipping.\n"
          ]
        },
        {
          "output_type": "stream",
          "name": "stdout",
          "text": [
            "\b\b\b\b\b\b\b\b\b\b\b\b\b\b\b\b\b\b\b\b\b\b\b\b\b\b\b\b\b\b\b\b\b\b\b\b\b\b\b\b\b\b\b\b\b\b\b\b\b\b\b\b\b\b\b\b\b\b\b\b\b\b\b\b\b\b\b\b\b\b\b\b\b\b\b\b\b\b\b\r812/812 [==============================] - 11s 13ms/step - loss: 1.2591 - acc: 0.5853 - val_loss: 1.7167 - val_acc: 0.4351\n",
            "Epoch 33/70\n",
            "809/812 [============================>.] - ETA: 0s - loss: 1.2526 - acc: 0.5883"
          ]
        },
        {
          "output_type": "stream",
          "name": "stderr",
          "text": [
            "WARNING:tensorflow:Can save best model only with val_accuracy available, skipping.\n"
          ]
        },
        {
          "output_type": "stream",
          "name": "stdout",
          "text": [
            "\b\b\b\b\b\b\b\b\b\b\b\b\b\b\b\b\b\b\b\b\b\b\b\b\b\b\b\b\b\b\b\b\b\b\b\b\b\b\b\b\b\b\b\b\b\b\b\b\b\b\b\b\b\b\b\b\b\b\b\b\b\b\b\b\b\b\b\b\b\b\b\b\b\b\b\b\b\b\b\r812/812 [==============================] - 11s 13ms/step - loss: 1.2528 - acc: 0.5885 - val_loss: 1.7277 - val_acc: 0.4318\n",
            "Epoch 34/70\n",
            "808/812 [============================>.] - ETA: 0s - loss: 1.2462 - acc: 0.5931"
          ]
        },
        {
          "output_type": "stream",
          "name": "stderr",
          "text": [
            "WARNING:tensorflow:Can save best model only with val_accuracy available, skipping.\n"
          ]
        },
        {
          "output_type": "stream",
          "name": "stdout",
          "text": [
            "\b\b\b\b\b\b\b\b\b\b\b\b\b\b\b\b\b\b\b\b\b\b\b\b\b\b\b\b\b\b\b\b\b\b\b\b\b\b\b\b\b\b\b\b\b\b\b\b\b\b\b\b\b\b\b\b\b\b\b\b\b\b\b\b\b\b\b\b\b\b\b\b\b\b\b\b\b\b\b\r812/812 [==============================] - 11s 14ms/step - loss: 1.2464 - acc: 0.5929 - val_loss: 1.7406 - val_acc: 0.4366\n",
            "Epoch 35/70\n",
            "809/812 [============================>.] - ETA: 0s - loss: 1.2426 - acc: 0.5939"
          ]
        },
        {
          "output_type": "stream",
          "name": "stderr",
          "text": [
            "WARNING:tensorflow:Can save best model only with val_accuracy available, skipping.\n"
          ]
        },
        {
          "output_type": "stream",
          "name": "stdout",
          "text": [
            "\b\b\b\b\b\b\b\b\b\b\b\b\b\b\b\b\b\b\b\b\b\b\b\b\b\b\b\b\b\b\b\b\b\b\b\b\b\b\b\b\b\b\b\b\b\b\b\b\b\b\b\b\b\b\b\b\b\b\b\b\b\b\b\b\b\b\b\b\b\b\b\b\b\b\b\b\b\b\b\r812/812 [==============================] - 11s 13ms/step - loss: 1.2418 - acc: 0.5944 - val_loss: 1.7501 - val_acc: 0.4387\n",
            "Epoch 36/70\n",
            "810/812 [============================>.] - ETA: 0s - loss: 1.2371 - acc: 0.5981"
          ]
        },
        {
          "output_type": "stream",
          "name": "stderr",
          "text": [
            "WARNING:tensorflow:Can save best model only with val_accuracy available, skipping.\n"
          ]
        },
        {
          "output_type": "stream",
          "name": "stdout",
          "text": [
            "\b\b\b\b\b\b\b\b\b\b\b\b\b\b\b\b\b\b\b\b\b\b\b\b\b\b\b\b\b\b\b\b\b\b\b\b\b\b\b\b\b\b\b\b\b\b\b\b\b\b\b\b\b\b\b\b\b\b\b\b\b\b\b\b\b\b\b\b\b\b\b\b\b\b\b\b\b\b\b\r812/812 [==============================] - 10s 13ms/step - loss: 1.2366 - acc: 0.5984 - val_loss: 1.7555 - val_acc: 0.4370\n",
            "Epoch 37/70\n",
            "809/812 [============================>.] - ETA: 0s - loss: 1.2306 - acc: 0.6026"
          ]
        },
        {
          "output_type": "stream",
          "name": "stderr",
          "text": [
            "WARNING:tensorflow:Can save best model only with val_accuracy available, skipping.\n"
          ]
        },
        {
          "output_type": "stream",
          "name": "stdout",
          "text": [
            "\b\b\b\b\b\b\b\b\b\b\b\b\b\b\b\b\b\b\b\b\b\b\b\b\b\b\b\b\b\b\b\b\b\b\b\b\b\b\b\b\b\b\b\b\b\b\b\b\b\b\b\b\b\b\b\b\b\b\b\b\b\b\b\b\b\b\b\b\b\b\b\b\b\b\b\b\b\b\b\r812/812 [==============================] - 11s 13ms/step - loss: 1.2302 - acc: 0.6027 - val_loss: 1.7765 - val_acc: 0.4305\n",
            "Epoch 38/70\n",
            "808/812 [============================>.] - ETA: 0s - loss: 1.2257 - acc: 0.6026"
          ]
        },
        {
          "output_type": "stream",
          "name": "stderr",
          "text": [
            "WARNING:tensorflow:Can save best model only with val_accuracy available, skipping.\n"
          ]
        },
        {
          "output_type": "stream",
          "name": "stdout",
          "text": [
            "\b\b\b\b\b\b\b\b\b\b\b\b\b\b\b\b\b\b\b\b\b\b\b\b\b\b\b\b\b\b\b\b\b\b\b\b\b\b\b\b\b\b\b\b\b\b\b\b\b\b\b\b\b\b\b\b\b\b\b\b\b\b\b\b\b\b\b\b\b\b\b\b\b\b\b\b\b\b\b\r812/812 [==============================] - 12s 15ms/step - loss: 1.2260 - acc: 0.6026 - val_loss: 1.7831 - val_acc: 0.4291\n",
            "Epoch 39/70\n",
            "811/812 [============================>.] - ETA: 0s - loss: 1.2218 - acc: 0.6055"
          ]
        },
        {
          "output_type": "stream",
          "name": "stderr",
          "text": [
            "WARNING:tensorflow:Can save best model only with val_accuracy available, skipping.\n"
          ]
        },
        {
          "output_type": "stream",
          "name": "stdout",
          "text": [
            "\b\b\b\b\b\b\b\b\b\b\b\b\b\b\b\b\b\b\b\b\b\b\b\b\b\b\b\b\b\b\b\b\b\b\b\b\b\b\b\b\b\b\b\b\b\b\b\b\b\b\b\b\b\b\b\b\b\b\b\b\b\b\b\b\b\b\b\b\b\b\b\b\b\b\b\b\b\b\b\r812/812 [==============================] - 11s 14ms/step - loss: 1.2215 - acc: 0.6055 - val_loss: 1.7969 - val_acc: 0.4289\n",
            "Epoch 40/70\n",
            "812/812 [==============================] - ETA: 0s - loss: 1.2178 - acc: 0.6075"
          ]
        },
        {
          "output_type": "stream",
          "name": "stderr",
          "text": [
            "WARNING:tensorflow:Can save best model only with val_accuracy available, skipping.\n"
          ]
        },
        {
          "output_type": "stream",
          "name": "stdout",
          "text": [
            "\b\b\b\b\b\b\b\b\b\b\b\b\b\b\b\b\b\b\b\b\b\b\b\b\b\b\b\b\b\b\b\b\b\b\b\b\b\b\b\b\b\b\b\b\b\b\b\b\b\b\b\b\b\b\b\b\b\b\b\b\b\b\b\b\b\b\b\b\b\b\b\b\b\b\b\b\b\b\b\r812/812 [==============================] - 11s 14ms/step - loss: 1.2178 - acc: 0.6075 - val_loss: 1.7744 - val_acc: 0.4319\n",
            "Epoch 41/70\n",
            "808/812 [============================>.] - ETA: 0s - loss: 1.2128 - acc: 0.6115"
          ]
        },
        {
          "output_type": "stream",
          "name": "stderr",
          "text": [
            "WARNING:tensorflow:Can save best model only with val_accuracy available, skipping.\n"
          ]
        },
        {
          "output_type": "stream",
          "name": "stdout",
          "text": [
            "\b\b\b\b\b\b\b\b\b\b\b\b\b\b\b\b\b\b\b\b\b\b\b\b\b\b\b\b\b\b\b\b\b\b\b\b\b\b\b\b\b\b\b\b\b\b\b\b\b\b\b\b\b\b\b\b\b\b\b\b\b\b\b\b\b\b\b\b\b\b\b\b\b\b\b\b\b\b\b\r812/812 [==============================] - 11s 14ms/step - loss: 1.2138 - acc: 0.6114 - val_loss: 1.7760 - val_acc: 0.4334\n",
            "Epoch 42/70\n",
            "812/812 [==============================] - ETA: 0s - loss: 1.2089 - acc: 0.6140"
          ]
        },
        {
          "output_type": "stream",
          "name": "stderr",
          "text": [
            "WARNING:tensorflow:Can save best model only with val_accuracy available, skipping.\n"
          ]
        },
        {
          "output_type": "stream",
          "name": "stdout",
          "text": [
            "\b\b\b\b\b\b\b\b\b\b\b\b\b\b\b\b\b\b\b\b\b\b\b\b\b\b\b\b\b\b\b\b\b\b\b\b\b\b\b\b\b\b\b\b\b\b\b\b\b\b\b\b\b\b\b\b\b\b\b\b\b\b\b\b\b\b\b\b\b\b\b\b\b\b\b\b\b\b\b\r812/812 [==============================] - 11s 13ms/step - loss: 1.2089 - acc: 0.6140 - val_loss: 1.7769 - val_acc: 0.4332\n",
            "Epoch 43/70\n",
            "811/812 [============================>.] - ETA: 0s - loss: 1.2051 - acc: 0.6181"
          ]
        },
        {
          "output_type": "stream",
          "name": "stderr",
          "text": [
            "WARNING:tensorflow:Can save best model only with val_accuracy available, skipping.\n"
          ]
        },
        {
          "output_type": "stream",
          "name": "stdout",
          "text": [
            "\b\b\b\b\b\b\b\b\b\b\b\b\b\b\b\b\b\b\b\b\b\b\b\b\b\b\b\b\b\b\b\b\b\b\b\b\b\b\b\b\b\b\b\b\b\b\b\b\b\b\b\b\b\b\b\b\b\b\b\b\b\b\b\b\b\b\b\b\b\b\b\b\b\b\b\b\b\b\b\r812/812 [==============================] - 10s 12ms/step - loss: 1.2050 - acc: 0.6183 - val_loss: 1.8305 - val_acc: 0.4231\n",
            "Epoch 44/70\n",
            "808/812 [============================>.] - ETA: 0s - loss: 1.2006 - acc: 0.6188"
          ]
        },
        {
          "output_type": "stream",
          "name": "stderr",
          "text": [
            "WARNING:tensorflow:Can save best model only with val_accuracy available, skipping.\n"
          ]
        },
        {
          "output_type": "stream",
          "name": "stdout",
          "text": [
            "\b\b\b\b\b\b\b\b\b\b\b\b\b\b\b\b\b\b\b\b\b\b\b\b\b\b\b\b\b\b\b\b\b\b\b\b\b\b\b\b\b\b\b\b\b\b\b\b\b\b\b\b\b\b\b\b\b\b\b\b\b\b\b\b\b\b\b\b\b\b\b\b\b\b\b\b\b\b\b\r812/812 [==============================] - 11s 13ms/step - loss: 1.2003 - acc: 0.6188 - val_loss: 1.7870 - val_acc: 0.4384\n",
            "Epoch 45/70\n",
            "812/812 [==============================] - ETA: 0s - loss: 1.1977 - acc: 0.6184"
          ]
        },
        {
          "output_type": "stream",
          "name": "stderr",
          "text": [
            "WARNING:tensorflow:Can save best model only with val_accuracy available, skipping.\n"
          ]
        },
        {
          "output_type": "stream",
          "name": "stdout",
          "text": [
            "\b\b\b\b\b\b\b\b\b\b\b\b\b\b\b\b\b\b\b\b\b\b\b\b\b\b\b\b\b\b\b\b\b\b\b\b\b\b\b\b\b\b\b\b\b\b\b\b\b\b\b\b\b\b\b\b\b\b\b\b\b\b\b\b\b\b\b\b\b\b\b\b\b\b\b\b\b\b\b\r812/812 [==============================] - 11s 13ms/step - loss: 1.1977 - acc: 0.6184 - val_loss: 1.8205 - val_acc: 0.4349\n",
            "Epoch 46/70\n",
            "811/812 [============================>.] - ETA: 0s - loss: 1.1940 - acc: 0.6228"
          ]
        },
        {
          "output_type": "stream",
          "name": "stderr",
          "text": [
            "WARNING:tensorflow:Can save best model only with val_accuracy available, skipping.\n"
          ]
        },
        {
          "output_type": "stream",
          "name": "stdout",
          "text": [
            "\b\b\b\b\b\b\b\b\b\b\b\b\b\b\b\b\b\b\b\b\b\b\b\b\b\b\b\b\b\b\b\b\b\b\b\b\b\b\b\b\b\b\b\b\b\b\b\b\b\b\b\b\b\b\b\b\b\b\b\b\b\b\b\b\b\b\b\b\b\b\b\b\b\b\b\b\b\b\b\r812/812 [==============================] - 11s 13ms/step - loss: 1.1941 - acc: 0.6228 - val_loss: 1.8343 - val_acc: 0.4337\n",
            "Epoch 47/70\n",
            "811/812 [============================>.] - ETA: 0s - loss: 1.1896 - acc: 0.6244"
          ]
        },
        {
          "output_type": "stream",
          "name": "stderr",
          "text": [
            "WARNING:tensorflow:Can save best model only with val_accuracy available, skipping.\n"
          ]
        },
        {
          "output_type": "stream",
          "name": "stdout",
          "text": [
            "\b\b\b\b\b\b\b\b\b\b\b\b\b\b\b\b\b\b\b\b\b\b\b\b\b\b\b\b\b\b\b\b\b\b\b\b\b\b\b\b\b\b\b\b\b\b\b\b\b\b\b\b\b\b\b\b\b\b\b\b\b\b\b\b\b\b\b\b\b\b\b\b\b\b\b\b\b\b\b\r812/812 [==============================] - 11s 14ms/step - loss: 1.1896 - acc: 0.6244 - val_loss: 1.8420 - val_acc: 0.4350\n",
            "Epoch 48/70\n",
            "812/812 [==============================] - ETA: 0s - loss: 1.1847 - acc: 0.6268"
          ]
        },
        {
          "output_type": "stream",
          "name": "stderr",
          "text": [
            "WARNING:tensorflow:Can save best model only with val_accuracy available, skipping.\n"
          ]
        },
        {
          "output_type": "stream",
          "name": "stdout",
          "text": [
            "\b\b\b\b\b\b\b\b\b\b\b\b\b\b\b\b\b\b\b\b\b\b\b\b\b\b\b\b\b\b\b\b\b\b\b\b\b\b\b\b\b\b\b\b\b\b\b\b\b\b\b\b\b\b\b\b\b\b\b\b\b\b\b\b\b\b\b\b\b\b\b\b\b\b\b\b\b\b\b\r812/812 [==============================] - 11s 13ms/step - loss: 1.1847 - acc: 0.6268 - val_loss: 1.8227 - val_acc: 0.4414\n",
            "Epoch 49/70\n",
            "811/812 [============================>.] - ETA: 0s - loss: 1.1814 - acc: 0.6287"
          ]
        },
        {
          "output_type": "stream",
          "name": "stderr",
          "text": [
            "WARNING:tensorflow:Can save best model only with val_accuracy available, skipping.\n"
          ]
        },
        {
          "output_type": "stream",
          "name": "stdout",
          "text": [
            "\b\b\b\b\b\b\b\b\b\b\b\b\b\b\b\b\b\b\b\b\b\b\b\b\b\b\b\b\b\b\b\b\b\b\b\b\b\b\b\b\b\b\b\b\b\b\b\b\b\b\b\b\b\b\b\b\b\b\b\b\b\b\b\b\b\b\b\b\b\b\b\b\b\b\b\b\b\b\b\r812/812 [==============================] - 10s 13ms/step - loss: 1.1812 - acc: 0.6287 - val_loss: 1.8218 - val_acc: 0.4417\n",
            "Epoch 50/70\n",
            "811/812 [============================>.] - ETA: 0s - loss: 1.1780 - acc: 0.6315"
          ]
        },
        {
          "output_type": "stream",
          "name": "stderr",
          "text": [
            "WARNING:tensorflow:Can save best model only with val_accuracy available, skipping.\n"
          ]
        },
        {
          "output_type": "stream",
          "name": "stdout",
          "text": [
            "\b\b\b\b\b\b\b\b\b\b\b\b\b\b\b\b\b\b\b\b\b\b\b\b\b\b\b\b\b\b\b\b\b\b\b\b\b\b\b\b\b\b\b\b\b\b\b\b\b\b\b\b\b\b\b\b\b\b\b\b\b\b\b\b\b\b\b\b\b\b\b\b\b\b\b\b\b\b\b\r812/812 [==============================] - 11s 13ms/step - loss: 1.1782 - acc: 0.6314 - val_loss: 1.8644 - val_acc: 0.4329\n",
            "Epoch 51/70\n",
            "812/812 [==============================] - ETA: 0s - loss: 1.1746 - acc: 0.6314"
          ]
        },
        {
          "output_type": "stream",
          "name": "stderr",
          "text": [
            "WARNING:tensorflow:Can save best model only with val_accuracy available, skipping.\n"
          ]
        },
        {
          "output_type": "stream",
          "name": "stdout",
          "text": [
            "\b\b\b\b\b\b\b\b\b\b\b\b\b\b\b\b\b\b\b\b\b\b\b\b\b\b\b\b\b\b\b\b\b\b\b\b\b\b\b\b\b\b\b\b\b\b\b\b\b\b\b\b\b\b\b\b\b\b\b\b\b\b\b\b\b\b\b\b\b\b\b\b\b\b\b\b\b\b\b\r812/812 [==============================] - 11s 14ms/step - loss: 1.1746 - acc: 0.6314 - val_loss: 1.8478 - val_acc: 0.4353\n",
            "Epoch 52/70\n",
            "809/812 [============================>.] - ETA: 0s - loss: 1.1727 - acc: 0.6363"
          ]
        },
        {
          "output_type": "stream",
          "name": "stderr",
          "text": [
            "WARNING:tensorflow:Can save best model only with val_accuracy available, skipping.\n"
          ]
        },
        {
          "output_type": "stream",
          "name": "stdout",
          "text": [
            "\b\b\b\b\b\b\b\b\b\b\b\b\b\b\b\b\b\b\b\b\b\b\b\b\b\b\b\b\b\b\b\b\b\b\b\b\b\b\b\b\b\b\b\b\b\b\b\b\b\b\b\b\b\b\b\b\b\b\b\b\b\b\b\b\b\b\b\b\b\b\b\b\b\b\b\b\b\b\b\r812/812 [==============================] - 11s 14ms/step - loss: 1.1723 - acc: 0.6362 - val_loss: 1.8710 - val_acc: 0.4332\n",
            "Epoch 53/70\n",
            "808/812 [============================>.] - ETA: 0s - loss: 1.1682 - acc: 0.6355"
          ]
        },
        {
          "output_type": "stream",
          "name": "stderr",
          "text": [
            "WARNING:tensorflow:Can save best model only with val_accuracy available, skipping.\n"
          ]
        },
        {
          "output_type": "stream",
          "name": "stdout",
          "text": [
            "\b\b\b\b\b\b\b\b\b\b\b\b\b\b\b\b\b\b\b\b\b\b\b\b\b\b\b\b\b\b\b\b\b\b\b\b\b\b\b\b\b\b\b\b\b\b\b\b\b\b\b\b\b\b\b\b\b\b\b\b\b\b\b\b\b\b\b\b\b\b\b\b\b\b\b\b\b\b\b\r812/812 [==============================] - 11s 14ms/step - loss: 1.1680 - acc: 0.6356 - val_loss: 1.8880 - val_acc: 0.4330\n",
            "Epoch 54/70\n",
            "810/812 [============================>.] - ETA: 0s - loss: 1.1654 - acc: 0.6377"
          ]
        },
        {
          "output_type": "stream",
          "name": "stderr",
          "text": [
            "WARNING:tensorflow:Can save best model only with val_accuracy available, skipping.\n"
          ]
        },
        {
          "output_type": "stream",
          "name": "stdout",
          "text": [
            "\b\b\b\b\b\b\b\b\b\b\b\b\b\b\b\b\b\b\b\b\b\b\b\b\b\b\b\b\b\b\b\b\b\b\b\b\b\b\b\b\b\b\b\b\b\b\b\b\b\b\b\b\b\b\b\b\b\b\b\b\b\b\b\b\b\b\b\b\b\b\b\b\b\b\b\b\b\b\b\r812/812 [==============================] - 11s 14ms/step - loss: 1.1654 - acc: 0.6376 - val_loss: 1.8691 - val_acc: 0.4363\n",
            "Epoch 55/70\n",
            "809/812 [============================>.] - ETA: 0s - loss: 1.1618 - acc: 0.6378"
          ]
        },
        {
          "output_type": "stream",
          "name": "stderr",
          "text": [
            "WARNING:tensorflow:Can save best model only with val_accuracy available, skipping.\n"
          ]
        },
        {
          "output_type": "stream",
          "name": "stdout",
          "text": [
            "\b\b\b\b\b\b\b\b\b\b\b\b\b\b\b\b\b\b\b\b\b\b\b\b\b\b\b\b\b\b\b\b\b\b\b\b\b\b\b\b\b\b\b\b\b\b\b\b\b\b\b\b\b\b\b\b\b\b\b\b\b\b\b\b\b\b\b\b\b\b\b\b\b\b\b\b\b\b\b\r812/812 [==============================] - 11s 14ms/step - loss: 1.1615 - acc: 0.6377 - val_loss: 1.8682 - val_acc: 0.4408\n",
            "Epoch 56/70\n",
            "809/812 [============================>.] - ETA: 0s - loss: 1.1593 - acc: 0.6398"
          ]
        },
        {
          "output_type": "stream",
          "name": "stderr",
          "text": [
            "WARNING:tensorflow:Can save best model only with val_accuracy available, skipping.\n"
          ]
        },
        {
          "output_type": "stream",
          "name": "stdout",
          "text": [
            "\b\b\b\b\b\b\b\b\b\b\b\b\b\b\b\b\b\b\b\b\b\b\b\b\b\b\b\b\b\b\b\b\b\b\b\b\b\b\b\b\b\b\b\b\b\b\b\b\b\b\b\b\b\b\b\b\b\b\b\b\b\b\b\b\b\b\b\b\b\b\b\b\b\b\b\b\b\b\b\r812/812 [==============================] - 10s 13ms/step - loss: 1.1600 - acc: 0.6397 - val_loss: 1.8459 - val_acc: 0.4360\n",
            "Epoch 57/70\n",
            "810/812 [============================>.] - ETA: 0s - loss: 1.1552 - acc: 0.6420"
          ]
        },
        {
          "output_type": "stream",
          "name": "stderr",
          "text": [
            "WARNING:tensorflow:Can save best model only with val_accuracy available, skipping.\n"
          ]
        },
        {
          "output_type": "stream",
          "name": "stdout",
          "text": [
            "\b\b\b\b\b\b\b\b\b\b\b\b\b\b\b\b\b\b\b\b\b\b\b\b\b\b\b\b\b\b\b\b\b\b\b\b\b\b\b\b\b\b\b\b\b\b\b\b\b\b\b\b\b\b\b\b\b\b\b\b\b\b\b\b\b\b\b\b\b\b\b\b\b\b\b\b\b\b\b\r812/812 [==============================] - 11s 14ms/step - loss: 1.1548 - acc: 0.6422 - val_loss: 1.9172 - val_acc: 0.4321\n",
            "Epoch 58/70\n",
            "808/812 [============================>.] - ETA: 0s - loss: 1.1540 - acc: 0.6414"
          ]
        },
        {
          "output_type": "stream",
          "name": "stderr",
          "text": [
            "WARNING:tensorflow:Can save best model only with val_accuracy available, skipping.\n"
          ]
        },
        {
          "output_type": "stream",
          "name": "stdout",
          "text": [
            "\b\b\b\b\b\b\b\b\b\b\b\b\b\b\b\b\b\b\b\b\b\b\b\b\b\b\b\b\b\b\b\b\b\b\b\b\b\b\b\b\b\b\b\b\b\b\b\b\b\b\b\b\b\b\b\b\b\b\b\b\b\b\b\b\b\b\b\b\b\b\b\b\b\b\b\b\b\b\b\r812/812 [==============================] - 11s 14ms/step - loss: 1.1541 - acc: 0.6413 - val_loss: 1.8874 - val_acc: 0.4427\n",
            "Epoch 59/70\n",
            "812/812 [==============================] - ETA: 0s - loss: 1.1502 - acc: 0.6439"
          ]
        },
        {
          "output_type": "stream",
          "name": "stderr",
          "text": [
            "WARNING:tensorflow:Can save best model only with val_accuracy available, skipping.\n"
          ]
        },
        {
          "output_type": "stream",
          "name": "stdout",
          "text": [
            "\b\b\b\b\b\b\b\b\b\b\b\b\b\b\b\b\b\b\b\b\b\b\b\b\b\b\b\b\b\b\b\b\b\b\b\b\b\b\b\b\b\b\b\b\b\b\b\b\b\b\b\b\b\b\b\b\b\b\b\b\b\b\b\b\b\b\b\b\b\b\b\b\b\b\b\b\b\b\b\r812/812 [==============================] - 12s 15ms/step - loss: 1.1502 - acc: 0.6439 - val_loss: 1.8861 - val_acc: 0.4366\n",
            "Epoch 60/70\n",
            "808/812 [============================>.] - ETA: 0s - loss: 1.1474 - acc: 0.6464"
          ]
        },
        {
          "output_type": "stream",
          "name": "stderr",
          "text": [
            "WARNING:tensorflow:Can save best model only with val_accuracy available, skipping.\n"
          ]
        },
        {
          "output_type": "stream",
          "name": "stdout",
          "text": [
            "\b\b\b\b\b\b\b\b\b\b\b\b\b\b\b\b\b\b\b\b\b\b\b\b\b\b\b\b\b\b\b\b\b\b\b\b\b\b\b\b\b\b\b\b\b\b\b\b\b\b\b\b\b\b\b\b\b\b\b\b\b\b\b\b\b\b\b\b\b\b\b\b\b\b\b\b\b\b\b\r812/812 [==============================] - 11s 14ms/step - loss: 1.1468 - acc: 0.6466 - val_loss: 1.9386 - val_acc: 0.4356\n",
            "Epoch 61/70\n",
            "811/812 [============================>.] - ETA: 0s - loss: 1.1447 - acc: 0.6431"
          ]
        },
        {
          "output_type": "stream",
          "name": "stderr",
          "text": [
            "WARNING:tensorflow:Can save best model only with val_accuracy available, skipping.\n"
          ]
        },
        {
          "output_type": "stream",
          "name": "stdout",
          "text": [
            "\b\b\b\b\b\b\b\b\b\b\b\b\b\b\b\b\b\b\b\b\b\b\b\b\b\b\b\b\b\b\b\b\b\b\b\b\b\b\b\b\b\b\b\b\b\b\b\b\b\b\b\b\b\b\b\b\b\b\b\b\b\b\b\b\b\b\b\b\b\b\b\b\b\b\b\b\b\b\b\r812/812 [==============================] - 11s 14ms/step - loss: 1.1445 - acc: 0.6433 - val_loss: 1.9002 - val_acc: 0.4373\n",
            "Epoch 62/70\n",
            "811/812 [============================>.] - ETA: 0s - loss: 1.1417 - acc: 0.6503"
          ]
        },
        {
          "output_type": "stream",
          "name": "stderr",
          "text": [
            "WARNING:tensorflow:Can save best model only with val_accuracy available, skipping.\n"
          ]
        },
        {
          "output_type": "stream",
          "name": "stdout",
          "text": [
            "\b\b\b\b\b\b\b\b\b\b\b\b\b\b\b\b\b\b\b\b\b\b\b\b\b\b\b\b\b\b\b\b\b\b\b\b\b\b\b\b\b\b\b\b\b\b\b\b\b\b\b\b\b\b\b\b\b\b\b\b\b\b\b\b\b\b\b\b\b\b\b\b\b\b\b\b\b\b\b\r812/812 [==============================] - 11s 14ms/step - loss: 1.1419 - acc: 0.6502 - val_loss: 1.8828 - val_acc: 0.4392\n",
            "Epoch 63/70\n",
            "809/812 [============================>.] - ETA: 0s - loss: 1.1395 - acc: 0.6499"
          ]
        },
        {
          "output_type": "stream",
          "name": "stderr",
          "text": [
            "WARNING:tensorflow:Can save best model only with val_accuracy available, skipping.\n"
          ]
        },
        {
          "output_type": "stream",
          "name": "stdout",
          "text": [
            "\b\b\b\b\b\b\b\b\b\b\b\b\b\b\b\b\b\b\b\b\b\b\b\b\b\b\b\b\b\b\b\b\b\b\b\b\b\b\b\b\b\b\b\b\b\b\b\b\b\b\b\b\b\b\b\b\b\b\b\b\b\b\b\b\b\b\b\b\b\b\b\b\b\b\b\b\b\b\b\r812/812 [==============================] - 10s 12ms/step - loss: 1.1394 - acc: 0.6498 - val_loss: 1.9089 - val_acc: 0.4371\n",
            "Epoch 64/70\n",
            "812/812 [==============================] - ETA: 0s - loss: 1.1363 - acc: 0.6496"
          ]
        },
        {
          "output_type": "stream",
          "name": "stderr",
          "text": [
            "WARNING:tensorflow:Can save best model only with val_accuracy available, skipping.\n"
          ]
        },
        {
          "output_type": "stream",
          "name": "stdout",
          "text": [
            "\b\b\b\b\b\b\b\b\b\b\b\b\b\b\b\b\b\b\b\b\b\b\b\b\b\b\b\b\b\b\b\b\b\b\b\b\b\b\b\b\b\b\b\b\b\b\b\b\b\b\b\b\b\b\b\b\b\b\b\b\b\b\b\b\b\b\b\b\b\b\b\b\b\b\b\b\b\b\b\r812/812 [==============================] - 11s 13ms/step - loss: 1.1363 - acc: 0.6496 - val_loss: 1.9128 - val_acc: 0.4429\n",
            "Epoch 65/70\n",
            "809/812 [============================>.] - ETA: 0s - loss: 1.1358 - acc: 0.6490"
          ]
        },
        {
          "output_type": "stream",
          "name": "stderr",
          "text": [
            "WARNING:tensorflow:Can save best model only with val_accuracy available, skipping.\n"
          ]
        },
        {
          "output_type": "stream",
          "name": "stdout",
          "text": [
            "\b\b\b\b\b\b\b\b\b\b\b\b\b\b\b\b\b\b\b\b\b\b\b\b\b\b\b\b\b\b\b\b\b\b\b\b\b\b\b\b\b\b\b\b\b\b\b\b\b\b\b\b\b\b\b\b\b\b\b\b\b\b\b\b\b\b\b\b\b\b\b\b\b\b\b\b\b\b\b\r812/812 [==============================] - 11s 14ms/step - loss: 1.1351 - acc: 0.6493 - val_loss: 1.9803 - val_acc: 0.4289\n",
            "Epoch 66/70\n",
            "810/812 [============================>.] - ETA: 0s - loss: 1.1329 - acc: 0.6519"
          ]
        },
        {
          "output_type": "stream",
          "name": "stderr",
          "text": [
            "WARNING:tensorflow:Can save best model only with val_accuracy available, skipping.\n"
          ]
        },
        {
          "output_type": "stream",
          "name": "stdout",
          "text": [
            "\b\b\b\b\b\b\b\b\b\b\b\b\b\b\b\b\b\b\b\b\b\b\b\b\b\b\b\b\b\b\b\b\b\b\b\b\b\b\b\b\b\b\b\b\b\b\b\b\b\b\b\b\b\b\b\b\b\b\b\b\b\b\b\b\b\b\b\b\b\b\b\b\b\b\b\b\b\b\b\r812/812 [==============================] - 11s 14ms/step - loss: 1.1327 - acc: 0.6518 - val_loss: 1.9190 - val_acc: 0.4359\n",
            "Epoch 67/70\n",
            "809/812 [============================>.] - ETA: 0s - loss: 1.1278 - acc: 0.6527"
          ]
        },
        {
          "output_type": "stream",
          "name": "stderr",
          "text": [
            "WARNING:tensorflow:Can save best model only with val_accuracy available, skipping.\n"
          ]
        },
        {
          "output_type": "stream",
          "name": "stdout",
          "text": [
            "\b\b\b\b\b\b\b\b\b\b\b\b\b\b\b\b\b\b\b\b\b\b\b\b\b\b\b\b\b\b\b\b\b\b\b\b\b\b\b\b\b\b\b\b\b\b\b\b\b\b\b\b\b\b\b\b\b\b\b\b\b\b\b\b\b\b\b\b\b\b\b\b\b\b\b\b\b\b\b\r812/812 [==============================] - 11s 14ms/step - loss: 1.1284 - acc: 0.6526 - val_loss: 1.9700 - val_acc: 0.4296\n",
            "Epoch 68/70\n",
            "809/812 [============================>.] - ETA: 0s - loss: 1.1279 - acc: 0.6515"
          ]
        },
        {
          "output_type": "stream",
          "name": "stderr",
          "text": [
            "WARNING:tensorflow:Can save best model only with val_accuracy available, skipping.\n"
          ]
        },
        {
          "output_type": "stream",
          "name": "stdout",
          "text": [
            "\b\b\b\b\b\b\b\b\b\b\b\b\b\b\b\b\b\b\b\b\b\b\b\b\b\b\b\b\b\b\b\b\b\b\b\b\b\b\b\b\b\b\b\b\b\b\b\b\b\b\b\b\b\b\b\b\b\b\b\b\b\b\b\b\b\b\b\b\b\b\b\b\b\b\b\b\b\b\b\r812/812 [==============================] - 11s 14ms/step - loss: 1.1278 - acc: 0.6516 - val_loss: 1.9215 - val_acc: 0.4390\n",
            "Epoch 69/70\n",
            "811/812 [============================>.] - ETA: 0s - loss: 1.1244 - acc: 0.6547"
          ]
        },
        {
          "output_type": "stream",
          "name": "stderr",
          "text": [
            "WARNING:tensorflow:Can save best model only with val_accuracy available, skipping.\n"
          ]
        },
        {
          "output_type": "stream",
          "name": "stdout",
          "text": [
            "\b\b\b\b\b\b\b\b\b\b\b\b\b\b\b\b\b\b\b\b\b\b\b\b\b\b\b\b\b\b\b\b\b\b\b\b\b\b\b\b\b\b\b\b\b\b\b\b\b\b\b\b\b\b\b\b\b\b\b\b\b\b\b\b\b\b\b\b\b\b\b\b\b\b\b\b\b\b\b\r812/812 [==============================] - 11s 13ms/step - loss: 1.1246 - acc: 0.6547 - val_loss: 1.9318 - val_acc: 0.4371\n",
            "Epoch 70/70\n",
            "809/812 [============================>.] - ETA: 0s - loss: 1.1214 - acc: 0.6553"
          ]
        },
        {
          "output_type": "stream",
          "name": "stderr",
          "text": [
            "WARNING:tensorflow:Can save best model only with val_accuracy available, skipping.\n"
          ]
        },
        {
          "output_type": "stream",
          "name": "stdout",
          "text": [
            "\b\b\b\b\b\b\b\b\b\b\b\b\b\b\b\b\b\b\b\b\b\b\b\b\b\b\b\b\b\b\b\b\b\b\b\b\b\b\b\b\b\b\b\b\b\b\b\b\b\b\b\b\b\b\b\b\b\b\b\b\b\b\b\b\b\b\b\b\b\b\b\b\b\b\b\b\b\b\b\r812/812 [==============================] - 11s 13ms/step - loss: 1.1223 - acc: 0.6552 - val_loss: 1.9422 - val_acc: 0.4402\n"
          ]
        }
      ],
      "source": [
        "from keras import regularizers\n",
        "model3 = Sequential()\n",
        "model3.add(layers.Embedding(max_words, 40, input_length=max_len))\n",
        "model3.add(layers.Conv1D(20, 6, activation='relu',kernel_regularizer=regularizers.l1_l2(l1=2e-3, l2=2e-3),bias_regularizer=regularizers.l2(2e-3)))\n",
        "model3.add(layers.MaxPooling1D(5))\n",
        "model3.add(layers.Conv1D(20, 6, activation='relu',kernel_regularizer=regularizers.l1_l2(l1=2e-3, l2=2e-3),bias_regularizer=regularizers.l2(2e-3)))\n",
        "model3.add(layers.GlobalMaxPooling1D())\n",
        "model3.add(layers.Dense(7,activation='softmax'))\n",
        "model3.compile(optimizer='rmsprop',loss='categorical_crossentropy',metrics=['acc'])\n",
        "checkpoint3 = ModelCheckpoint(\"best_model3.hdf5\", monitor='val_accuracy', verbose=1,save_best_only=True, mode='auto', period=1,save_weights_only=False)\n",
        "history = model3.fit(X_train, y_train, epochs=70,validation_data=(X_test, y_test),callbacks=[checkpoint3])"
      ]
    },
    {
      "cell_type": "markdown",
      "metadata": {
        "papermill": {
          "duration": 13.897718,
          "end_time": "2020-10-06T21:57:43.244943",
          "exception": false,
          "start_time": "2020-10-06T21:57:29.347225",
          "status": "completed"
        },
        "tags": [],
        "id": "dFeuxxue66vm"
      },
      "source": [
        "# Best model validation\n"
      ]
    },
    {
      "cell_type": "code",
      "execution_count": 32,
      "metadata": {
        "execution": {
          "iopub.execute_input": "2020-10-06T21:58:11.467383Z",
          "iopub.status.busy": "2020-10-06T21:58:11.466210Z",
          "iopub.status.idle": "2020-10-06T21:58:12.123269Z",
          "shell.execute_reply": "2020-10-06T21:58:12.122665Z"
        },
        "papermill": {
          "duration": 14.579894,
          "end_time": "2020-10-06T21:58:12.123401",
          "exception": false,
          "start_time": "2020-10-06T21:57:57.543507",
          "status": "completed"
        },
        "tags": [],
        "id": "b8GUbrpZ66vm"
      },
      "outputs": [],
      "source": [
        "#Let's load the best model obtained during training\n",
        "best_model = keras.models.load_model(\"best_model2.hdf5\")"
      ]
    },
    {
      "cell_type": "code",
      "execution_count": 34,
      "metadata": {
        "execution": {
          "iopub.execute_input": "2020-10-06T21:58:39.201557Z",
          "iopub.status.busy": "2020-10-06T21:58:39.200429Z",
          "iopub.status.idle": "2020-10-06T21:58:42.153698Z",
          "shell.execute_reply": "2020-10-06T21:58:42.152736Z"
        },
        "papermill": {
          "duration": 16.163436,
          "end_time": "2020-10-06T21:58:42.153869",
          "exception": false,
          "start_time": "2020-10-06T21:58:25.990433",
          "status": "completed"
        },
        "tags": [],
        "colab": {
          "base_uri": "https://localhost:8080/"
        },
        "id": "BuadQmzk66vm",
        "outputId": "06d28001-a6e0-46a0-863b-a3e6376957a6"
      },
      "outputs": [
        {
          "output_type": "stream",
          "name": "stdout",
          "text": [
            "271/271 - 5s - loss: 1.0596 - accuracy: 0.6530 - 5s/epoch - 20ms/step\n",
            "Model accuracy:  0.6529669761657715\n"
          ]
        }
      ],
      "source": [
        "test_loss, test_acc = best_model.evaluate(X_test, y_test, verbose=2)\n",
        "print('Model accuracy: ',test_acc)"
      ]
    },
    {
      "cell_type": "code",
      "execution_count": 35,
      "metadata": {
        "execution": {
          "iopub.execute_input": "2020-10-06T21:59:08.598704Z",
          "iopub.status.busy": "2020-10-06T21:59:08.597660Z",
          "iopub.status.idle": "2020-10-06T21:59:11.143379Z",
          "shell.execute_reply": "2020-10-06T21:59:11.144225Z"
        },
        "papermill": {
          "duration": 15.873978,
          "end_time": "2020-10-06T21:59:11.144400",
          "exception": false,
          "start_time": "2020-10-06T21:58:55.270422",
          "status": "completed"
        },
        "tags": [],
        "colab": {
          "base_uri": "https://localhost:8080/"
        },
        "id": "NAB5AjPD66vn",
        "outputId": "7e460529-33f9-4baa-b849-e4f72031cc81"
      },
      "outputs": [
        {
          "output_type": "stream",
          "name": "stdout",
          "text": [
            "271/271 [==============================] - 7s 23ms/step\n"
          ]
        }
      ],
      "source": [
        "predictions = best_model.predict(X_test)"
      ]
    },
    {
      "cell_type": "markdown",
      "metadata": {
        "papermill": {
          "duration": 13.54467,
          "end_time": "2020-10-06T21:59:38.859073",
          "exception": false,
          "start_time": "2020-10-06T21:59:25.314403",
          "status": "completed"
        },
        "tags": [],
        "id": "dR2kgBIK66vn"
      },
      "source": [
        "## Confusion matrix\n"
      ]
    },
    {
      "cell_type": "code",
      "execution_count": 36,
      "metadata": {
        "execution": {
          "iopub.execute_input": "2020-10-06T22:00:05.244627Z",
          "iopub.status.busy": "2020-10-06T22:00:05.243340Z",
          "iopub.status.idle": "2020-10-06T22:00:05.261173Z",
          "shell.execute_reply": "2020-10-06T22:00:05.260523Z"
        },
        "papermill": {
          "duration": 13.356845,
          "end_time": "2020-10-06T22:00:05.261290",
          "exception": false,
          "start_time": "2020-10-06T21:59:51.904445",
          "status": "completed"
        },
        "tags": [],
        "id": "ILlzQcSj66vo"
      },
      "outputs": [],
      "source": [
        "from sklearn.metrics import confusion_matrix\n",
        "matrix = confusion_matrix(y_test.argmax(axis=1), np.around(predictions, decimals=0).argmax(axis=1))"
      ]
    },
    {
      "cell_type": "code",
      "execution_count": 38,
      "metadata": {
        "execution": {
          "iopub.execute_input": "2020-10-06T22:00:32.586908Z",
          "iopub.status.busy": "2020-10-06T22:00:32.586210Z",
          "iopub.status.idle": "2020-10-06T22:00:33.285612Z",
          "shell.execute_reply": "2020-10-06T22:00:33.285009Z"
        },
        "papermill": {
          "duration": 14.015558,
          "end_time": "2020-10-06T22:00:33.285736",
          "exception": false,
          "start_time": "2020-10-06T22:00:19.270178",
          "status": "completed"
        },
        "tags": [],
        "id": "th7iCaed66vo",
        "outputId": "2e23660f-89d3-4cfe-e24a-e3b54526de7b",
        "colab": {
          "base_uri": "https://localhost:8080/",
          "height": 880
        }
      },
      "outputs": [
        {
          "output_type": "execute_result",
          "data": {
            "text/plain": [
              "<matplotlib.axes._subplots.AxesSubplot at 0x7f587b4f8dc0>"
            ]
          },
          "metadata": {},
          "execution_count": 38
        },
        {
          "output_type": "display_data",
          "data": {
            "text/plain": [
              "<Figure size 1080x1080 with 2 Axes>"
            ],
            "image/png": "[encoded data removed]"
          },
          "metadata": {
            "needs_background": "light"
          }
        }
      ],
      "source": [
        "import seaborn as sns\n",
        "conf_matrix = pd.DataFrame(matrix, index = ['neutral','joy','sadness','fear','surprise','anger','disgust'],columns = ['neutral','joy','sadness','fear','surprise','anger','disgust'])\n",
        "#Normalizing\n",
        "conf_matrix = conf_matrix.astype('float') / conf_matrix.sum(axis=1)[:, np.newaxis]\n",
        "plt.figure(figsize = (15,15))\n",
        "sns.heatmap(conf_matrix, annot=True, annot_kws={\"size\": 15})"
      ]
    },
    {
      "cell_type": "code",
      "execution_count": 39,
      "metadata": {
        "execution": {
          "iopub.execute_input": "2020-10-06T22:01:26.949303Z",
          "iopub.status.busy": "2020-10-06T22:01:26.947906Z",
          "iopub.status.idle": "2020-10-06T22:01:26.951809Z",
          "shell.execute_reply": "2020-10-06T22:01:26.951229Z"
        },
        "papermill": {
          "duration": 14.303017,
          "end_time": "2020-10-06T22:01:26.951936",
          "exception": false,
          "start_time": "2020-10-06T22:01:12.648919",
          "status": "completed"
        },
        "tags": [],
        "id": "ZmTwenri66vo"
      },
      "outputs": [],
      "source": [
        "emotion = ['neutral','joy','sadness','fear','surprise','anger','disgust']"
      ]
    },
    {
      "cell_type": "code",
      "source": [
        "sequence = tokenizer.texts_to_sequences([\"this is all wrong I shouldn't be up here I should be back in school on the other side of the ocean yet you all come to us young people for Hope how dare you you have stolen my dreams and my childhood with your empty words and yet I'm one of the lucky ones people are suffering people are dying entire ecosystems are collapsing we are in the beginning of a mass extinction and all you can talk about is the money and fairy tales of Eternal economic growth how dare you\"])\n",
        "test = pad_sequences(sequence, maxlen=max_len)\n",
        "emotion[np.around(best_model.predict(test), decimals=0).argmax(axis=1)[0]]"
      ],
      "metadata": {
        "colab": {
          "base_uri": "https://localhost:8080/",
          "height": 54
        },
        "id": "Fwi6oZkajzPm",
        "outputId": "f3f73cd5-27b6-407f-aa7a-1fae963f13ba"
      },
      "execution_count": 46,
      "outputs": [
        {
          "output_type": "stream",
          "name": "stdout",
          "text": [
            "1/1 [==============================] - 0s 25ms/step\n"
          ]
        },
        {
          "output_type": "execute_result",
          "data": {
            "text/plain": [
              "'anger'"
            ],
            "application/vnd.google.colaboratory.intrinsic+json": {
              "type": "string"
            }
          },
          "metadata": {},
          "execution_count": 46
        }
      ]
    },
    {
      "cell_type": "code",
      "source": [
        "sequence = tokenizer.texts_to_sequences([\"thank you thank you thank you thank you to the academy for this all 6,000 members thank you to the other nominees all these performances were impeccable in my opinion I didn't see a false note anywhere I want to thank valet or director Jennifer garnered with daily there's a few things about three things to my account that I need each day one of them is something to look up to another is something to look forward to in another is someone to chase now first off I want to thank God because that's who I look up to he's great my life with opportunities that I know are not of my hand or any other human hand he is showing me that it's a scientific fact that gratitude reciprocates\"])\n",
        "test = pad_sequences(sequence, maxlen=max_len)\n",
        "emotion[np.around(best_model.predict(test), decimals=0).argmax(axis=1)[0]]"
      ],
      "metadata": {
        "colab": {
          "base_uri": "https://localhost:8080/",
          "height": 54
        },
        "id": "N8IuRSaikpN3",
        "outputId": "cbed91f8-6ee9-47ff-c896-9c8d1f891f85"
      },
      "execution_count": 47,
      "outputs": [
        {
          "output_type": "stream",
          "name": "stdout",
          "text": [
            "1/1 [==============================] - 0s 24ms/step\n"
          ]
        },
        {
          "output_type": "execute_result",
          "data": {
            "text/plain": [
              "'anger'"
            ],
            "application/vnd.google.colaboratory.intrinsic+json": {
              "type": "string"
            }
          },
          "metadata": {},
          "execution_count": 47
        }
      ]
    },
    {
      "cell_type": "code",
      "source": [
        "sequence = tokenizer.texts_to_sequences([\"I used to think the whole purpose of life was pursuing happiness everyone said the path to happiness was success so I searched for that ideal job that perfect boyfriend that beautiful apartment but instead of ever feeling fulfilled I felt anxious and the drift and I wasn't alone my friends they struggled with this too\"])\n",
        "test = pad_sequences(sequence, maxlen=max_len)\n",
        "emotion[np.around(best_model.predict(test), decimals=0).argmax(axis=1)[0]]"
      ],
      "metadata": {
        "colab": {
          "base_uri": "https://localhost:8080/",
          "height": 54
        },
        "id": "ZsX0M3T0ky1X",
        "outputId": "86c4eb07-3579-4266-b047-97df1522c06f"
      },
      "execution_count": 48,
      "outputs": [
        {
          "output_type": "stream",
          "name": "stdout",
          "text": [
            "1/1 [==============================] - 0s 25ms/step\n"
          ]
        },
        {
          "output_type": "execute_result",
          "data": {
            "text/plain": [
              "'neutral'"
            ],
            "application/vnd.google.colaboratory.intrinsic+json": {
              "type": "string"
            }
          },
          "metadata": {},
          "execution_count": 48
        }
      ]
    },
    {
      "cell_type": "code",
      "source": [
        "# save the model to disk\n",
        "import pickle\n",
        "filename = 'model-weights.sav'\n",
        "pickle.dump(best_model, open(filename, 'wb'))"
      ],
      "metadata": {
        "colab": {
          "base_uri": "https://localhost:8080/"
        },
        "id": "zyk0-rGllgE0",
        "outputId": "0f700ba7-e208-4871-ba5e-0c3b34bfb09a"
      },
      "execution_count": 49,
      "outputs": [
        {
          "output_type": "stream",
          "name": "stderr",
          "text": [
            "WARNING:absl:Found untraced functions such as lstm_cell_5_layer_call_fn, lstm_cell_5_layer_call_and_return_conditional_losses, lstm_cell_6_layer_call_fn, lstm_cell_6_layer_call_and_return_conditional_losses while saving (showing 4 of 4). These functions will not be directly callable after loading.\n"
          ]
        }
      ]
    },
    {
      "cell_type": "markdown",
      "metadata": {
        "papermill": {
          "duration": 13.386795,
          "end_time": "2020-10-06T22:03:42.535596",
          "exception": false,
          "start_time": "2020-10-06T22:03:29.148801",
          "status": "completed"
        },
        "tags": [],
        "id": "MMFs4ppY66vq"
      },
      "source": [
        "# Preparing model for AWS SageMaker"
      ]
    },
    {
      "cell_type": "code",
      "execution_count": 44,
      "metadata": {
        "execution": {
          "iopub.execute_input": "2020-10-06T22:04:09.194213Z",
          "iopub.status.busy": "2020-10-06T22:04:09.192855Z",
          "iopub.status.idle": "2020-10-06T22:04:09.256007Z",
          "shell.execute_reply": "2020-10-06T22:04:09.257411Z"
        },
        "papermill": {
          "duration": 13.356987,
          "end_time": "2020-10-06T22:04:09.257650",
          "exception": false,
          "start_time": "2020-10-06T22:03:55.900663",
          "status": "completed"
        },
        "tags": [],
        "id": "hnPUCb4K66vq",
        "outputId": "e2b0c97d-b93b-475b-9633-02b2f33d8d38",
        "colab": {
          "base_uri": "https://localhost:8080/"
        }
      },
      "outputs": [
        {
          "output_type": "stream",
          "name": "stdout",
          "text": [
            "Model saved\n",
            "Tokenizer saved\n"
          ]
        }
      ],
      "source": [
        "#Saving weights and tokenizer so we can reduce training time on SageMaker\n",
        "\n",
        "# serialize model to JSON\n",
        "model_json = best_model.to_json()\n",
        "with open(\"model.json\", \"w\") as json_file:\n",
        "    json_file.write(model_json)\n",
        "# serialize weights to HDF5\n",
        "best_model.save_weights(\"model-weights.h5\")\n",
        "print(\"Model saved\")\n",
        "\n",
        "# saving tokenizer\n",
        "with open('tokenizer.pickle', 'wb') as handle:\n",
        "    pickle.dump(tokenizer, handle, protocol=pickle.HIGHEST_PROTOCOL)\n",
        "print('Tokenizer saved')"
      ]
    }
  ],
  "metadata": {
    "kernelspec": {
      "display_name": "Python 3",
      "language": "python",
      "name": "python3"
    },
    "language_info": {
      "codemirror_mode": {
        "name": "ipython",
        "version": 3
      },
      "file_extension": ".py",
      "mimetype": "text/x-python",
      "name": "python",
      "nbconvert_exporter": "python",
      "pygments_lexer": "ipython3",
      "version": "3.7.6"
    },
    "papermill": {
      "duration": 2724.650172,
      "end_time": "2020-10-06T22:04:52.151005",
      "environment_variables": {},
      "exception": null,
      "input_path": "__notebook__.ipynb",
      "output_path": "__notebook__.ipynb",
      "parameters": {},
      "start_time": "2020-10-06T21:19:27.500833",
      "version": "2.1.0"
    },
    "colab": {
      "provenance": []
    }
  },
  "nbformat": 4,
  "nbformat_minor": 0
}