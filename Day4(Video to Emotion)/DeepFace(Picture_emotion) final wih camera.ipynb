{
 "cells": [
  {
   "cell_type": "code",
   "execution_count": 2,
   "metadata": {
    "collapsed": true,
    "id": "vosxqbYTfdRE",
    "jupyter": {
     "outputs_hidden": true
    },
    "tags": []
   },
   "outputs": [
    {
     "name": "stdout",
     "output_type": "stream",
     "text": [
      "Collecting deepface\n",
      "  Using cached deepface-0.0.78-py3-none-any.whl (48 kB)\n",
      "Collecting pandas>=0.23.4\n",
      "  Downloading pandas-1.5.3-cp310-cp310-win_amd64.whl (10.4 MB)\n",
      "     ---------------------------------------- 10.4/10.4 MB 6.7 MB/s eta 0:00:00\n",
      "Collecting Flask>=1.1.2\n",
      "  Using cached Flask-2.2.2-py3-none-any.whl (101 kB)\n",
      "Collecting tensorflow>=1.9.0\n",
      "  Downloading tensorflow-2.11.0-cp310-cp310-win_amd64.whl (1.9 kB)\n",
      "Collecting mtcnn>=0.1.0\n",
      "  Using cached mtcnn-0.1.1-py3-none-any.whl (2.3 MB)\n",
      "Collecting fire>=0.4.0\n",
      "  Using cached fire-0.5.0.tar.gz (88 kB)\n",
      "  Preparing metadata (setup.py): started\n",
      "  Preparing metadata (setup.py): finished with status 'done'\n",
      "Collecting retina-face>=0.0.1\n",
      "  Using cached retina_face-0.0.13-py3-none-any.whl (16 kB)\n",
      "Collecting Pillow>=5.2.0\n",
      "  Downloading Pillow-9.4.0-cp310-cp310-win_amd64.whl (2.5 MB)\n",
      "     ---------------------------------------- 2.5/2.5 MB 6.6 MB/s eta 0:00:00\n",
      "Collecting numpy>=1.14.0\n",
      "  Downloading numpy-1.24.1-cp310-cp310-win_amd64.whl (14.8 MB)\n",
      "     ---------------------------------------- 14.8/14.8 MB 6.9 MB/s eta 0:00:00\n",
      "Collecting tqdm>=4.30.0\n",
      "  Downloading tqdm-4.64.1-py2.py3-none-any.whl (78 kB)\n",
      "     ---------------------------------------- 78.5/78.5 kB 4.3 MB/s eta 0:00:00\n",
      "Collecting gdown>=3.10.1\n",
      "  Using cached gdown-4.6.0-py3-none-any.whl (14 kB)\n",
      "Collecting opencv-python>=4.5.5.64\n",
      "  Using cached opencv_python-4.7.0.68-cp37-abi3-win_amd64.whl (38.2 MB)\n",
      "Collecting keras>=2.2.0\n",
      "  Using cached keras-2.11.0-py2.py3-none-any.whl (1.7 MB)\n",
      "Requirement already satisfied: six in c:\\users\\olia\\anaconda3\\envs\\final_project\\lib\\site-packages (from fire>=0.4.0->deepface) (1.16.0)\n",
      "Collecting termcolor\n",
      "  Using cached termcolor-2.2.0-py3-none-any.whl (6.6 kB)\n",
      "Requirement already satisfied: Jinja2>=3.0 in c:\\users\\olia\\anaconda3\\envs\\final_project\\lib\\site-packages (from Flask>=1.1.2->deepface) (3.1.2)\n",
      "Collecting Werkzeug>=2.2.2\n",
      "  Using cached Werkzeug-2.2.2-py3-none-any.whl (232 kB)\n",
      "Collecting itsdangerous>=2.0\n",
      "  Downloading itsdangerous-2.1.2-py3-none-any.whl (15 kB)\n",
      "Collecting click>=8.0\n",
      "  Downloading click-8.1.3-py3-none-any.whl (96 kB)\n",
      "     ---------------------------------------- 96.6/96.6 kB 5.8 MB/s eta 0:00:00\n",
      "Collecting filelock\n",
      "  Downloading filelock-3.9.0-py3-none-any.whl (9.7 kB)\n",
      "Requirement already satisfied: requests[socks] in c:\\users\\olia\\anaconda3\\envs\\final_project\\lib\\site-packages (from gdown>=3.10.1->deepface) (2.28.2)\n",
      "Requirement already satisfied: beautifulsoup4 in c:\\users\\olia\\anaconda3\\envs\\final_project\\lib\\site-packages (from gdown>=3.10.1->deepface) (4.11.1)\n",
      "Requirement already satisfied: python-dateutil>=2.8.1 in c:\\users\\olia\\anaconda3\\envs\\final_project\\lib\\site-packages (from pandas>=0.23.4->deepface) (2.8.2)\n",
      "Requirement already satisfied: pytz>=2020.1 in c:\\users\\olia\\anaconda3\\envs\\final_project\\lib\\site-packages (from pandas>=0.23.4->deepface) (2022.7.1)\n",
      "Collecting tensorflow-intel==2.11.0\n",
      "  Downloading tensorflow_intel-2.11.0-cp310-cp310-win_amd64.whl (266.3 MB)\n",
      "     -------------------------------------- 266.3/266.3 MB 4.9 MB/s eta 0:00:00\n",
      "Collecting tensorboard<2.12,>=2.11\n",
      "  Using cached tensorboard-2.11.2-py3-none-any.whl (6.0 MB)\n",
      "Collecting tensorflow-io-gcs-filesystem>=0.23.1\n",
      "  Downloading tensorflow_io_gcs_filesystem-0.30.0-cp310-cp310-win_amd64.whl (1.5 MB)\n",
      "     ---------------------------------------- 1.5/1.5 MB 6.7 MB/s eta 0:00:00\n",
      "Collecting tensorflow-estimator<2.12,>=2.11.0\n",
      "  Using cached tensorflow_estimator-2.11.0-py2.py3-none-any.whl (439 kB)\n",
      "Collecting protobuf<3.20,>=3.9.2\n",
      "  Downloading protobuf-3.19.6-cp310-cp310-win_amd64.whl (895 kB)\n",
      "     -------------------------------------- 895.7/895.7 kB 7.1 MB/s eta 0:00:00\n",
      "Requirement already satisfied: packaging in c:\\users\\olia\\anaconda3\\envs\\final_project\\lib\\site-packages (from tensorflow-intel==2.11.0->tensorflow>=1.9.0->deepface) (23.0)\n",
      "Requirement already satisfied: typing-extensions>=3.6.6 in c:\\users\\olia\\anaconda3\\envs\\final_project\\lib\\site-packages (from tensorflow-intel==2.11.0->tensorflow>=1.9.0->deepface) (4.4.0)\n",
      "Requirement already satisfied: setuptools in c:\\users\\olia\\anaconda3\\envs\\final_project\\lib\\site-packages (from tensorflow-intel==2.11.0->tensorflow>=1.9.0->deepface) (66.1.1)\n",
      "Collecting astunparse>=1.6.0\n",
      "  Using cached astunparse-1.6.3-py2.py3-none-any.whl (12 kB)\n",
      "Collecting flatbuffers>=2.0\n",
      "  Using cached flatbuffers-23.1.21-py2.py3-none-any.whl (26 kB)\n",
      "Collecting wrapt>=1.11.0\n",
      "  Downloading wrapt-1.14.1-cp310-cp310-win_amd64.whl (35 kB)\n",
      "Collecting libclang>=13.0.0\n",
      "  Using cached libclang-15.0.6.1-py2.py3-none-win_amd64.whl (23.2 MB)\n",
      "Collecting gast<=0.4.0,>=0.2.1\n",
      "  Using cached gast-0.4.0-py3-none-any.whl (9.8 kB)\n",
      "Collecting absl-py>=1.0.0\n",
      "  Using cached absl_py-1.4.0-py3-none-any.whl (126 kB)\n",
      "Collecting grpcio<2.0,>=1.24.3\n",
      "  Downloading grpcio-1.51.1-cp310-cp310-win_amd64.whl (3.7 MB)\n",
      "     ---------------------------------------- 3.7/3.7 MB 6.8 MB/s eta 0:00:00\n",
      "Collecting opt-einsum>=2.3.2\n",
      "  Using cached opt_einsum-3.3.0-py3-none-any.whl (65 kB)\n",
      "Collecting google-pasta>=0.1.1\n",
      "  Using cached google_pasta-0.2.0-py3-none-any.whl (57 kB)\n",
      "Collecting h5py>=2.9.0\n",
      "  Downloading h5py-3.8.0-cp310-cp310-win_amd64.whl (2.6 MB)\n",
      "     ---------------------------------------- 2.6/2.6 MB 7.0 MB/s eta 0:00:00\n",
      "Requirement already satisfied: colorama in c:\\users\\olia\\anaconda3\\envs\\final_project\\lib\\site-packages (from tqdm>=4.30.0->deepface) (0.4.6)\n",
      "Requirement already satisfied: MarkupSafe>=2.0 in c:\\users\\olia\\anaconda3\\envs\\final_project\\lib\\site-packages (from Jinja2>=3.0->Flask>=1.1.2->deepface) (2.1.2)\n",
      "Requirement already satisfied: soupsieve>1.2 in c:\\users\\olia\\anaconda3\\envs\\final_project\\lib\\site-packages (from beautifulsoup4->gdown>=3.10.1->deepface) (2.3.2.post1)\n",
      "Requirement already satisfied: certifi>=2017.4.17 in c:\\users\\olia\\anaconda3\\envs\\final_project\\lib\\site-packages (from requests[socks]->gdown>=3.10.1->deepface) (2022.12.7)\n",
      "Requirement already satisfied: urllib3<1.27,>=1.21.1 in c:\\users\\olia\\anaconda3\\envs\\final_project\\lib\\site-packages (from requests[socks]->gdown>=3.10.1->deepface) (1.26.14)\n",
      "Requirement already satisfied: charset-normalizer<4,>=2 in c:\\users\\olia\\anaconda3\\envs\\final_project\\lib\\site-packages (from requests[socks]->gdown>=3.10.1->deepface) (2.1.1)\n",
      "Requirement already satisfied: idna<4,>=2.5 in c:\\users\\olia\\anaconda3\\envs\\final_project\\lib\\site-packages (from requests[socks]->gdown>=3.10.1->deepface) (3.4)\n",
      "Requirement already satisfied: PySocks!=1.5.7,>=1.5.6 in c:\\users\\olia\\anaconda3\\envs\\final_project\\lib\\site-packages (from requests[socks]->gdown>=3.10.1->deepface) (1.7.1)\n",
      "Requirement already satisfied: wheel<1.0,>=0.23.0 in c:\\users\\olia\\anaconda3\\envs\\final_project\\lib\\site-packages (from astunparse>=1.6.0->tensorflow-intel==2.11.0->tensorflow>=1.9.0->deepface) (0.38.4)\n",
      "Collecting markdown>=2.6.8\n",
      "  Downloading Markdown-3.4.1-py3-none-any.whl (93 kB)\n",
      "     ---------------------------------------- 93.3/93.3 kB 5.2 MB/s eta 0:00:00\n",
      "Collecting tensorboard-plugin-wit>=1.6.0\n",
      "  Using cached tensorboard_plugin_wit-1.8.1-py3-none-any.whl (781 kB)\n",
      "Collecting google-auth-oauthlib<0.5,>=0.4.1\n",
      "  Using cached google_auth_oauthlib-0.4.6-py2.py3-none-any.whl (18 kB)\n",
      "Collecting google-auth<3,>=1.6.3\n",
      "  Downloading google_auth-2.16.0-py2.py3-none-any.whl (177 kB)\n",
      "     -------------------------------------- 177.8/177.8 kB 5.4 MB/s eta 0:00:00\n",
      "Collecting tensorboard-data-server<0.7.0,>=0.6.0\n",
      "  Using cached tensorboard_data_server-0.6.1-py3-none-any.whl (2.4 kB)\n",
      "Collecting pyasn1-modules>=0.2.1\n",
      "  Downloading pyasn1_modules-0.2.8-py2.py3-none-any.whl (155 kB)\n",
      "     -------------------------------------- 155.3/155.3 kB 4.7 MB/s eta 0:00:00\n",
      "Collecting rsa<5,>=3.1.4\n",
      "  Downloading rsa-4.9-py3-none-any.whl (34 kB)\n",
      "Collecting cachetools<6.0,>=2.0.0\n",
      "  Downloading cachetools-5.3.0-py3-none-any.whl (9.3 kB)\n",
      "Collecting requests-oauthlib>=0.7.0\n",
      "  Using cached requests_oauthlib-1.3.1-py2.py3-none-any.whl (23 kB)\n",
      "Collecting pyasn1<0.5.0,>=0.4.6\n",
      "  Downloading pyasn1-0.4.8-py2.py3-none-any.whl (77 kB)\n",
      "     ---------------------------------------- 77.1/77.1 kB 4.2 MB/s eta 0:00:00\n",
      "Collecting oauthlib>=3.0.0\n",
      "  Using cached oauthlib-3.2.2-py3-none-any.whl (151 kB)\n",
      "Building wheels for collected packages: fire\n",
      "  Building wheel for fire (setup.py): started\n",
      "  Building wheel for fire (setup.py): finished with status 'done'\n",
      "  Created wheel for fire: filename=fire-0.5.0-py2.py3-none-any.whl size=116947 sha256=0cfefb2a4438bcbebf16c2b1519c3022cae73e1699b1f8c2637c46a28150541c\n",
      "  Stored in directory: c:\\users\\olia\\appdata\\local\\pip\\cache\\wheels\\c4\\eb\\6a\\1c6d2ad660043768e998bdf9c6a28db2f1b7db3a5825d51e87\n",
      "Successfully built fire\n",
      "Installing collected packages: tensorboard-plugin-wit, pyasn1, libclang, flatbuffers, wrapt, Werkzeug, tqdm, termcolor, tensorflow-io-gcs-filesystem, tensorflow-estimator, tensorboard-data-server, rsa, pyasn1-modules, protobuf, Pillow, oauthlib, numpy, markdown, keras, itsdangerous, grpcio, google-pasta, gast, filelock, click, cachetools, astunparse, absl-py, requests-oauthlib, pandas, opt-einsum, opencv-python, h5py, google-auth, Flask, fire, mtcnn, google-auth-oauthlib, gdown, tensorboard, tensorflow-intel, tensorflow, retina-face, deepface\n",
      "Successfully installed Flask-2.2.2 Pillow-9.4.0 Werkzeug-2.2.2 absl-py-1.4.0 astunparse-1.6.3 cachetools-5.3.0 click-8.1.3 deepface-0.0.78 filelock-3.9.0 fire-0.5.0 flatbuffers-23.1.21 gast-0.4.0 gdown-4.6.0 google-auth-2.16.0 google-auth-oauthlib-0.4.6 google-pasta-0.2.0 grpcio-1.51.1 h5py-3.8.0 itsdangerous-2.1.2 keras-2.11.0 libclang-15.0.6.1 markdown-3.4.1 mtcnn-0.1.1 numpy-1.24.1 oauthlib-3.2.2 opencv-python-4.7.0.68 opt-einsum-3.3.0 pandas-1.5.3 protobuf-3.19.6 pyasn1-0.4.8 pyasn1-modules-0.2.8 requests-oauthlib-1.3.1 retina-face-0.0.13 rsa-4.9 tensorboard-2.11.2 tensorboard-data-server-0.6.1 tensorboard-plugin-wit-1.8.1 tensorflow-2.11.0 tensorflow-estimator-2.11.0 tensorflow-intel-2.11.0 tensorflow-io-gcs-filesystem-0.30.0 termcolor-2.2.0 tqdm-4.64.1 wrapt-1.14.1\n"
     ]
    }
   ],
   "source": [
    "!pip install deepface"
   ]
  },
  {
   "cell_type": "markdown",
   "metadata": {
    "id": "yhsSsWxLnzGF"
   },
   "source": [
    "### Get and save a video from a camera"
   ]
  },
  {
   "cell_type": "code",
   "execution_count": 7,
   "metadata": {
    "tags": []
   },
   "outputs": [],
   "source": [
    "# Record avideo with a camera and save it into a local folder \n",
    "import cv2 # to read and save videos frames\n",
    "cap = cv2.VideoCapture(0)\n",
    "\n",
    "# Define the codec and create a VideoWriter object\n",
    "fourcc = cv2.VideoWriter_fourcc(*'XVID')\n",
    "out = cv2.VideoWriter(r'C:\\Users\\Olia\\Desktop\\Lips Reading\\Day4(Video to Emotion)\\Data\\video_imput.mp4', fourcc, 20.0, (640, 480))\n",
    "\n",
    "while True:\n",
    "    # Capture frames from the camera\n",
    "    ret, frame = cap.read()\n",
    "    \n",
    "    # Write the frames to the file\n",
    "    out.write(frame)\n",
    "    \n",
    "    # Display the frames\n",
    "    cv2.imshow('Recording', frame)\n",
    "\n",
    "    # Exit the loop if 'q' is pressed\n",
    "    k = cv2.waitKey(1)# & 0xff \n",
    "    if cv2.waitKey(1) == ord('q'):\n",
    "        break\n",
    "\n",
    "# Release the camera and close the window\n",
    "cap.release()\n",
    "out.release()\n",
    "cv2.destroyAllWindows()"
   ]
  },
  {
   "cell_type": "markdown",
   "metadata": {},
   "source": [
    "### Extract and save frames from the video"
   ]
  },
  {
   "cell_type": "code",
   "execution_count": 12,
   "metadata": {
    "id": "WlxeEVjgkCN9"
   },
   "outputs": [],
   "source": [
    "# Open the video file from a folder \n",
    "video = cv2.VideoCapture(r'C:\\Users\\Olia\\Desktop\\Lips Reading\\Day4(Video to Emotion)\\Data\\video_imput.mp4')\n",
    "    \n",
    "# Get the total number of frames in the video\n",
    "total_frames = int(video.get(cv2.CAP_PROP_FRAME_COUNT))\n",
    "\n",
    "# Set the step\n",
    "step = 10 # if step = 10, then only every 10-th frame will be considered and saved\n",
    "\n",
    "# Initialize the counter\n",
    "from collections import Counter\n",
    "count = 0\n",
    "\n",
    "# Iterate over each frame\n",
    "for i in range(total_frames):\n",
    "    ret, frame = video.read()\n",
    "    if ret:\n",
    "        count += 1\n",
    "        if count % step == 0:\n",
    "            cv2.imwrite(r'C:\\Users\\Olia\\Desktop\\Lips Reading\\Day4(Video to Emotion)\\Data\\Frames\\Video 00008\\frame{}.jpg'.format(i), frame)\n",
    "video.release()"
   ]
  },
  {
   "cell_type": "markdown",
   "metadata": {
    "id": "RKNSwiSbnvc2"
   },
   "source": [
    "## Analyse faces from the frames (extract emotions)\n"
   ]
  },
  {
   "cell_type": "code",
   "execution_count": 15,
   "metadata": {
    "colab": {
     "base_uri": "https://localhost:8080/"
    },
    "id": "ENqYSocEpvhh",
    "outputId": "e53e7a90-f097-49e8-e5ea-d4d089c06927",
    "tags": []
   },
   "outputs": [
    {
     "name": "stderr",
     "output_type": "stream",
     "text": [
      "Action: emotion: 100%|███████████████████████████████████████████████████████████████████| 4/4 [00:00<00:00,  5.30it/s]\n",
      "Action: emotion: 100%|███████████████████████████████████████████████████████████████████| 4/4 [00:00<00:00,  5.88it/s]\n",
      "Action: emotion: 100%|███████████████████████████████████████████████████████████████████| 4/4 [00:00<00:00,  5.88it/s]\n",
      "Action: emotion: 100%|███████████████████████████████████████████████████████████████████| 4/4 [00:00<00:00,  5.70it/s]\n",
      "Action: emotion: 100%|███████████████████████████████████████████████████████████████████| 4/4 [00:00<00:00,  5.48it/s]\n",
      "Action: emotion: 100%|███████████████████████████████████████████████████████████████████| 4/4 [00:00<00:00,  5.54it/s]\n",
      "Action: emotion: 100%|███████████████████████████████████████████████████████████████████| 4/4 [00:00<00:00,  5.49it/s]\n",
      "Action: emotion: 100%|███████████████████████████████████████████████████████████████████| 4/4 [00:00<00:00,  5.28it/s]\n",
      "Action: emotion: 100%|███████████████████████████████████████████████████████████████████| 4/4 [00:00<00:00,  5.30it/s]\n",
      "Action: emotion: 100%|███████████████████████████████████████████████████████████████████| 4/4 [00:00<00:00,  5.87it/s]\n",
      "Action: emotion: 100%|███████████████████████████████████████████████████████████████████| 4/4 [00:00<00:00,  5.83it/s]\n",
      "Action: emotion: 100%|███████████████████████████████████████████████████████████████████| 4/4 [00:00<00:00,  5.93it/s]\n",
      "Action: emotion: 100%|███████████████████████████████████████████████████████████████████| 4/4 [00:00<00:00,  5.78it/s]\n",
      "Action: emotion: 100%|███████████████████████████████████████████████████████████████████| 4/4 [00:00<00:00,  5.95it/s]\n",
      "Action: emotion: 100%|███████████████████████████████████████████████████████████████████| 4/4 [00:00<00:00,  5.98it/s]\n",
      "Action: emotion: 100%|███████████████████████████████████████████████████████████████████| 4/4 [00:00<00:00,  5.87it/s]\n",
      "Action: emotion: 100%|███████████████████████████████████████████████████████████████████| 4/4 [00:00<00:00,  5.90it/s]\n",
      "Action: emotion: 100%|███████████████████████████████████████████████████████████████████| 4/4 [00:00<00:00,  5.84it/s]\n",
      "Action: emotion: 100%|███████████████████████████████████████████████████████████████████| 4/4 [00:00<00:00,  5.84it/s]\n",
      "Action: emotion: 100%|███████████████████████████████████████████████████████████████████| 4/4 [00:00<00:00,  5.89it/s]"
     ]
    },
    {
     "name": "stdout",
     "output_type": "stream",
     "text": [
      "happy\n"
     ]
    },
    {
     "name": "stderr",
     "output_type": "stream",
     "text": [
      "\n"
     ]
    }
   ],
   "source": [
    "###from IPython.display import JSON #uncomment in case of an error\n",
    "from deepface import DeepFace # to work with faces\n",
    "from collections import Counter\n",
    "list_frames_emotions = []\n",
    "\n",
    "from pathlib import Path\n",
    "video_frames_path = Path(r'C:\\Users\\Olia\\Desktop\\Lips Reading\\Day4(Video to Emotion)\\Data\\Frames\\Video 00008')\n",
    "\n",
    "import os\n",
    "os.chdir(video_frames_path)\n",
    "\n",
    "# Get all the files in a directory\n",
    "import glob\n",
    "\n",
    "video_frames = glob.glob(\"./*\")\n",
    "# identifying the emotion of chosen frame in the video and save them in a list\n",
    "for picture in video_frames:\n",
    "\n",
    "    objs = DeepFace.analyze(picture, actions = ['age', 'gender', 'race', 'emotion'], enforce_detection = False)\n",
    "    #print(objs[0]['emotion'])\n",
    "    emotion = objs[0][\"emotion\"]\n",
    "    most_prob_emotions = max(emotion, key=emotion.get)\n",
    "    list_frames_emotions.append(most_prob_emotions)\n",
    "    \n",
    "# counting the number each emotion is present in the list and identifying the most frequent one\n",
    "emotions_count = Counter(list_frames_emotions)\n",
    "mode = emotions_count.most_common(1)\n",
    "\n",
    "# in case several emotions have the same high friquency, take the fisrt two\n",
    "if len(mode) > 1:\n",
    "    mode, _ = mode[0]\n",
    "    print(mode[0][0], mode[1][0])\n",
    "else:\n",
    "    print(mode[0][0])"
   ]
  },
  {
   "cell_type": "markdown",
   "metadata": {},
   "source": [
    "### Empty the folder with frames"
   ]
  },
  {
   "cell_type": "code",
   "execution_count": 16,
   "metadata": {},
   "outputs": [],
   "source": [
    "# get a list of all the files in the folder\n",
    "  #folder = \n",
    "files = os.listdir(video_frames_path)\n",
    "for file in files:\n",
    "    file_path = os.path.join(video_frames_path, file)\n",
    "    os.remove(file_path)"
   ]
  },
  {
   "cell_type": "code",
   "execution_count": null,
   "metadata": {},
   "outputs": [],
   "source": []
  }
 ],
 "metadata": {
  "colab": {
   "provenance": []
  },
  "kernelspec": {
   "display_name": "Python 3 (ipykernel)",
   "language": "python",
   "name": "python3"
  },
  "language_info": {
   "codemirror_mode": {
    "name": "ipython",
    "version": 3
   },
   "file_extension": ".py",
   "mimetype": "text/x-python",
   "name": "python",
   "nbconvert_exporter": "python",
   "pygments_lexer": "ipython3",
   "version": "3.9.12"
  }
 },
 "nbformat": 4,
 "nbformat_minor": 4
}
